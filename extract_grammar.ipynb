{
 "cells": [
  {
   "cell_type": "markdown",
   "id": "64eb0818",
   "metadata": {},
   "source": [
    "# Import libs"
   ]
  },
  {
   "cell_type": "code",
   "execution_count": 1,
   "id": "a63ad8b1",
   "metadata": {},
   "outputs": [
    {
     "name": "stderr",
     "output_type": "stream",
     "text": [
      "/home/victoru/docs/ontonotesv5-extract-cfg/.venv/lib/python3.12/site-packages/tqdm/auto.py:21: TqdmWarning: IProgress not found. Please update jupyter and ipywidgets. See https://ipywidgets.readthedocs.io/en/stable/user_install.html\n",
      "  from .autonotebook import tqdm as notebook_tqdm\n"
     ]
    }
   ],
   "source": [
    "import multiprocessing\n",
    "import pandas as pd\n",
    "\n",
    "from datasets import load_dataset, concatenate_datasets\n",
    "from nltk.tree import Tree\n",
    "from nltk.grammar import Nonterminal\n",
    "\n",
    "from typing import Dict, Optional, List\n",
    "\n",
    "from tqdm import tqdm\n",
    "\n",
    "from copy import deepcopy\n",
    "\n",
    "from collections import defaultdict"
   ]
  },
  {
   "cell_type": "code",
   "execution_count": 2,
   "id": "f6119556",
   "metadata": {},
   "outputs": [],
   "source": [
    "pd.set_option('display.max_rows', 500)\n",
    "pd.set_option('display.max_columns', 500)"
   ]
  },
  {
   "cell_type": "markdown",
   "id": "3201d8be",
   "metadata": {},
   "source": [
    "# Load dataset"
   ]
  },
  {
   "cell_type": "code",
   "execution_count": 3,
   "id": "591a3832",
   "metadata": {},
   "outputs": [],
   "source": [
    "ontonotes = load_dataset('conll2012_ontonotesv5', 'english_v12', cache_dir='.cache')"
   ]
  },
  {
   "cell_type": "code",
   "execution_count": 4,
   "id": "6a19c70d",
   "metadata": {},
   "outputs": [
    {
     "data": {
      "text/plain": [
       "DatasetDict({\n",
       "    train: Dataset({\n",
       "        features: ['document_id', 'sentences'],\n",
       "        num_rows: 10539\n",
       "    })\n",
       "    validation: Dataset({\n",
       "        features: ['document_id', 'sentences'],\n",
       "        num_rows: 1370\n",
       "    })\n",
       "    test: Dataset({\n",
       "        features: ['document_id', 'sentences'],\n",
       "        num_rows: 1200\n",
       "    })\n",
       "})"
      ]
     },
     "execution_count": 4,
     "metadata": {},
     "output_type": "execute_result"
    }
   ],
   "source": [
    "ontonotes"
   ]
  },
  {
   "cell_type": "code",
   "execution_count": 5,
   "id": "39303e07",
   "metadata": {},
   "outputs": [
    {
     "data": {
      "text/plain": [
       "Dataset({\n",
       "    features: ['document_id', 'sentences'],\n",
       "    num_rows: 13109\n",
       "})"
      ]
     },
     "execution_count": 5,
     "metadata": {},
     "output_type": "execute_result"
    }
   ],
   "source": [
    "ontonotes = concatenate_datasets([ontonotes['train'], ontonotes['validation'], ontonotes['test']])\n",
    "ontonotes"
   ]
  },
  {
   "cell_type": "markdown",
   "id": "4f761ef5",
   "metadata": {},
   "source": [
    "# Preprocess trees"
   ]
  },
  {
   "cell_type": "markdown",
   "id": "3b51e5e6",
   "metadata": {},
   "source": [
    "## Extract trees"
   ]
  },
  {
   "cell_type": "code",
   "execution_count": 6,
   "id": "cf2f457f",
   "metadata": {},
   "outputs": [
    {
     "name": "stderr",
     "output_type": "stream",
     "text": [
      "100%|██████████| 13109/13109 [00:21<00:00, 614.93it/s] \n"
     ]
    }
   ],
   "source": [
    "ontn_sentc_tree = []\n",
    "\n",
    "for documents in tqdm(ontonotes):\n",
    "    for sentence in documents['sentences']:\n",
    "        if sentence['parse_tree'] is not None:\n",
    "            ontn_sentc_tree.append({'parse_tree': sentence['parse_tree'], 'words': sentence['words']})"
   ]
  },
  {
   "cell_type": "code",
   "execution_count": 7,
   "id": "82ea9875",
   "metadata": {},
   "outputs": [
    {
     "data": {
      "text/plain": [
       "137036"
      ]
     },
     "execution_count": 7,
     "metadata": {},
     "output_type": "execute_result"
    }
   ],
   "source": [
    "len(ontn_sentc_tree)"
   ]
  },
  {
   "cell_type": "markdown",
   "id": "52d14f38",
   "metadata": {},
   "source": [
    "## Find rare top cases"
   ]
  },
  {
   "cell_type": "code",
   "execution_count": 8,
   "id": "7cf1ad9b",
   "metadata": {},
   "outputs": [
    {
     "name": "stderr",
     "output_type": "stream",
     "text": [
      "100%|██████████| 137036/137036 [00:11<00:00, 11817.83it/s]\n"
     ]
    },
    {
     "data": {
      "text/plain": [
       "{'TOP -> SBARQ': 2238,\n",
       " 'TOP -> S': 115580,\n",
       " 'TOP -> NP': 3662,\n",
       " 'TOP -> SINV': 2560,\n",
       " 'TOP -> INTJ': 4711,\n",
       " 'TOP -> SQ': 2233,\n",
       " 'TOP -> X': 329,\n",
       " 'TOP -> SBAR': 486,\n",
       " 'TOP -> FRAG': 4065,\n",
       " 'TOP -> VP': 63,\n",
       " 'TOP -> ADVP': 229,\n",
       " 'TOP -> PP': 218,\n",
       " 'TOP -> ADJP': 212,\n",
       " 'TOP -> WHADVP': 2,\n",
       " 'TOP -> WHNP': 12,\n",
       " 'TOP -> UCP': 135,\n",
       " 'TOP -> META': 227,\n",
       " 'TOP -> S .': 7,\n",
       " 'TOP -> PRN': 31,\n",
       " 'TOP -> LST': 10,\n",
       " 'TOP -> .': 4,\n",
       " 'TOP -> ,': 1,\n",
       " 'TOP -> `` S': 15,\n",
       " 'TOP -> PP .': 1,\n",
       " 'TOP -> SINV .': 1,\n",
       " 'TOP -> SQ .': 1,\n",
       " 'TOP -> WHADJP': 3}"
      ]
     },
     "execution_count": 8,
     "metadata": {},
     "output_type": "execute_result"
    }
   ],
   "source": [
    "top_prods_dict = dict()\n",
    "for elem in tqdm(ontn_sentc_tree):\n",
    "    tree = Tree.fromstring(elem['parse_tree'])\n",
    "    top_prod = str(tree.productions()[0])\n",
    "    if top_prod in top_prods_dict.keys():\n",
    "        top_prods_dict[top_prod] += 1\n",
    "    else:\n",
    "        top_prods_dict[top_prod] = 1\n",
    "top_prods_dict"
   ]
  },
  {
   "cell_type": "code",
   "execution_count": 9,
   "id": "d19d5d99",
   "metadata": {},
   "outputs": [
    {
     "name": "stdout",
     "output_type": "stream",
     "text": [
      "['TOP -> S', 'TOP -> INTJ', 'TOP -> FRAG', 'TOP -> NP', 'TOP -> SINV', 'TOP -> SBARQ', 'TOP -> SQ', 'TOP -> SBAR']\n"
     ]
    }
   ],
   "source": [
    "top_prods = pd.Series(top_prods_dict, name='N').to_frame()\n",
    "top_prods['frac'] = top_prods['N'] / len(ontn_sentc_tree)\n",
    "top_prods = top_prods.sort_values('frac', ascending=False)\n",
    "mask = top_prods['frac'] > 0.003\n",
    "available_top_prods = top_prods[mask].index.to_list()\n",
    "print(available_top_prods)"
   ]
  },
  {
   "cell_type": "code",
   "execution_count": 10,
   "id": "22690424",
   "metadata": {},
   "outputs": [
    {
     "data": {
      "text/plain": [
       "['TOP -> S',\n",
       " 'TOP -> INTJ',\n",
       " 'TOP -> FRAG',\n",
       " 'TOP -> NP',\n",
       " 'TOP -> SINV',\n",
       " 'TOP -> SBARQ',\n",
       " 'TOP -> SQ',\n",
       " 'TOP -> SBAR']"
      ]
     },
     "execution_count": 10,
     "metadata": {},
     "output_type": "execute_result"
    }
   ],
   "source": [
    "available_top_prods"
   ]
  },
  {
   "cell_type": "markdown",
   "id": "0a0b19a5",
   "metadata": {},
   "source": [
    "## Delete rare top cases"
   ]
  },
  {
   "cell_type": "code",
   "execution_count": 11,
   "id": "3a8e0ade",
   "metadata": {},
   "outputs": [
    {
     "name": "stdout",
     "output_type": "stream",
     "text": [
      "137036\n"
     ]
    }
   ],
   "source": [
    "print(len(ontn_sentc_tree))"
   ]
  },
  {
   "cell_type": "code",
   "execution_count": 12,
   "id": "6ee16402",
   "metadata": {},
   "outputs": [
    {
     "name": "stderr",
     "output_type": "stream",
     "text": [
      "100%|██████████| 137036/137036 [00:11<00:00, 11827.36it/s]\n"
     ]
    }
   ],
   "source": [
    "ontn_sentc_tree_prc0 = []\n",
    "for elem in tqdm(ontn_sentc_tree):\n",
    "    tree = Tree.fromstring(elem['parse_tree'])\n",
    "    top_prod = str(tree.productions()[0])\n",
    "    if top_prod in available_top_prods:\n",
    "        ontn_sentc_tree_prc0.append(elem)"
   ]
  },
  {
   "cell_type": "code",
   "execution_count": 13,
   "id": "f3183359",
   "metadata": {},
   "outputs": [
    {
     "name": "stdout",
     "output_type": "stream",
     "text": [
      "135535\n"
     ]
    }
   ],
   "source": [
    "print(len(ontn_sentc_tree_prc0))"
   ]
  },
  {
   "cell_type": "markdown",
   "id": "982e5065",
   "metadata": {},
   "source": [
    "## Delete rare productions"
   ]
  },
  {
   "cell_type": "markdown",
   "id": "db743c5c",
   "metadata": {},
   "source": [
    "### Extract rare DT cases"
   ]
  },
  {
   "cell_type": "code",
   "execution_count": 14,
   "id": "c1e8f0e3",
   "metadata": {},
   "outputs": [],
   "source": [
    "def extract_all_spec_substring(s: str, start_token: str, end_token: str = ')') -> List[Optional[str]]:\n",
    "    results = []\n",
    "    start = 0\n",
    "    while True:\n",
    "        start_pos = s.find(start_token, start)\n",
    "        if start_pos == -1:\n",
    "            break\n",
    "        end_pos = s.find(end_token, start_pos + len(start_token))\n",
    "        if end_pos != -1:\n",
    "            substring = s[start_pos: end_pos + 1]\n",
    "            results.append(substring)\n",
    "        start = start_pos + 1\n",
    "    return results"
   ]
  },
  {
   "cell_type": "code",
   "execution_count": 15,
   "id": "5d501ad2",
   "metadata": {},
   "outputs": [
    {
     "data": {
      "text/html": [
       "<div>\n",
       "<style scoped>\n",
       "    .dataframe tbody tr th:only-of-type {\n",
       "        vertical-align: middle;\n",
       "    }\n",
       "\n",
       "    .dataframe tbody tr th {\n",
       "        vertical-align: top;\n",
       "    }\n",
       "\n",
       "    .dataframe thead th {\n",
       "        text-align: right;\n",
       "    }\n",
       "</style>\n",
       "<table border=\"1\" class=\"dataframe\">\n",
       "  <thead>\n",
       "    <tr style=\"text-align: right;\">\n",
       "      <th></th>\n",
       "      <th>(DT the)</th>\n",
       "      <th>(DT a)</th>\n",
       "      <th>(DT The)</th>\n",
       "      <th>(DT this)</th>\n",
       "      <th>(DT an)</th>\n",
       "      <th>(DT that)</th>\n",
       "      <th>(DT some)</th>\n",
       "      <th>(DT all)</th>\n",
       "      <th>(DT these)</th>\n",
       "      <th>(DT This)</th>\n",
       "      <th>(DT those)</th>\n",
       "      <th>(DT no)</th>\n",
       "      <th>(DT any)</th>\n",
       "      <th>(DT A)</th>\n",
       "      <th>(DT That)</th>\n",
       "      <th>(DT another)</th>\n",
       "      <th>(DT each)</th>\n",
       "      <th>(DT every)</th>\n",
       "      <th>(DT both)</th>\n",
       "      <th>(DT Some)</th>\n",
       "      <th>(DT These)</th>\n",
       "      <th>(DT No)</th>\n",
       "      <th>(DT All)</th>\n",
       "      <th>(DT An)</th>\n",
       "      <th>(DT Those)</th>\n",
       "      <th>(DT Another)</th>\n",
       "      <th>(DT Both)</th>\n",
       "      <th>(DT Each)</th>\n",
       "      <th>(DT Every)</th>\n",
       "      <th>(DT either)</th>\n",
       "      <th>(DT Any)</th>\n",
       "      <th>(DT THE)</th>\n",
       "      <th>(DT neither)</th>\n",
       "      <th>(DT half)</th>\n",
       "      <th>(DT Neither)</th>\n",
       "      <th>(DT many)</th>\n",
       "      <th>(DT ALL)</th>\n",
       "      <th>(DT several)</th>\n",
       "      <th>(DT AN)</th>\n",
       "      <th>(DT such)</th>\n",
       "      <th>(DT Either)</th>\n",
       "      <th>(DT them)</th>\n",
       "      <th>(DT ANY)</th>\n",
       "      <th>(DT th-)</th>\n",
       "      <th>(DT tha-)</th>\n",
       "      <th>(DT he)</th>\n",
       "      <th>(DT NO)</th>\n",
       "      <th>(DT del)</th>\n",
       "      <th>(DT la)</th>\n",
       "      <th>(DT and)</th>\n",
       "      <th>(DT Many)</th>\n",
       "      <th>(DT new)</th>\n",
       "      <th>(DT yours)</th>\n",
       "      <th>(DT Anshe)</th>\n",
       "      <th>(DT No.)</th>\n",
       "      <th>(DT Half)</th>\n",
       "      <th>(DT nary)</th>\n",
       "      <th>(DT '99)</th>\n",
       "      <th>(DT {the?})</th>\n",
       "      <th>(DT al)</th>\n",
       "      <th>(DT {a})</th>\n",
       "      <th>(DT whatever)</th>\n",
       "      <th>(DT Not)</th>\n",
       "      <th>(DT most)</th>\n",
       "      <th>(DT production)</th>\n",
       "      <th>(DT 30,000)</th>\n",
       "      <th>(DT comparatively)</th>\n",
       "      <th>(DT THOSE)</th>\n",
       "      <th>(DT BOTH)</th>\n",
       "      <th>(DT 1/6)</th>\n",
       "      <th>(DT ten)</th>\n",
       "      <th>(DT a-)</th>\n",
       "      <th>(DT the-)</th>\n",
       "      <th>(DT an-)</th>\n",
       "      <th>(DT &amp;the)</th>\n",
       "      <th>(DT tho-)</th>\n",
       "      <th>(DT al-)</th>\n",
       "      <th>(DT ●The)</th>\n",
       "      <th>(DT 1/3)</th>\n",
       "      <th>(DT i)</th>\n",
       "      <th>(DT _that_)</th>\n",
       "      <th>(DT EVERY)</th>\n",
       "      <th>(DT thislast)</th>\n",
       "      <th>(DT outlaws)</th>\n",
       "      <th>(DT gold)</th>\n",
       "      <th>(DT le)</th>\n",
       "      <th>(DT anoth-)</th>\n",
       "      <th>(DT Thomas)</th>\n",
       "      <th>(DT China)</th>\n",
       "      <th>(DT to)</th>\n",
       "      <th>(DT email)</th>\n",
       "      <th>(DT Dis)</th>\n",
       "      <th>(DT Dat)</th>\n",
       "      <th>(DT THAT)</th>\n",
       "      <th>(DT now)</th>\n",
       "    </tr>\n",
       "  </thead>\n",
       "  <tbody>\n",
       "    <tr>\n",
       "      <th>N</th>\n",
       "      <td>120502</td>\n",
       "      <td>41633</td>\n",
       "      <td>14776</td>\n",
       "      <td>9709</td>\n",
       "      <td>6644</td>\n",
       "      <td>6116</td>\n",
       "      <td>3454</td>\n",
       "      <td>3115</td>\n",
       "      <td>2410</td>\n",
       "      <td>2314</td>\n",
       "      <td>2240</td>\n",
       "      <td>2229</td>\n",
       "      <td>1989</td>\n",
       "      <td>1856</td>\n",
       "      <td>1484</td>\n",
       "      <td>1090</td>\n",
       "      <td>974</td>\n",
       "      <td>891</td>\n",
       "      <td>750</td>\n",
       "      <td>642</td>\n",
       "      <td>600</td>\n",
       "      <td>291</td>\n",
       "      <td>279</td>\n",
       "      <td>275</td>\n",
       "      <td>223</td>\n",
       "      <td>153</td>\n",
       "      <td>149</td>\n",
       "      <td>122</td>\n",
       "      <td>117</td>\n",
       "      <td>64</td>\n",
       "      <td>59</td>\n",
       "      <td>42</td>\n",
       "      <td>38</td>\n",
       "      <td>37</td>\n",
       "      <td>23</td>\n",
       "      <td>22</td>\n",
       "      <td>8</td>\n",
       "      <td>8</td>\n",
       "      <td>8</td>\n",
       "      <td>7</td>\n",
       "      <td>7</td>\n",
       "      <td>6</td>\n",
       "      <td>3</td>\n",
       "      <td>3</td>\n",
       "      <td>3</td>\n",
       "      <td>3</td>\n",
       "      <td>3</td>\n",
       "      <td>2</td>\n",
       "      <td>2</td>\n",
       "      <td>2</td>\n",
       "      <td>2</td>\n",
       "      <td>2</td>\n",
       "      <td>1</td>\n",
       "      <td>1</td>\n",
       "      <td>1</td>\n",
       "      <td>1</td>\n",
       "      <td>1</td>\n",
       "      <td>1</td>\n",
       "      <td>1</td>\n",
       "      <td>1</td>\n",
       "      <td>1</td>\n",
       "      <td>1</td>\n",
       "      <td>1</td>\n",
       "      <td>1</td>\n",
       "      <td>1</td>\n",
       "      <td>1</td>\n",
       "      <td>1</td>\n",
       "      <td>1</td>\n",
       "      <td>1</td>\n",
       "      <td>1</td>\n",
       "      <td>1</td>\n",
       "      <td>1</td>\n",
       "      <td>1</td>\n",
       "      <td>1</td>\n",
       "      <td>1</td>\n",
       "      <td>1</td>\n",
       "      <td>1</td>\n",
       "      <td>1</td>\n",
       "      <td>1</td>\n",
       "      <td>1</td>\n",
       "      <td>1</td>\n",
       "      <td>1</td>\n",
       "      <td>1</td>\n",
       "      <td>1</td>\n",
       "      <td>1</td>\n",
       "      <td>1</td>\n",
       "      <td>1</td>\n",
       "      <td>1</td>\n",
       "      <td>1</td>\n",
       "      <td>1</td>\n",
       "      <td>1</td>\n",
       "      <td>1</td>\n",
       "      <td>1</td>\n",
       "      <td>1</td>\n",
       "      <td>1</td>\n",
       "    </tr>\n",
       "  </tbody>\n",
       "</table>\n",
       "</div>"
      ],
      "text/plain": [
       "   (DT the)  (DT a)  (DT The)  (DT this)  (DT an)  (DT that)  (DT some)  \\\n",
       "N    120502   41633     14776       9709     6644       6116       3454   \n",
       "\n",
       "   (DT all)  (DT these)  (DT This)  (DT those)  (DT no)  (DT any)  (DT A)  \\\n",
       "N      3115        2410       2314        2240     2229      1989    1856   \n",
       "\n",
       "   (DT That)  (DT another)  (DT each)  (DT every)  (DT both)  (DT Some)  \\\n",
       "N       1484          1090        974         891        750        642   \n",
       "\n",
       "   (DT These)  (DT No)  (DT All)  (DT An)  (DT Those)  (DT Another)  \\\n",
       "N         600      291       279      275         223           153   \n",
       "\n",
       "   (DT Both)  (DT Each)  (DT Every)  (DT either)  (DT Any)  (DT THE)  \\\n",
       "N        149        122         117           64        59        42   \n",
       "\n",
       "   (DT neither)  (DT half)  (DT Neither)  (DT many)  (DT ALL)  (DT several)  \\\n",
       "N            38         37            23         22         8             8   \n",
       "\n",
       "   (DT AN)  (DT such)  (DT Either)  (DT them)  (DT ANY)  (DT th-)  (DT tha-)  \\\n",
       "N        8          7            7          6         3         3          3   \n",
       "\n",
       "   (DT he)  (DT NO)  (DT del)  (DT la)  (DT and)  (DT Many)  (DT new)  \\\n",
       "N        3        3         2        2         2          2         2   \n",
       "\n",
       "   (DT yours)  (DT Anshe)  (DT No.)  (DT Half)  (DT nary)  (DT '99)  \\\n",
       "N           1           1         1          1          1         1   \n",
       "\n",
       "   (DT {the?})  (DT al)  (DT {a})  (DT whatever)  (DT Not)  (DT most)  \\\n",
       "N            1        1         1              1         1          1   \n",
       "\n",
       "   (DT production)  (DT 30,000)  (DT comparatively)  (DT THOSE)  (DT BOTH)  \\\n",
       "N                1            1                   1           1          1   \n",
       "\n",
       "   (DT 1/6)  (DT ten)  (DT a-)  (DT the-)  (DT an-)  (DT &the)  (DT tho-)  \\\n",
       "N         1         1        1          1         1          1          1   \n",
       "\n",
       "   (DT al-)  (DT ●The)  (DT 1/3)  (DT i)  (DT _that_)  (DT EVERY)  \\\n",
       "N         1          1         1       1            1           1   \n",
       "\n",
       "   (DT thislast)  (DT outlaws)  (DT gold)  (DT le)  (DT anoth-)  (DT Thomas)  \\\n",
       "N              1             1          1        1            1            1   \n",
       "\n",
       "   (DT China)  (DT to)  (DT email)  (DT Dis)  (DT Dat)  (DT THAT)  (DT now)  \n",
       "N           1        1           1         1         1          1         1  "
      ]
     },
     "metadata": {},
     "output_type": "display_data"
    }
   ],
   "source": [
    "dt_nt = dict()\n",
    "for i, sent in enumerate(ontn_sentc_tree_prc0):\n",
    "    substr = '(DT'\n",
    "    if substr in sent['parse_tree']:\n",
    "        extractions = extract_all_spec_substring(sent['parse_tree'], substr)\n",
    "        for extraction in extractions:\n",
    "            if extraction in dt_nt.keys():\n",
    "                dt_nt[extraction] += 1\n",
    "            else:\n",
    "                dt_nt[extraction] = 1\n",
    "dt_nt = pd.Series(dt_nt, name='N').to_frame()\n",
    "dt_nt = dt_nt.sort_values('N', ascending=False)\n",
    "display(dt_nt.T)\n",
    "del_dt = dt_nt[dt_nt['N'] <= 22].index.to_list()"
   ]
  },
  {
   "cell_type": "markdown",
   "id": "3096a6cb",
   "metadata": {},
   "source": [
    "### Delete rare DT cases"
   ]
  },
  {
   "cell_type": "code",
   "execution_count": 16,
   "id": "91e15f76",
   "metadata": {},
   "outputs": [
    {
     "data": {
      "text/plain": [
       "135535"
      ]
     },
     "execution_count": 16,
     "metadata": {},
     "output_type": "execute_result"
    }
   ],
   "source": [
    "len(ontn_sentc_tree_prc0)"
   ]
  },
  {
   "cell_type": "code",
   "execution_count": 17,
   "id": "9b8fe896",
   "metadata": {},
   "outputs": [],
   "source": [
    "def has_substring(input_str: str, substrings: List[str]) -> bool:\n",
    "    return any(s in input_str for s in substrings)"
   ]
  },
  {
   "cell_type": "code",
   "execution_count": 18,
   "id": "1deeef8b",
   "metadata": {},
   "outputs": [],
   "source": [
    "ontn_sentc_tree_prc1 = []\n",
    "for i, sent in enumerate(ontn_sentc_tree_prc0):\n",
    "    if not has_substring(sent['parse_tree'], del_dt):\n",
    "        ontn_sentc_tree_prc1.append(sent)"
   ]
  },
  {
   "cell_type": "code",
   "execution_count": 19,
   "id": "cfbb56e4",
   "metadata": {},
   "outputs": [
    {
     "data": {
      "text/plain": [
       "135404"
      ]
     },
     "execution_count": 19,
     "metadata": {},
     "output_type": "execute_result"
    }
   ],
   "source": [
    "len(ontn_sentc_tree_prc1)"
   ]
  },
  {
   "cell_type": "markdown",
   "id": "cf014e08",
   "metadata": {},
   "source": [
    "### Extract rare Punctuation"
   ]
  },
  {
   "cell_type": "code",
   "execution_count": 20,
   "id": "c4b7f8a4",
   "metadata": {},
   "outputs": [
    {
     "data": {
      "text/html": [
       "<div>\n",
       "<style scoped>\n",
       "    .dataframe tbody tr th:only-of-type {\n",
       "        vertical-align: middle;\n",
       "    }\n",
       "\n",
       "    .dataframe tbody tr th {\n",
       "        vertical-align: top;\n",
       "    }\n",
       "\n",
       "    .dataframe thead th {\n",
       "        text-align: right;\n",
       "    }\n",
       "</style>\n",
       "<table border=\"1\" class=\"dataframe\">\n",
       "  <thead>\n",
       "    <tr style=\"text-align: right;\">\n",
       "      <th></th>\n",
       "      <th>(: :)</th>\n",
       "      <th>(: --)</th>\n",
       "      <th>(: ;)</th>\n",
       "      <th>(: -)</th>\n",
       "      <th>(: ...)</th>\n",
       "      <th>(: /)</th>\n",
       "      <th>(: ')</th>\n",
       "      <th>(: ,)</th>\n",
       "      <th>(: ---)</th>\n",
       "      <th>(: !)</th>\n",
       "      <th>(: ：)</th>\n",
       "      <th>(: ------)</th>\n",
       "    </tr>\n",
       "  </thead>\n",
       "  <tbody>\n",
       "    <tr>\n",
       "      <th>N</th>\n",
       "      <td>3271</td>\n",
       "      <td>3271</td>\n",
       "      <td>2012</td>\n",
       "      <td>532</td>\n",
       "      <td>289</td>\n",
       "      <td>36</td>\n",
       "      <td>5</td>\n",
       "      <td>2</td>\n",
       "      <td>2</td>\n",
       "      <td>1</td>\n",
       "      <td>1</td>\n",
       "      <td>1</td>\n",
       "    </tr>\n",
       "  </tbody>\n",
       "</table>\n",
       "</div>"
      ],
      "text/plain": [
       "   (: :)  (: --)  (: ;)  (: -)  (: ...)  (: /)  (: ')  (: ,)  (: ---)  (: !)  \\\n",
       "N   3271    3271   2012    532      289     36      5      2        2      1   \n",
       "\n",
       "   (: ：)  (: ------)  \n",
       "N      1           1  "
      ]
     },
     "metadata": {},
     "output_type": "display_data"
    },
    {
     "data": {
      "text/plain": [
       "['(: ...)',\n",
       " '(: /)',\n",
       " \"(: ')\",\n",
       " '(: ,)',\n",
       " '(: ---)',\n",
       " '(: !)',\n",
       " '(: ：)',\n",
       " '(: ------)']"
      ]
     },
     "execution_count": 20,
     "metadata": {},
     "output_type": "execute_result"
    }
   ],
   "source": [
    "pn_nt = dict()\n",
    "for i, sent in enumerate(ontn_sentc_tree_prc1):\n",
    "    substr = '(:'\n",
    "    if substr in sent['parse_tree']:\n",
    "        extractions = extract_all_spec_substring(sent['parse_tree'], substr)\n",
    "        for extraction in extractions:\n",
    "            if extraction in pn_nt.keys():\n",
    "                pn_nt[extraction] += 1\n",
    "            else:\n",
    "                pn_nt[extraction] = 1\n",
    "pn_nt = pd.Series(pn_nt, name='N').to_frame()\n",
    "pn_nt = pn_nt.sort_values('N', ascending=False)\n",
    "display(pn_nt.head(60).T)\n",
    "del_pnct = pn_nt[pn_nt['N'] <= 289].index.to_list()\n",
    "del_pnct"
   ]
  },
  {
   "cell_type": "markdown",
   "id": "233fcf49",
   "metadata": {},
   "source": [
    "### Delete rare punctuation"
   ]
  },
  {
   "cell_type": "code",
   "execution_count": 21,
   "id": "43d452e2",
   "metadata": {},
   "outputs": [
    {
     "data": {
      "text/plain": [
       "135404"
      ]
     },
     "execution_count": 21,
     "metadata": {},
     "output_type": "execute_result"
    }
   ],
   "source": [
    "len(ontn_sentc_tree_prc1)"
   ]
  },
  {
   "cell_type": "code",
   "execution_count": 22,
   "id": "67c569d9",
   "metadata": {},
   "outputs": [],
   "source": [
    "ontn_sentc_tree_prc2 = []\n",
    "for i, sent in enumerate(ontn_sentc_tree_prc1):\n",
    "    if not has_substring(sent['parse_tree'], del_pnct):\n",
    "        ontn_sentc_tree_prc2.append(sent)"
   ]
  },
  {
   "cell_type": "code",
   "execution_count": 23,
   "id": "56cc295d",
   "metadata": {},
   "outputs": [
    {
     "data": {
      "text/plain": [
       "135096"
      ]
     },
     "execution_count": 23,
     "metadata": {},
     "output_type": "execute_result"
    }
   ],
   "source": [
    "len(ontn_sentc_tree_prc2)"
   ]
  },
  {
   "cell_type": "markdown",
   "id": "db7d5078",
   "metadata": {},
   "source": [
    "### Extract rare comma"
   ]
  },
  {
   "cell_type": "code",
   "execution_count": 24,
   "id": "a533c34b",
   "metadata": {},
   "outputs": [
    {
     "data": {
      "text/html": [
       "<div>\n",
       "<style scoped>\n",
       "    .dataframe tbody tr th:only-of-type {\n",
       "        vertical-align: middle;\n",
       "    }\n",
       "\n",
       "    .dataframe tbody tr th {\n",
       "        vertical-align: top;\n",
       "    }\n",
       "\n",
       "    .dataframe thead th {\n",
       "        text-align: right;\n",
       "    }\n",
       "</style>\n",
       "<table border=\"1\" class=\"dataframe\">\n",
       "  <thead>\n",
       "    <tr style=\"text-align: right;\">\n",
       "      <th></th>\n",
       "      <th>(, ,)</th>\n",
       "      <th>(, ;)</th>\n",
       "      <th>(, -)</th>\n",
       "      <th>(, .)</th>\n",
       "      <th>(, /)</th>\n",
       "      <th>(, ?)</th>\n",
       "      <th>(, !)</th>\n",
       "      <th>(, --)</th>\n",
       "      <th>(, :)</th>\n",
       "      <th>(, ...)</th>\n",
       "      <th>(, ---)</th>\n",
       "      <th>(, ??)</th>\n",
       "      <th>(, \")</th>\n",
       "      <th>(, television)</th>\n",
       "      <th>(, section)</th>\n",
       "      <th>(, 2)</th>\n",
       "      <th>(, ....)</th>\n",
       "      <th>(, ..)</th>\n",
       "      <th>(, !!!!)</th>\n",
       "      <th>(, Wa)</th>\n",
       "      <th>(, !!)</th>\n",
       "      <th>(, ?!)</th>\n",
       "    </tr>\n",
       "  </thead>\n",
       "  <tbody>\n",
       "    <tr>\n",
       "      <th>N</th>\n",
       "      <td>112168</td>\n",
       "      <td>316</td>\n",
       "      <td>292</td>\n",
       "      <td>151</td>\n",
       "      <td>82</td>\n",
       "      <td>63</td>\n",
       "      <td>33</td>\n",
       "      <td>19</td>\n",
       "      <td>14</td>\n",
       "      <td>7</td>\n",
       "      <td>4</td>\n",
       "      <td>3</td>\n",
       "      <td>2</td>\n",
       "      <td>1</td>\n",
       "      <td>1</td>\n",
       "      <td>1</td>\n",
       "      <td>1</td>\n",
       "      <td>1</td>\n",
       "      <td>1</td>\n",
       "      <td>1</td>\n",
       "      <td>1</td>\n",
       "      <td>1</td>\n",
       "    </tr>\n",
       "  </tbody>\n",
       "</table>\n",
       "</div>"
      ],
      "text/plain": [
       "    (, ,)  (, ;)  (, -)  (, .)  (, /)  (, ?)  (, !)  (, --)  (, :)  (, ...)  \\\n",
       "N  112168    316    292    151     82     63     33      19     14        7   \n",
       "\n",
       "   (, ---)  (, ??)  (, \")  (, television)  (, section)  (, 2)  (, ....)  \\\n",
       "N        4       3      2               1            1      1         1   \n",
       "\n",
       "   (, ..)  (, !!!!)  (, Wa)  (, !!)  (, ?!)  \n",
       "N       1         1       1       1       1  "
      ]
     },
     "metadata": {},
     "output_type": "display_data"
    },
    {
     "name": "stdout",
     "output_type": "stream",
     "text": [
      "['(, ;)', '(, -)', '(, .)', '(, /)', '(, ?)', '(, !)', '(, --)', '(, :)', '(, ...)', '(, ---)', '(, ??)', '(, \")', '(, television)', '(, section)', '(, 2)', '(, ....)', '(, ..)', '(, !!!!)', '(, Wa)', '(, !!)', '(, ?!)']\n"
     ]
    }
   ],
   "source": [
    "comma_nt = dict()\n",
    "for i, sent in enumerate(ontn_sentc_tree_prc2):\n",
    "    substr = '(,'\n",
    "    if substr in sent['parse_tree']:\n",
    "        extractions = extract_all_spec_substring(sent['parse_tree'], substr)\n",
    "        for extraction in extractions:\n",
    "            if extraction in comma_nt.keys():\n",
    "                comma_nt[extraction] += 1\n",
    "            else:\n",
    "                comma_nt[extraction] = 1\n",
    "comma_nt = pd.Series(comma_nt, name='N').to_frame()\n",
    "comma_nt = comma_nt.sort_values('N', ascending=False)\n",
    "display(comma_nt.head(60).T)\n",
    "del_comma = comma_nt[comma_nt['N'] <= 316].index.to_list()\n",
    "print(del_comma)"
   ]
  },
  {
   "cell_type": "markdown",
   "id": "cb8220bf",
   "metadata": {},
   "source": [
    "### Delete rare comma"
   ]
  },
  {
   "cell_type": "code",
   "execution_count": 25,
   "id": "38f48d8c",
   "metadata": {},
   "outputs": [
    {
     "data": {
      "text/plain": [
       "135096"
      ]
     },
     "execution_count": 25,
     "metadata": {},
     "output_type": "execute_result"
    }
   ],
   "source": [
    "len(ontn_sentc_tree_prc2)"
   ]
  },
  {
   "cell_type": "code",
   "execution_count": 26,
   "id": "5d4def66",
   "metadata": {},
   "outputs": [],
   "source": [
    "ontn_sentc_tree_prc3 = []\n",
    "for i, sent in enumerate(ontn_sentc_tree_prc2):\n",
    "    if not has_substring(sent['parse_tree'], del_comma):\n",
    "        ontn_sentc_tree_prc3.append(sent)"
   ]
  },
  {
   "cell_type": "code",
   "execution_count": 27,
   "id": "d3e8cff3",
   "metadata": {},
   "outputs": [
    {
     "data": {
      "text/plain": [
       "134405"
      ]
     },
     "execution_count": 27,
     "metadata": {},
     "output_type": "execute_result"
    }
   ],
   "source": [
    "len(ontn_sentc_tree_prc3)"
   ]
  },
  {
   "cell_type": "markdown",
   "id": "83232613",
   "metadata": {},
   "source": [
    "### Extract rare dots"
   ]
  },
  {
   "cell_type": "code",
   "execution_count": 28,
   "id": "52f5a24f",
   "metadata": {},
   "outputs": [
    {
     "data": {
      "text/html": [
       "<div>\n",
       "<style scoped>\n",
       "    .dataframe tbody tr th:only-of-type {\n",
       "        vertical-align: middle;\n",
       "    }\n",
       "\n",
       "    .dataframe tbody tr th {\n",
       "        vertical-align: top;\n",
       "    }\n",
       "\n",
       "    .dataframe thead th {\n",
       "        text-align: right;\n",
       "    }\n",
       "</style>\n",
       "<table border=\"1\" class=\"dataframe\">\n",
       "  <thead>\n",
       "    <tr style=\"text-align: right;\">\n",
       "      <th></th>\n",
       "      <th>(. .)</th>\n",
       "      <th>(. /.)</th>\n",
       "      <th>(. ?)</th>\n",
       "      <th>(. !)</th>\n",
       "      <th>(. /?)</th>\n",
       "      <th>(. /-)</th>\n",
       "      <th>(. ...)</th>\n",
       "      <th>(. --)</th>\n",
       "      <th>(. ..)</th>\n",
       "      <th>(. ,)</th>\n",
       "      <th>(. :)</th>\n",
       "      <th>(. !!)</th>\n",
       "      <th>(. -)</th>\n",
       "      <th>(. ;)</th>\n",
       "      <th>(. ....)</th>\n",
       "      <th>(. !!!)</th>\n",
       "      <th>(. ???)</th>\n",
       "      <th>(. ??)</th>\n",
       "      <th>(. .....)</th>\n",
       "      <th>(. ?!)</th>\n",
       "      <th>(. !!!!)</th>\n",
       "      <th>(. !?)</th>\n",
       "      <th>(. !.)</th>\n",
       "      <th>(. ..!)</th>\n",
       "      <th>(. ......)</th>\n",
       "      <th>(. \")</th>\n",
       "      <th>(. .......)</th>\n",
       "      <th>(. ;.)</th>\n",
       "      <th>(. ..?)</th>\n",
       "      <th>(. ...!)</th>\n",
       "      <th>(. !!?)</th>\n",
       "      <th>(. !!??)</th>\n",
       "      <th>(. ?!!...)</th>\n",
       "      <th>(. /)</th>\n",
       "      <th>(. [E_S)</th>\n",
       "      <th>(. &lt;E_S)</th>\n",
       "      <th>(. ,,)</th>\n",
       "      <th>(. ..!!)</th>\n",
       "      <th>(. 0.)</th>\n",
       "      <th>(. !!!!!!!!!!!!!!!!)</th>\n",
       "      <th>(. !!.)</th>\n",
       "      <th>(. ?...)</th>\n",
       "      <th>(. ........)</th>\n",
       "      <th>(. ?!!!)</th>\n",
       "      <th>(. ?..)</th>\n",
       "      <th>(. ......................)</th>\n",
       "      <th>(. !!!!.)</th>\n",
       "      <th>(. ....?)</th>\n",
       "      <th>(. ?@@@...)</th>\n",
       "      <th>(. ..!!.)</th>\n",
       "      <th>(. !*)</th>\n",
       "      <th>(. ..!*)</th>\n",
       "      <th>(. ?!!)</th>\n",
       "      <th>(. .?)</th>\n",
       "      <th>(. .-)</th>\n",
       "      <th>(. ??.)</th>\n",
       "      <th>(. ?!.)</th>\n",
       "      <th>(. :.)</th>\n",
       "      <th>(. !!!!!)</th>\n",
       "      <th>(. !!!!!!!!)</th>\n",
       "    </tr>\n",
       "  </thead>\n",
       "  <tbody>\n",
       "    <tr>\n",
       "      <th>N</th>\n",
       "      <td>105935</td>\n",
       "      <td>9257</td>\n",
       "      <td>4798</td>\n",
       "      <td>1605</td>\n",
       "      <td>993</td>\n",
       "      <td>289</td>\n",
       "      <td>184</td>\n",
       "      <td>168</td>\n",
       "      <td>144</td>\n",
       "      <td>99</td>\n",
       "      <td>32</td>\n",
       "      <td>31</td>\n",
       "      <td>30</td>\n",
       "      <td>27</td>\n",
       "      <td>24</td>\n",
       "      <td>11</td>\n",
       "      <td>9</td>\n",
       "      <td>8</td>\n",
       "      <td>8</td>\n",
       "      <td>5</td>\n",
       "      <td>5</td>\n",
       "      <td>5</td>\n",
       "      <td>4</td>\n",
       "      <td>4</td>\n",
       "      <td>4</td>\n",
       "      <td>4</td>\n",
       "      <td>3</td>\n",
       "      <td>3</td>\n",
       "      <td>3</td>\n",
       "      <td>3</td>\n",
       "      <td>3</td>\n",
       "      <td>2</td>\n",
       "      <td>1</td>\n",
       "      <td>1</td>\n",
       "      <td>1</td>\n",
       "      <td>1</td>\n",
       "      <td>1</td>\n",
       "      <td>1</td>\n",
       "      <td>1</td>\n",
       "      <td>1</td>\n",
       "      <td>1</td>\n",
       "      <td>1</td>\n",
       "      <td>1</td>\n",
       "      <td>1</td>\n",
       "      <td>1</td>\n",
       "      <td>1</td>\n",
       "      <td>1</td>\n",
       "      <td>1</td>\n",
       "      <td>1</td>\n",
       "      <td>1</td>\n",
       "      <td>1</td>\n",
       "      <td>1</td>\n",
       "      <td>1</td>\n",
       "      <td>1</td>\n",
       "      <td>1</td>\n",
       "      <td>1</td>\n",
       "      <td>1</td>\n",
       "      <td>1</td>\n",
       "      <td>1</td>\n",
       "      <td>1</td>\n",
       "    </tr>\n",
       "  </tbody>\n",
       "</table>\n",
       "</div>"
      ],
      "text/plain": [
       "    (. .)  (. /.)  (. ?)  (. !)  (. /?)  (. /-)  (. ...)  (. --)  (. ..)  \\\n",
       "N  105935    9257   4798   1605     993     289      184     168     144   \n",
       "\n",
       "   (. ,)  (. :)  (. !!)  (. -)  (. ;)  (. ....)  (. !!!)  (. ???)  (. ??)  \\\n",
       "N     99     32      31     30     27        24       11        9       8   \n",
       "\n",
       "   (. .....)  (. ?!)  (. !!!!)  (. !?)  (. !.)  (. ..!)  (. ......)  (. \")  \\\n",
       "N          8       5         5       5       4        4           4      4   \n",
       "\n",
       "   (. .......)  (. ;.)  (. ..?)  (. ...!)  (. !!?)  (. !!??)  (. ?!!...)  \\\n",
       "N            3       3        3         3        3         2           1   \n",
       "\n",
       "   (. /)  (. [E_S)  (. <E_S)  (. ,,)  (. ..!!)  (. 0.)  (. !!!!!!!!!!!!!!!!)  \\\n",
       "N      1         1         1       1         1       1                     1   \n",
       "\n",
       "   (. !!.)  (. ?...)  (. ........)  (. ?!!!)  (. ?..)  \\\n",
       "N        1         1             1         1        1   \n",
       "\n",
       "   (. ......................)  (. !!!!.)  (. ....?)  (. ?@@@...)  (. ..!!.)  \\\n",
       "N                           1          1          1            1          1   \n",
       "\n",
       "   (. !*)  (. ..!*)  (. ?!!)  (. .?)  (. .-)  (. ??.)  (. ?!.)  (. :.)  \\\n",
       "N       1         1        1       1       1        1        1       1   \n",
       "\n",
       "   (. !!!!!)  (. !!!!!!!!)  \n",
       "N          1             1  "
      ]
     },
     "metadata": {},
     "output_type": "display_data"
    },
    {
     "name": "stdout",
     "output_type": "stream",
     "text": [
      "['(. --)', '(. ..)', '(. ,)', '(. :)', '(. !!)', '(. -)', '(. ;)', '(. ....)', '(. !!!)', '(. ???)', '(. ??)', '(. .....)', '(. ?!)', '(. !!!!)', '(. !?)', '(. !.)', '(. ..!)', '(. ......)', '(. \")', '(. .......)', '(. ;.)', '(. ..?)', '(. ...!)', '(. !!?)', '(. !!??)', '(. ?!!...)', '(. /)', '(. [E_S)', '(. <E_S)', '(. ,,)', '(. ..!!)', '(. 0.)', '(. !!!!!!!!!!!!!!!!)', '(. !!.)', '(. ?...)', '(. ........)', '(. ?!!!)', '(. ?..)', '(. ......................)', '(. !!!!.)', '(. ....?)', '(. ?@@@...)', '(. ..!!.)', '(. !*)', '(. ..!*)', '(. ?!!)', '(. .?)', '(. .-)', '(. ??.)', '(. ?!.)', '(. :.)', '(. !!!!!)', '(. !!!!!!!!)', '(. /-)']\n"
     ]
    }
   ],
   "source": [
    "dots_nt = dict()\n",
    "for i, sent in enumerate(ontn_sentc_tree_prc3):\n",
    "    substr = '(.'\n",
    "    if substr in sent['parse_tree']:\n",
    "        extractions = extract_all_spec_substring(sent['parse_tree'], substr)\n",
    "        for extraction in extractions:\n",
    "            if extraction in dots_nt.keys():\n",
    "                dots_nt[extraction] += 1\n",
    "            else:\n",
    "                dots_nt[extraction] = 1\n",
    "dots_nt = pd.Series(dots_nt, name='N').to_frame()\n",
    "dots_nt = dots_nt.sort_values('N', ascending=False)\n",
    "display(dots_nt.T)\n",
    "del_dots = dots_nt[dots_nt['N'] <= 168].index.to_list()\n",
    "del_dots.append('(. /-)')\n",
    "print(del_dots)"
   ]
  },
  {
   "cell_type": "markdown",
   "id": "ebd4384b",
   "metadata": {},
   "source": [
    "### Delete rare dots"
   ]
  },
  {
   "cell_type": "code",
   "execution_count": 29,
   "id": "5c777309",
   "metadata": {},
   "outputs": [
    {
     "data": {
      "text/plain": [
       "134405"
      ]
     },
     "execution_count": 29,
     "metadata": {},
     "output_type": "execute_result"
    }
   ],
   "source": [
    "len(ontn_sentc_tree_prc3)"
   ]
  },
  {
   "cell_type": "code",
   "execution_count": 30,
   "id": "036f96e4",
   "metadata": {},
   "outputs": [],
   "source": [
    "ontn_sentc_tree_prc4 = []\n",
    "for i, sent in enumerate(ontn_sentc_tree_prc3):\n",
    "    if not has_substring(sent['parse_tree'], del_dots):\n",
    "        ontn_sentc_tree_prc4.append(sent)"
   ]
  },
  {
   "cell_type": "code",
   "execution_count": 31,
   "id": "a7a0fb52",
   "metadata": {},
   "outputs": [
    {
     "data": {
      "text/plain": [
       "133449"
      ]
     },
     "execution_count": 31,
     "metadata": {},
     "output_type": "execute_result"
    }
   ],
   "source": [
    "len(ontn_sentc_tree_prc4)"
   ]
  },
  {
   "cell_type": "markdown",
   "id": "01db6bbe",
   "metadata": {},
   "source": [
    "### Extract opening quotation marks"
   ]
  },
  {
   "cell_type": "code",
   "execution_count": 32,
   "id": "17ff71d6",
   "metadata": {},
   "outputs": [
    {
     "data": {
      "text/html": [
       "<div>\n",
       "<style scoped>\n",
       "    .dataframe tbody tr th:only-of-type {\n",
       "        vertical-align: middle;\n",
       "    }\n",
       "\n",
       "    .dataframe tbody tr th {\n",
       "        vertical-align: top;\n",
       "    }\n",
       "\n",
       "    .dataframe thead th {\n",
       "        text-align: right;\n",
       "    }\n",
       "</style>\n",
       "<table border=\"1\" class=\"dataframe\">\n",
       "  <thead>\n",
       "    <tr style=\"text-align: right;\">\n",
       "      <th></th>\n",
       "      <th>(`` ``)</th>\n",
       "      <th>(`` \")</th>\n",
       "      <th>(`` ')</th>\n",
       "      <th>(`` `)</th>\n",
       "      <th>(`` '')</th>\n",
       "    </tr>\n",
       "  </thead>\n",
       "  <tbody>\n",
       "    <tr>\n",
       "      <th>N</th>\n",
       "      <td>11073</td>\n",
       "      <td>3448</td>\n",
       "      <td>371</td>\n",
       "      <td>102</td>\n",
       "      <td>9</td>\n",
       "    </tr>\n",
       "  </tbody>\n",
       "</table>\n",
       "</div>"
      ],
      "text/plain": [
       "   (`` ``)  (`` \")  (`` ')  (`` `)  (`` '')\n",
       "N    11073    3448     371     102        9"
      ]
     },
     "metadata": {},
     "output_type": "display_data"
    },
    {
     "name": "stdout",
     "output_type": "stream",
     "text": [
      "[\"(`` '')\"]\n"
     ]
    }
   ],
   "source": [
    "oqm_nt = dict()\n",
    "for i, sent in enumerate(ontn_sentc_tree_prc4):\n",
    "    substr = '(``'\n",
    "    if substr in sent['parse_tree']:\n",
    "        extractions = extract_all_spec_substring(sent['parse_tree'], substr)\n",
    "        for extraction in extractions:\n",
    "            if extraction in oqm_nt.keys():\n",
    "                oqm_nt[extraction] += 1\n",
    "            else:\n",
    "                oqm_nt[extraction] = 1\n",
    "oqm_nt = pd.Series(oqm_nt, name='N').to_frame()\n",
    "oqm_nt = oqm_nt.sort_values('N', ascending=False)\n",
    "display(oqm_nt.T)\n",
    "del_oqm= oqm_nt[oqm_nt['N'] <= 10].index.to_list()\n",
    "print(del_oqm)"
   ]
  },
  {
   "cell_type": "markdown",
   "id": "b4c5eb1c",
   "metadata": {},
   "source": [
    "### Delete opening quotation marks"
   ]
  },
  {
   "cell_type": "code",
   "execution_count": 33,
   "id": "5dcb7697",
   "metadata": {},
   "outputs": [
    {
     "data": {
      "text/plain": [
       "133449"
      ]
     },
     "execution_count": 33,
     "metadata": {},
     "output_type": "execute_result"
    }
   ],
   "source": [
    "len(ontn_sentc_tree_prc4)"
   ]
  },
  {
   "cell_type": "code",
   "execution_count": 34,
   "id": "51136d65",
   "metadata": {},
   "outputs": [],
   "source": [
    "ontn_sentc_tree_prc5 = []\n",
    "for i, sent in enumerate(ontn_sentc_tree_prc4):\n",
    "    if not has_substring(sent['parse_tree'], del_oqm):\n",
    "        ontn_sentc_tree_prc5.append(sent)"
   ]
  },
  {
   "cell_type": "code",
   "execution_count": 35,
   "id": "bc7188ac",
   "metadata": {},
   "outputs": [
    {
     "data": {
      "text/plain": [
       "133440"
      ]
     },
     "execution_count": 35,
     "metadata": {},
     "output_type": "execute_result"
    }
   ],
   "source": [
    "len(ontn_sentc_tree_prc5)"
   ]
  },
  {
   "cell_type": "markdown",
   "id": "6f266eb6",
   "metadata": {},
   "source": [
    "### Extract end quotation marks"
   ]
  },
  {
   "cell_type": "code",
   "execution_count": 36,
   "id": "6822d853",
   "metadata": {},
   "outputs": [
    {
     "data": {
      "text/html": [
       "<div>\n",
       "<style scoped>\n",
       "    .dataframe tbody tr th:only-of-type {\n",
       "        vertical-align: middle;\n",
       "    }\n",
       "\n",
       "    .dataframe tbody tr th {\n",
       "        vertical-align: top;\n",
       "    }\n",
       "\n",
       "    .dataframe thead th {\n",
       "        text-align: right;\n",
       "    }\n",
       "</style>\n",
       "<table border=\"1\" class=\"dataframe\">\n",
       "  <thead>\n",
       "    <tr style=\"text-align: right;\">\n",
       "      <th></th>\n",
       "      <th>('' '')</th>\n",
       "      <th>('' \")</th>\n",
       "      <th>('' ')</th>\n",
       "      <th>('' `)</th>\n",
       "      <th>('' One)</th>\n",
       "      <th>('' ,)</th>\n",
       "      <th>('' .)</th>\n",
       "      <th>('' O)</th>\n",
       "      <th>('' \"\")</th>\n",
       "    </tr>\n",
       "  </thead>\n",
       "  <tbody>\n",
       "    <tr>\n",
       "      <th>N</th>\n",
       "      <td>10430</td>\n",
       "      <td>3493</td>\n",
       "      <td>1371</td>\n",
       "      <td>16</td>\n",
       "      <td>1</td>\n",
       "      <td>1</td>\n",
       "      <td>1</td>\n",
       "      <td>1</td>\n",
       "      <td>1</td>\n",
       "    </tr>\n",
       "  </tbody>\n",
       "</table>\n",
       "</div>"
      ],
      "text/plain": [
       "   ('' '')  ('' \")  ('' ')  ('' `)  ('' One)  ('' ,)  ('' .)  ('' O)  ('' \"\")\n",
       "N    10430    3493    1371      16         1       1       1       1        1"
      ]
     },
     "metadata": {},
     "output_type": "display_data"
    },
    {
     "name": "stdout",
     "output_type": "stream",
     "text": [
      "[\"('' One)\", \"('' ,)\", \"('' .)\", \"('' O)\", '(\\'\\' \"\")']\n"
     ]
    }
   ],
   "source": [
    "eqm_nt = dict()\n",
    "for i, sent in enumerate(ontn_sentc_tree_prc5):\n",
    "    substr = \"(''\"\n",
    "    if substr in sent['parse_tree']:\n",
    "        extractions = extract_all_spec_substring(sent['parse_tree'], substr)\n",
    "        for extraction in extractions:\n",
    "            if extraction in eqm_nt.keys():\n",
    "                eqm_nt[extraction] += 1\n",
    "            else:\n",
    "                eqm_nt[extraction] = 1\n",
    "eqm_nt = pd.Series(eqm_nt, name='N').to_frame()\n",
    "eqm_nt = eqm_nt.sort_values('N', ascending=False)\n",
    "display(eqm_nt.T)\n",
    "del_eqm= eqm_nt[eqm_nt['N'] <= 15].index.to_list()\n",
    "print(del_eqm)"
   ]
  },
  {
   "cell_type": "markdown",
   "id": "733d6c61",
   "metadata": {},
   "source": [
    "### Delete end quotation marks"
   ]
  },
  {
   "cell_type": "code",
   "execution_count": 37,
   "id": "8cfed10b",
   "metadata": {},
   "outputs": [
    {
     "data": {
      "text/plain": [
       "133440"
      ]
     },
     "execution_count": 37,
     "metadata": {},
     "output_type": "execute_result"
    }
   ],
   "source": [
    "len(ontn_sentc_tree_prc5)"
   ]
  },
  {
   "cell_type": "code",
   "execution_count": 38,
   "id": "271f8edd",
   "metadata": {},
   "outputs": [],
   "source": [
    "ontn_sentc_tree_prc6 = []\n",
    "for i, sent in enumerate(ontn_sentc_tree_prc5):\n",
    "    if not has_substring(sent['parse_tree'], del_eqm):\n",
    "        ontn_sentc_tree_prc6.append(sent)"
   ]
  },
  {
   "cell_type": "code",
   "execution_count": 39,
   "id": "3cc09fff",
   "metadata": {},
   "outputs": [
    {
     "data": {
      "text/plain": [
       "133435"
      ]
     },
     "execution_count": 39,
     "metadata": {},
     "output_type": "execute_result"
    }
   ],
   "source": [
    "len(ontn_sentc_tree_prc6)"
   ]
  },
  {
   "cell_type": "markdown",
   "id": "73214735",
   "metadata": {},
   "source": [
    "### Extract all symbols"
   ]
  },
  {
   "cell_type": "code",
   "execution_count": 40,
   "id": "e773b013",
   "metadata": {},
   "outputs": [],
   "source": [
    "all_liters = set()\n",
    "for i, sent in enumerate(ontn_sentc_tree_prc6):\n",
    "    words = ''.join(sent['words'])\n",
    "    all_liters.update(words)"
   ]
  },
  {
   "cell_type": "code",
   "execution_count": 41,
   "id": "2ed9b130",
   "metadata": {},
   "outputs": [
    {
     "name": "stdout",
     "output_type": "stream",
     "text": [
      "{'A', 'Ì', '（', 'X', '【', '-', '{', 't', 'k', '·', '7', '?', '0', '3', 'c', '$', ']', 'f', 'r', '`', '\\\\', 'Q', '~', 'の', 'M', '+', '^', 'm', 'L', '＊', '}', '!', '□', '）', 'o', 'q', 'g', '>', '●', 'J', '=', 'x', '&', 'w', '6', '2', '→', '@', 'C', 'F', 'ö', '8', '■', 'R', 'ِ', 'e', 'E', '5', '%', 'p', 'i', ';', 'U', 's', '\"', 'I', 'Z', 'P', 'à', ',', 'G', 'u', '˙', '.', 'B', 'H', 'y', 'T', 'b', '’', 'V', 'D', '[', '￥', '#', '9', '_', 'N', '】', '<', '1', '/', 'j', 'Û', '*', \"'\", 'S', 'n', '4', 'Y', 'K', 'W', 'l', 'v', 'z', '・', 'd', 'a', ':', 'ò', 'O', 'h'}\n"
     ]
    }
   ],
   "source": [
    "print(all_liters)"
   ]
  },
  {
   "cell_type": "code",
   "execution_count": 42,
   "id": "6634ec03",
   "metadata": {},
   "outputs": [],
   "source": [
    "error_symbs = [\n",
    "    '□', '■', 'の', '【', '】', '●', 'ö', '{', '}', '＊',\n",
    "    '\\\\', '<', '>', 'ò', '˙', 'Ì', '・', '→', 'Û', '·',\n",
    "    '_', '￥', '’', '^', '’', '------', '---', '@'\n",
    "]"
   ]
  },
  {
   "cell_type": "markdown",
   "id": "b52d05f6",
   "metadata": {},
   "source": [
    "### Remove trees with error symbols"
   ]
  },
  {
   "cell_type": "code",
   "execution_count": 43,
   "id": "810b8392",
   "metadata": {},
   "outputs": [
    {
     "name": "stdout",
     "output_type": "stream",
     "text": [
      "133435\n"
     ]
    }
   ],
   "source": [
    "print(len(ontn_sentc_tree_prc6))"
   ]
  },
  {
   "cell_type": "code",
   "execution_count": 44,
   "id": "d2604e40",
   "metadata": {},
   "outputs": [],
   "source": [
    "ontn_sentc_tree_prc7 = []\n",
    "for i, sent in enumerate(ontn_sentc_tree_prc6):\n",
    "    if not has_substring(sent['parse_tree'], error_symbs):\n",
    "        ontn_sentc_tree_prc7.append(sent)"
   ]
  },
  {
   "cell_type": "code",
   "execution_count": 45,
   "id": "0d74d3f9",
   "metadata": {},
   "outputs": [
    {
     "name": "stdout",
     "output_type": "stream",
     "text": [
      "133231\n"
     ]
    }
   ],
   "source": [
    "print(len(ontn_sentc_tree_prc7))"
   ]
  },
  {
   "cell_type": "markdown",
   "id": "8abe9e69",
   "metadata": {},
   "source": [
    "### Extract NN + link"
   ]
  },
  {
   "cell_type": "code",
   "execution_count": 46,
   "id": "41f1d6ed",
   "metadata": {},
   "outputs": [
    {
     "data": {
      "text/html": [
       "<div>\n",
       "<style scoped>\n",
       "    .dataframe tbody tr th:only-of-type {\n",
       "        vertical-align: middle;\n",
       "    }\n",
       "\n",
       "    .dataframe tbody tr th {\n",
       "        vertical-align: top;\n",
       "    }\n",
       "\n",
       "    .dataframe thead th {\n",
       "        text-align: right;\n",
       "    }\n",
       "</style>\n",
       "<table border=\"1\" class=\"dataframe\">\n",
       "  <thead>\n",
       "    <tr style=\"text-align: right;\">\n",
       "      <th></th>\n",
       "      <th>(NN http://www.qin.com.tw)</th>\n",
       "      <th>(NN http://www.bali.tpc.gov.tw/)</th>\n",
       "      <th>(NN http://www.tamsui.gov.tw/)</th>\n",
       "    </tr>\n",
       "  </thead>\n",
       "  <tbody>\n",
       "    <tr>\n",
       "      <th>N</th>\n",
       "      <td>1</td>\n",
       "      <td>1</td>\n",
       "      <td>1</td>\n",
       "    </tr>\n",
       "  </tbody>\n",
       "</table>\n",
       "</div>"
      ],
      "text/plain": [
       "   (NN http://www.qin.com.tw)  (NN http://www.bali.tpc.gov.tw/)  \\\n",
       "N                           1                                 1   \n",
       "\n",
       "   (NN http://www.tamsui.gov.tw/)  \n",
       "N                               1  "
      ]
     },
     "metadata": {},
     "output_type": "display_data"
    },
    {
     "data": {
      "text/html": [
       "<div>\n",
       "<style scoped>\n",
       "    .dataframe tbody tr th:only-of-type {\n",
       "        vertical-align: middle;\n",
       "    }\n",
       "\n",
       "    .dataframe tbody tr th {\n",
       "        vertical-align: top;\n",
       "    }\n",
       "\n",
       "    .dataframe thead th {\n",
       "        text-align: right;\n",
       "    }\n",
       "</style>\n",
       "<table border=\"1\" class=\"dataframe\">\n",
       "  <thead>\n",
       "    <tr style=\"text-align: right;\">\n",
       "      <th></th>\n",
       "      <th>(NN www.Career.com)</th>\n",
       "      <th>(NN www.alfalaq.com)</th>\n",
       "      <th>(NN www.120zy.com)</th>\n",
       "      <th>(NN www.taconet.com.tw/cstudio/)</th>\n",
       "    </tr>\n",
       "  </thead>\n",
       "  <tbody>\n",
       "    <tr>\n",
       "      <th>N</th>\n",
       "      <td>1</td>\n",
       "      <td>1</td>\n",
       "      <td>1</td>\n",
       "      <td>1</td>\n",
       "    </tr>\n",
       "  </tbody>\n",
       "</table>\n",
       "</div>"
      ],
      "text/plain": [
       "   (NN www.Career.com)  (NN www.alfalaq.com)  (NN www.120zy.com)  \\\n",
       "N                    1                     1                   1   \n",
       "\n",
       "   (NN www.taconet.com.tw/cstudio/)  \n",
       "N                                 1  "
      ]
     },
     "metadata": {},
     "output_type": "display_data"
    },
    {
     "name": "stdout",
     "output_type": "stream",
     "text": [
      "['(NN http://www.qin.com.tw)', '(NN http://www.bali.tpc.gov.tw/)', '(NN http://www.tamsui.gov.tw/)', '(NN www.Career.com)', '(NN www.alfalaq.com)', '(NN www.120zy.com)', '(NN www.taconet.com.tw/cstudio/)']\n"
     ]
    }
   ],
   "source": [
    "nnlink_nt = dict()\n",
    "for i, sent in enumerate(ontn_sentc_tree_prc7):\n",
    "    substr = \"(NN http\"\n",
    "    if substr in sent['parse_tree']:\n",
    "        extractions = extract_all_spec_substring(sent['parse_tree'], substr)\n",
    "        for extraction in extractions:\n",
    "            if extraction in nnlink_nt.keys():\n",
    "                nnlink_nt[extraction] += 1\n",
    "            else:\n",
    "                nnlink_nt[extraction] = 1\n",
    "nnlink_nt = pd.Series(nnlink_nt, name='N').to_frame()\n",
    "nnlink_nt = nnlink_nt.sort_values('N', ascending=False)\n",
    "display(nnlink_nt.T)\n",
    "del_nnlink_nt = nnlink_nt[nnlink_nt['N'] <= 15].index.to_list()\n",
    "\n",
    "nnlink_nt = dict()\n",
    "for i, sent in enumerate(ontn_sentc_tree_prc7):\n",
    "    substr = \"(NN www.\"\n",
    "    if substr in sent['parse_tree']:\n",
    "        extractions = extract_all_spec_substring(sent['parse_tree'], substr)\n",
    "        for extraction in extractions:\n",
    "            if extraction in nnlink_nt.keys():\n",
    "                nnlink_nt[extraction] += 1\n",
    "            else:\n",
    "                nnlink_nt[extraction] = 1\n",
    "\n",
    "nnlink_nt = pd.Series(nnlink_nt, name='N').to_frame()\n",
    "nnlink_nt = nnlink_nt.sort_values('N', ascending=False)\n",
    "display(nnlink_nt.T)\n",
    "\n",
    "del_nnlink_nt += nnlink_nt[nnlink_nt['N'] <= 15].index.to_list()\n",
    "\n",
    "print(del_nnlink_nt)"
   ]
  },
  {
   "cell_type": "markdown",
   "id": "5898339c",
   "metadata": {},
   "source": [
    "### Delete NN + link"
   ]
  },
  {
   "cell_type": "code",
   "execution_count": 47,
   "id": "80af77d4",
   "metadata": {},
   "outputs": [
    {
     "data": {
      "text/plain": [
       "133231"
      ]
     },
     "execution_count": 47,
     "metadata": {},
     "output_type": "execute_result"
    }
   ],
   "source": [
    "len(ontn_sentc_tree_prc7)"
   ]
  },
  {
   "cell_type": "code",
   "execution_count": 48,
   "id": "26b95d2e",
   "metadata": {},
   "outputs": [],
   "source": [
    "ontn_sentc_tree_prc8 = []\n",
    "for i, sent in enumerate(ontn_sentc_tree_prc7):\n",
    "    if not has_substring(sent['parse_tree'], del_nnlink_nt):\n",
    "        ontn_sentc_tree_prc8.append(sent)"
   ]
  },
  {
   "cell_type": "code",
   "execution_count": 49,
   "id": "3403b797",
   "metadata": {},
   "outputs": [
    {
     "data": {
      "text/plain": [
       "133224"
      ]
     },
     "execution_count": 49,
     "metadata": {},
     "output_type": "execute_result"
    }
   ],
   "source": [
    "len(ontn_sentc_tree_prc8)"
   ]
  },
  {
   "cell_type": "markdown",
   "id": "183ade95",
   "metadata": {},
   "source": [
    "### Extract rare cases with -LRB- / -RRB-"
   ]
  },
  {
   "cell_type": "code",
   "execution_count": 50,
   "id": "9fb6eefe",
   "metadata": {},
   "outputs": [
    {
     "data": {
      "text/html": [
       "<div>\n",
       "<style scoped>\n",
       "    .dataframe tbody tr th:only-of-type {\n",
       "        vertical-align: middle;\n",
       "    }\n",
       "\n",
       "    .dataframe tbody tr th {\n",
       "        vertical-align: top;\n",
       "    }\n",
       "\n",
       "    .dataframe thead th {\n",
       "        text-align: right;\n",
       "    }\n",
       "</style>\n",
       "<table border=\"1\" class=\"dataframe\">\n",
       "  <thead>\n",
       "    <tr style=\"text-align: right;\">\n",
       "      <th></th>\n",
       "      <th>(-RRB- -RRB-)</th>\n",
       "      <th>(-LRB- -LRB-)</th>\n",
       "      <th>(-RRB- -RCB-)</th>\n",
       "      <th>(-LRB- -LCB-)</th>\n",
       "      <th>(-RRB- -RSB-)</th>\n",
       "      <th>(-LRB- -LSB-)</th>\n",
       "      <th>(-LRB- [)</th>\n",
       "      <th>(-RRB- ])</th>\n",
       "      <th>(-LRB- -)</th>\n",
       "      <th>(-RRB- -)</th>\n",
       "      <th>(-LRB- -LRB)</th>\n",
       "      <th>(-RRB- -LRB-)</th>\n",
       "      <th>(-RRB- -RRB)</th>\n",
       "    </tr>\n",
       "  </thead>\n",
       "  <tbody>\n",
       "    <tr>\n",
       "      <th>N</th>\n",
       "      <td>2817</td>\n",
       "      <td>2777</td>\n",
       "      <td>181</td>\n",
       "      <td>178</td>\n",
       "      <td>52</td>\n",
       "      <td>48</td>\n",
       "      <td>9</td>\n",
       "      <td>9</td>\n",
       "      <td>1</td>\n",
       "      <td>1</td>\n",
       "      <td>1</td>\n",
       "      <td>1</td>\n",
       "      <td>1</td>\n",
       "    </tr>\n",
       "  </tbody>\n",
       "</table>\n",
       "</div>"
      ],
      "text/plain": [
       "   (-RRB- -RRB-)  (-LRB- -LRB-)  (-RRB- -RCB-)  (-LRB- -LCB-)  (-RRB- -RSB-)  \\\n",
       "N           2817           2777            181            178             52   \n",
       "\n",
       "   (-LRB- -LSB-)  (-LRB- [)  (-RRB- ])  (-LRB- -)  (-RRB- -)  (-LRB- -LRB)  \\\n",
       "N             48          9          9          1          1             1   \n",
       "\n",
       "   (-RRB- -LRB-)  (-RRB- -RRB)  \n",
       "N              1             1  "
      ]
     },
     "metadata": {},
     "output_type": "display_data"
    },
    {
     "name": "stdout",
     "output_type": "stream",
     "text": [
      "['(-LRB- [)', '(-RRB- ])', '(-LRB- -)', '(-RRB- -)', '(-LRB- -LRB)', '(-RRB- -LRB-)', '(-RRB- -RRB)']\n"
     ]
    }
   ],
   "source": [
    "lrb_nt = dict()\n",
    "for i, sent in enumerate(ontn_sentc_tree_prc8):\n",
    "    substr = \"(-\"\n",
    "    if substr in sent['parse_tree']:\n",
    "        extractions = extract_all_spec_substring(sent['parse_tree'], substr)\n",
    "        for extraction in extractions:\n",
    "            if extraction in lrb_nt.keys():\n",
    "                lrb_nt[extraction] += 1\n",
    "            else:\n",
    "                lrb_nt[extraction] = 1\n",
    "lrb_nt = pd.Series(lrb_nt, name='N').to_frame()\n",
    "lrb_nt = lrb_nt.sort_values('N', ascending=False)\n",
    "display(lrb_nt.T)\n",
    "del_lrb_nt = lrb_nt[lrb_nt['N'] <= 9].index.to_list()\n",
    "print(del_lrb_nt)"
   ]
  },
  {
   "cell_type": "markdown",
   "id": "748f6c4e",
   "metadata": {},
   "source": [
    "### Delete rare cases with -LRB- / -RRB-"
   ]
  },
  {
   "cell_type": "code",
   "execution_count": 51,
   "id": "96d612c5",
   "metadata": {},
   "outputs": [
    {
     "data": {
      "text/plain": [
       "133224"
      ]
     },
     "execution_count": 51,
     "metadata": {},
     "output_type": "execute_result"
    }
   ],
   "source": [
    "len(ontn_sentc_tree_prc8)"
   ]
  },
  {
   "cell_type": "code",
   "execution_count": 52,
   "id": "903271b5",
   "metadata": {},
   "outputs": [],
   "source": [
    "ontn_sentc_tree_prc9 = []\n",
    "for i, sent in enumerate(ontn_sentc_tree_prc8):\n",
    "    if not has_substring(sent['parse_tree'], del_lrb_nt):\n",
    "        ontn_sentc_tree_prc9.append(sent)"
   ]
  },
  {
   "cell_type": "code",
   "execution_count": 53,
   "id": "c0fd3bb4",
   "metadata": {},
   "outputs": [
    {
     "data": {
      "text/plain": [
       "133213"
      ]
     },
     "execution_count": 53,
     "metadata": {},
     "output_type": "execute_result"
    }
   ],
   "source": [
    "len(ontn_sentc_tree_prc9)"
   ]
  },
  {
   "cell_type": "markdown",
   "id": "f913f90e",
   "metadata": {},
   "source": [
    "### Extract rare cases with PRP&"
   ]
  },
  {
   "cell_type": "code",
   "execution_count": 54,
   "id": "6ab0e0e9",
   "metadata": {},
   "outputs": [
    {
     "data": {
      "text/html": [
       "<div>\n",
       "<style scoped>\n",
       "    .dataframe tbody tr th:only-of-type {\n",
       "        vertical-align: middle;\n",
       "    }\n",
       "\n",
       "    .dataframe tbody tr th {\n",
       "        vertical-align: top;\n",
       "    }\n",
       "\n",
       "    .dataframe thead th {\n",
       "        text-align: right;\n",
       "    }\n",
       "</style>\n",
       "<table border=\"1\" class=\"dataframe\">\n",
       "  <thead>\n",
       "    <tr style=\"text-align: right;\">\n",
       "      <th></th>\n",
       "      <th>(PRP$ his)</th>\n",
       "      <th>(PRP$ their)</th>\n",
       "      <th>(PRP$ its)</th>\n",
       "      <th>(PRP$ your)</th>\n",
       "      <th>(PRP$ my)</th>\n",
       "      <th>(PRP$ our)</th>\n",
       "      <th>(PRP$ her)</th>\n",
       "      <th>(PRP$ His)</th>\n",
       "      <th>(PRP$ My)</th>\n",
       "      <th>(PRP$ Your)</th>\n",
       "      <th>(PRP$ Our)</th>\n",
       "      <th>(PRP$ Their)</th>\n",
       "      <th>(PRP$ Its)</th>\n",
       "      <th>(PRP$ Her)</th>\n",
       "      <th>(PRP$ yours)</th>\n",
       "      <th>(PRP$ ours)</th>\n",
       "      <th>(PRP$ it's)</th>\n",
       "      <th>(PRP$ thy)</th>\n",
       "      <th>(PRP$ mine)</th>\n",
       "      <th>(PRP$ YOUR)</th>\n",
       "      <th>(PRP$ HIS)</th>\n",
       "      <th>(PRP$ thier)</th>\n",
       "      <th>(PRP$ there)</th>\n",
       "      <th>(PRP$ you)</th>\n",
       "      <th>(PRP$ yer)</th>\n",
       "      <th>(PRP$ his/her)</th>\n",
       "      <th>(PRP$ it)</th>\n",
       "      <th>(PRP$ you're)</th>\n",
       "      <th>(PRP$ +her)</th>\n",
       "      <th>(PRP$ h)</th>\n",
       "      <th>(PRP$ hr)</th>\n",
       "      <th>(PRP$ UAV)</th>\n",
       "      <th>(PRP$ ones)</th>\n",
       "    </tr>\n",
       "  </thead>\n",
       "  <tbody>\n",
       "    <tr>\n",
       "      <th>N</th>\n",
       "      <td>6768</td>\n",
       "      <td>5315</td>\n",
       "      <td>4600</td>\n",
       "      <td>2988</td>\n",
       "      <td>2590</td>\n",
       "      <td>2137</td>\n",
       "      <td>1482</td>\n",
       "      <td>450</td>\n",
       "      <td>417</td>\n",
       "      <td>237</td>\n",
       "      <td>231</td>\n",
       "      <td>192</td>\n",
       "      <td>133</td>\n",
       "      <td>125</td>\n",
       "      <td>17</td>\n",
       "      <td>7</td>\n",
       "      <td>4</td>\n",
       "      <td>3</td>\n",
       "      <td>3</td>\n",
       "      <td>2</td>\n",
       "      <td>2</td>\n",
       "      <td>2</td>\n",
       "      <td>2</td>\n",
       "      <td>2</td>\n",
       "      <td>2</td>\n",
       "      <td>1</td>\n",
       "      <td>1</td>\n",
       "      <td>1</td>\n",
       "      <td>1</td>\n",
       "      <td>1</td>\n",
       "      <td>1</td>\n",
       "      <td>1</td>\n",
       "      <td>1</td>\n",
       "    </tr>\n",
       "  </tbody>\n",
       "</table>\n",
       "</div>"
      ],
      "text/plain": [
       "   (PRP$ his)  (PRP$ their)  (PRP$ its)  (PRP$ your)  (PRP$ my)  (PRP$ our)  \\\n",
       "N        6768          5315        4600         2988       2590        2137   \n",
       "\n",
       "   (PRP$ her)  (PRP$ His)  (PRP$ My)  (PRP$ Your)  (PRP$ Our)  (PRP$ Their)  \\\n",
       "N        1482         450        417          237         231           192   \n",
       "\n",
       "   (PRP$ Its)  (PRP$ Her)  (PRP$ yours)  (PRP$ ours)  (PRP$ it's)  (PRP$ thy)  \\\n",
       "N         133         125            17            7            4           3   \n",
       "\n",
       "   (PRP$ mine)  (PRP$ YOUR)  (PRP$ HIS)  (PRP$ thier)  (PRP$ there)  \\\n",
       "N            3            2           2             2             2   \n",
       "\n",
       "   (PRP$ you)  (PRP$ yer)  (PRP$ his/her)  (PRP$ it)  (PRP$ you're)  \\\n",
       "N           2           2               1          1              1   \n",
       "\n",
       "   (PRP$ +her)  (PRP$ h)  (PRP$ hr)  (PRP$ UAV)  (PRP$ ones)  \n",
       "N            1         1          1           1            1  "
      ]
     },
     "metadata": {},
     "output_type": "display_data"
    },
    {
     "name": "stdout",
     "output_type": "stream",
     "text": [
      "['(PRP$ his/her)', '(PRP$ it)', \"(PRP$ you're)\", '(PRP$ +her)', '(PRP$ h)', '(PRP$ hr)', '(PRP$ UAV)', '(PRP$ ones)']\n"
     ]
    }
   ],
   "source": [
    "prpdlr_nt = dict()\n",
    "for i, sent in enumerate(ontn_sentc_tree_prc9):\n",
    "    substr = \"(PRP$\"\n",
    "    if substr in sent['parse_tree']:\n",
    "        extractions = extract_all_spec_substring(sent['parse_tree'], substr)\n",
    "        for extraction in extractions:\n",
    "            if extraction in prpdlr_nt.keys():\n",
    "                prpdlr_nt[extraction] += 1\n",
    "            else:\n",
    "                prpdlr_nt[extraction] = 1\n",
    "prpdlr_nt = pd.Series(prpdlr_nt, name='N').to_frame()\n",
    "prpdlr_nt = prpdlr_nt.sort_values('N', ascending=False)\n",
    "display(prpdlr_nt.T)\n",
    "del_prpdlr_nt = prpdlr_nt[prpdlr_nt['N'] <= 1].index.to_list()\n",
    "print(del_prpdlr_nt)"
   ]
  },
  {
   "cell_type": "markdown",
   "id": "16d25e34",
   "metadata": {},
   "source": [
    "### Delete rare cases with PRP$"
   ]
  },
  {
   "cell_type": "code",
   "execution_count": 55,
   "id": "6b4e9dc4",
   "metadata": {},
   "outputs": [
    {
     "data": {
      "text/plain": [
       "133213"
      ]
     },
     "execution_count": 55,
     "metadata": {},
     "output_type": "execute_result"
    }
   ],
   "source": [
    "len(ontn_sentc_tree_prc9)"
   ]
  },
  {
   "cell_type": "code",
   "execution_count": 56,
   "id": "226d1a98",
   "metadata": {},
   "outputs": [],
   "source": [
    "ontn_sentc_tree_prc10 = []\n",
    "for i, sent in enumerate(ontn_sentc_tree_prc9):\n",
    "    if not has_substring(sent['parse_tree'], del_prpdlr_nt):\n",
    "        ontn_sentc_tree_prc10.append(sent)"
   ]
  },
  {
   "cell_type": "code",
   "execution_count": 57,
   "id": "8b577689",
   "metadata": {},
   "outputs": [
    {
     "data": {
      "text/plain": [
       "133206"
      ]
     },
     "execution_count": 57,
     "metadata": {},
     "output_type": "execute_result"
    }
   ],
   "source": [
    "len(ontn_sentc_tree_prc10)"
   ]
  },
  {
   "cell_type": "markdown",
   "id": "630ba299",
   "metadata": {},
   "source": [
    "### Extract rare NFP rules"
   ]
  },
  {
   "cell_type": "code",
   "execution_count": 58,
   "id": "d30c0434",
   "metadata": {},
   "outputs": [
    {
     "data": {
      "text/html": [
       "<div>\n",
       "<style scoped>\n",
       "    .dataframe tbody tr th:only-of-type {\n",
       "        vertical-align: middle;\n",
       "    }\n",
       "\n",
       "    .dataframe tbody tr th {\n",
       "        vertical-align: top;\n",
       "    }\n",
       "\n",
       "    .dataframe thead th {\n",
       "        text-align: right;\n",
       "    }\n",
       "</style>\n",
       "<table border=\"1\" class=\"dataframe\">\n",
       "  <thead>\n",
       "    <tr style=\"text-align: right;\">\n",
       "      <th></th>\n",
       "      <th>(NFP ...)</th>\n",
       "      <th>(NFP ..)</th>\n",
       "      <th>(NFP 0)</th>\n",
       "      <th>(NFP ....)</th>\n",
       "      <th>(NFP 00)</th>\n",
       "      <th>(NFP /)</th>\n",
       "      <th>(NFP *)</th>\n",
       "      <th>(NFP ****)</th>\n",
       "      <th>(NFP :--RRB-)</th>\n",
       "      <th>(NFP -)</th>\n",
       "      <th>(NFP :)</th>\n",
       "      <th>(NFP ;-)</th>\n",
       "      <th>(NFP ......)</th>\n",
       "      <th>(NFP .....)</th>\n",
       "      <th>(NFP .)</th>\n",
       "      <th>(NFP ***)</th>\n",
       "      <th>(NFP 000)</th>\n",
       "      <th>(NFP :-)</th>\n",
       "      <th>(NFP ~~~~~~~~~~~~)</th>\n",
       "      <th>(NFP .......)</th>\n",
       "      <th>(NFP ===)</th>\n",
       "      <th>(NFP \"!!\")</th>\n",
       "      <th>(NFP !)</th>\n",
       "      <th>(NFP ...........)</th>\n",
       "      <th>(NFP !?)</th>\n",
       "      <th>(NFP *********)</th>\n",
       "      <th>(NFP 00000)</th>\n",
       "      <th>(NFP ,,,,)</th>\n",
       "      <th>(NFP ~~~~~~~~~~~~~)</th>\n",
       "      <th>(NFP ::)</th>\n",
       "      <th>(NFP ,,,)</th>\n",
       "      <th>(NFP :--LRB-)</th>\n",
       "      <th>(NFP :-LRB-)</th>\n",
       "      <th>(NFP ~~~~~~~~~~)</th>\n",
       "      <th>(NFP ,,)</th>\n",
       "      <th>(NFP *****)</th>\n",
       "      <th>(NFP ??)</th>\n",
       "    </tr>\n",
       "  </thead>\n",
       "  <tbody>\n",
       "    <tr>\n",
       "      <th>N</th>\n",
       "      <td>159</td>\n",
       "      <td>79</td>\n",
       "      <td>15</td>\n",
       "      <td>13</td>\n",
       "      <td>11</td>\n",
       "      <td>9</td>\n",
       "      <td>8</td>\n",
       "      <td>7</td>\n",
       "      <td>6</td>\n",
       "      <td>6</td>\n",
       "      <td>5</td>\n",
       "      <td>4</td>\n",
       "      <td>4</td>\n",
       "      <td>3</td>\n",
       "      <td>3</td>\n",
       "      <td>3</td>\n",
       "      <td>3</td>\n",
       "      <td>2</td>\n",
       "      <td>2</td>\n",
       "      <td>2</td>\n",
       "      <td>2</td>\n",
       "      <td>2</td>\n",
       "      <td>2</td>\n",
       "      <td>1</td>\n",
       "      <td>1</td>\n",
       "      <td>1</td>\n",
       "      <td>1</td>\n",
       "      <td>1</td>\n",
       "      <td>1</td>\n",
       "      <td>1</td>\n",
       "      <td>1</td>\n",
       "      <td>1</td>\n",
       "      <td>1</td>\n",
       "      <td>1</td>\n",
       "      <td>1</td>\n",
       "      <td>1</td>\n",
       "      <td>1</td>\n",
       "    </tr>\n",
       "  </tbody>\n",
       "</table>\n",
       "</div>"
      ],
      "text/plain": [
       "   (NFP ...)  (NFP ..)  (NFP 0)  (NFP ....)  (NFP 00)  (NFP /)  (NFP *)  \\\n",
       "N        159        79       15          13        11        9        8   \n",
       "\n",
       "   (NFP ****)  (NFP :--RRB-)  (NFP -)  (NFP :)  (NFP ;-)  (NFP ......)  \\\n",
       "N           7              6        6        5         4             4   \n",
       "\n",
       "   (NFP .....)  (NFP .)  (NFP ***)  (NFP 000)  (NFP :-)  (NFP ~~~~~~~~~~~~)  \\\n",
       "N            3        3          3          3         2                   2   \n",
       "\n",
       "   (NFP .......)  (NFP ===)  (NFP \"!!\")  (NFP !)  (NFP ...........)  (NFP !?)  \\\n",
       "N              2          2           2        2                  1         1   \n",
       "\n",
       "   (NFP *********)  (NFP 00000)  (NFP ,,,,)  (NFP ~~~~~~~~~~~~~)  (NFP ::)  \\\n",
       "N                1            1           1                    1         1   \n",
       "\n",
       "   (NFP ,,,)  (NFP :--LRB-)  (NFP :-LRB-)  (NFP ~~~~~~~~~~)  (NFP ,,)  \\\n",
       "N          1              1             1                 1         1   \n",
       "\n",
       "   (NFP *****)  (NFP ??)  \n",
       "N            1         1  "
      ]
     },
     "metadata": {},
     "output_type": "display_data"
    },
    {
     "name": "stdout",
     "output_type": "stream",
     "text": [
      "['(NFP ..)', '(NFP 0)', '(NFP ....)', '(NFP 00)', '(NFP /)', '(NFP *)', '(NFP ****)', '(NFP :--RRB-)', '(NFP -)', '(NFP :)', '(NFP ;-)', '(NFP ......)', '(NFP .....)', '(NFP .)', '(NFP ***)', '(NFP 000)', '(NFP :-)', '(NFP ~~~~~~~~~~~~)', '(NFP .......)', '(NFP ===)', '(NFP \"!!\")', '(NFP !)', '(NFP ...........)', '(NFP !?)', '(NFP *********)', '(NFP 00000)', '(NFP ,,,,)', '(NFP ~~~~~~~~~~~~~)', '(NFP ::)', '(NFP ,,,)', '(NFP :--LRB-)', '(NFP :-LRB-)', '(NFP ~~~~~~~~~~)', '(NFP ,,)', '(NFP *****)', '(NFP ??)']\n"
     ]
    }
   ],
   "source": [
    "nfp_nt = dict()\n",
    "for i, sent in enumerate(ontn_sentc_tree_prc10):\n",
    "    substr = \"(NFP\"\n",
    "    if substr in sent['parse_tree']:\n",
    "        extractions = extract_all_spec_substring(sent['parse_tree'], substr)\n",
    "        for extraction in extractions:\n",
    "            if extraction in nfp_nt.keys():\n",
    "                nfp_nt[extraction] += 1\n",
    "            else:\n",
    "                nfp_nt[extraction] = 1\n",
    "nfp_nt = pd.Series(nfp_nt, name='N').to_frame()\n",
    "nfp_nt = nfp_nt.sort_values('N', ascending=False)\n",
    "display(nfp_nt.T)\n",
    "del_nfp = nfp_nt[nfp_nt['N'] <= 79].index.to_list()\n",
    "print(del_nfp)"
   ]
  },
  {
   "cell_type": "code",
   "execution_count": 59,
   "id": "a3d9f17d",
   "metadata": {},
   "outputs": [
    {
     "data": {
      "text/html": [
       "<div>\n",
       "<style scoped>\n",
       "    .dataframe tbody tr th:only-of-type {\n",
       "        vertical-align: middle;\n",
       "    }\n",
       "\n",
       "    .dataframe tbody tr th {\n",
       "        vertical-align: top;\n",
       "    }\n",
       "\n",
       "    .dataframe thead th {\n",
       "        text-align: right;\n",
       "    }\n",
       "</style>\n",
       "<table border=\"1\" class=\"dataframe\">\n",
       "  <thead>\n",
       "    <tr style=\"text-align: right;\">\n",
       "      <th></th>\n",
       "      <th>(ADD mitbbs.com)</th>\n",
       "      <th>(ADD http://mitbbs.com)</th>\n",
       "      <th>(ADD http://AbuAbdullaah.arabform.com)</th>\n",
       "      <th>(ADD www.120zy.com)</th>\n",
       "      <th>(ADD abcnews.com)</th>\n",
       "      <th>(ADD cnnfn.com)</th>\n",
       "      <th>(ADD www.vitac.com)</th>\n",
       "      <th>(ADD www.europeaninternet.com)</th>\n",
       "      <th>(ADD abc.com)</th>\n",
       "      <th>(ADD amazon.com)</th>\n",
       "      <th>(ADD http://sultan5.arabform.com)</th>\n",
       "      <th>(ADD http://aaa102.arabform.com/)</th>\n",
       "      <th>(ADD http://www.mofa.gov.sa/detail.asp?InNewsItemID=59090&amp;InTemplateKey=print)</th>\n",
       "      <th>(ADD www.ibb.gov/editorials)</th>\n",
       "      <th>(ADD http://www.al-jazirah.com.sa/cars/29112006/rood55.htm)</th>\n",
       "      <th>(ADD http://www.al-jazirah.com.sa/cars/06122006/rood2.htm)</th>\n",
       "      <th>(ADD http://www.al-jazirah.com.sa/cars/13122006/rood43.htm)</th>\n",
       "      <th>(ADD http://www.al-jazirah.com.sa/cars/20122006/rood43.htm)</th>\n",
       "      <th>(ADD http://www.al-jazirah.com.sa/cars/10012007/rood57.htm)</th>\n",
       "      <th>(ADD http://www.al-jazirah.com.sa/cars/17012007/rood40.htm)</th>\n",
       "      <th>(ADD http://www.almokhtsar.com/html/news/1413/2/65370.php)</th>\n",
       "      <th>(ADD http://www.alyaum.com/issue/page.php?IN=12271&amp;P=4)</th>\n",
       "      <th>(ADD http://maaajd.arabform.com)</th>\n",
       "      <th>(ADD http://www.al-jazirah.com.sa/cars/24012007/rood2.htm)</th>\n",
       "      <th>(ADD http://www.al-majalla.com/ListNews.a...=1175&amp;MenuID=8)</th>\n",
       "      <th>(ADD http://www.moltqaa.com)</th>\n",
       "      <th>(ADD http://bbs.86516.com/viewthread.php?tid=975367&amp;pid=11982001&amp;page=1&amp;ex)</th>\n",
       "      <th>(ADD http://www.donews.net/pangshengdong)</th>\n",
       "      <th>(ADD http://blog.donews.com/pangshengdong)</th>\n",
       "      <th>(ADD http://bbs.86516.com/viewthread.php?tid=975363&amp;pid=11981952&amp;page=1&amp;ex)</th>\n",
       "      <th>(ADD http://www.pangshengdong.com)</th>\n",
       "      <th>(ADD flashA.com)</th>\n",
       "      <th>(ADD flashD.com)</th>\n",
       "      <th>(ADD flashC.com)</th>\n",
       "      <th>(ADD http://whymsi.com/awing)</th>\n",
       "      <th>(ADD http://msi-team.com/awing)</th>\n",
       "      <th>(ADD http://web.wenxuecity.com/BBSViewphp?SubID=currentevent&amp;MsgID=159556)</th>\n",
       "      <th>(ADD http://www.al-jazirah.com.sa/cars/22112006/roods42.htm)</th>\n",
       "      <th>(ADD mitBBS.com)</th>\n",
       "      <th>(ADD http://web.wenxuecity.com/BBSView.php?SubID=memory&amp;MsgID=106201)</th>\n",
       "      <th>(ADD china-sss.com)</th>\n",
       "      <th>(ADD people.com.cn)</th>\n",
       "      <th>(ADD http://www.etechrecycling.com)</th>\n",
       "      <th>(ADD http://home.hamptonroads.com/stories/story.cfm?story=105522&amp;ran=48577)</th>\n",
       "      <th>(ADD http://www.pbase.com/jolka/image/53574802)</th>\n",
       "      <th>(ADD http:www.u5lazarus.com)</th>\n",
       "      <th>(ADD trinity-world.com)</th>\n",
       "      <th>(ADD komal.ba)</th>\n",
       "      <th>(ADD alt.bread.recipes)</th>\n",
       "      <th>(ADD JobThread.com)</th>\n",
       "      <th>(ADD http:www.aes.orgpublicationsstandardssearch.cfm)</th>\n",
       "      <th>(ADD weblogs.us)</th>\n",
       "      <th>(ADD alt.pets.dogs.pitbull)</th>\n",
       "      <th>(ADD headlinenews.com)</th>\n",
       "      <th>(ADD http://z12.zupload.com/download.php?file=getfile&amp;filepath=6894)</th>\n",
       "      <th>(ADD http://www.furk.net/newsadam.avi.html)</th>\n",
       "      <th>(ADD http://www.liveleak.com/view?i=c5daa5b733)</th>\n",
       "      <th>(ADD http://www.pukmedia.com/arabicnews/6-1/news33.htm)</th>\n",
       "      <th>(ADD www.ninecommentaries.com)</th>\n",
       "      <th>(ADD 208.185.9.024)</th>\n",
       "      <th>(ADD cnn.com/wolf)</th>\n",
       "      <th>(ADD http://z08.zupload.com/download.php?...filepath=48993)</th>\n",
       "      <th>(ADD http://www.vanityfair.com/commentary/content/articles/050411roco03c)</th>\n",
       "      <th>(ADD http://www.waynemadsenreport.com/)</th>\n",
       "      <th>(ADD http://www.globalpolicy.org/intljustice/wanted/2005/1212ties.htm)</th>\n",
       "      <th>(ADD http://www.egotastic.com/entertainment/celebrities/janet-jackson/janet-jackson-is-too-fat-to-sing)</th>\n",
       "      <th>(ADD http://www.msnbc.msn.com/id/11800917/)</th>\n",
       "      <th>(ADD http://youtube.com/watch?v=L8mJsgPj1iU)</th>\n",
       "      <th>(ADD http://stargods.org/MasonicMichaelJackson.htm)</th>\n",
       "      <th>(ADD https:weblion.psu.edutracweblionwikiMakeAsubfolderAnavigationRoot)</th>\n",
       "    </tr>\n",
       "  </thead>\n",
       "  <tbody>\n",
       "    <tr>\n",
       "      <th>N</th>\n",
       "      <td>9</td>\n",
       "      <td>5</td>\n",
       "      <td>3</td>\n",
       "      <td>3</td>\n",
       "      <td>3</td>\n",
       "      <td>2</td>\n",
       "      <td>2</td>\n",
       "      <td>1</td>\n",
       "      <td>1</td>\n",
       "      <td>1</td>\n",
       "      <td>1</td>\n",
       "      <td>1</td>\n",
       "      <td>1</td>\n",
       "      <td>1</td>\n",
       "      <td>1</td>\n",
       "      <td>1</td>\n",
       "      <td>1</td>\n",
       "      <td>1</td>\n",
       "      <td>1</td>\n",
       "      <td>1</td>\n",
       "      <td>1</td>\n",
       "      <td>1</td>\n",
       "      <td>1</td>\n",
       "      <td>1</td>\n",
       "      <td>1</td>\n",
       "      <td>1</td>\n",
       "      <td>1</td>\n",
       "      <td>1</td>\n",
       "      <td>1</td>\n",
       "      <td>1</td>\n",
       "      <td>1</td>\n",
       "      <td>1</td>\n",
       "      <td>1</td>\n",
       "      <td>1</td>\n",
       "      <td>1</td>\n",
       "      <td>1</td>\n",
       "      <td>1</td>\n",
       "      <td>1</td>\n",
       "      <td>1</td>\n",
       "      <td>1</td>\n",
       "      <td>1</td>\n",
       "      <td>1</td>\n",
       "      <td>1</td>\n",
       "      <td>1</td>\n",
       "      <td>1</td>\n",
       "      <td>1</td>\n",
       "      <td>1</td>\n",
       "      <td>1</td>\n",
       "      <td>1</td>\n",
       "      <td>1</td>\n",
       "      <td>1</td>\n",
       "      <td>1</td>\n",
       "      <td>1</td>\n",
       "      <td>1</td>\n",
       "      <td>1</td>\n",
       "      <td>1</td>\n",
       "      <td>1</td>\n",
       "      <td>1</td>\n",
       "      <td>1</td>\n",
       "      <td>1</td>\n",
       "      <td>1</td>\n",
       "      <td>1</td>\n",
       "      <td>1</td>\n",
       "      <td>1</td>\n",
       "      <td>1</td>\n",
       "      <td>1</td>\n",
       "      <td>1</td>\n",
       "      <td>1</td>\n",
       "      <td>1</td>\n",
       "      <td>1</td>\n",
       "    </tr>\n",
       "  </tbody>\n",
       "</table>\n",
       "</div>"
      ],
      "text/plain": [
       "   (ADD mitbbs.com)  (ADD http://mitbbs.com)  \\\n",
       "N                 9                        5   \n",
       "\n",
       "   (ADD http://AbuAbdullaah.arabform.com)  (ADD www.120zy.com)  \\\n",
       "N                                       3                    3   \n",
       "\n",
       "   (ADD abcnews.com)  (ADD cnnfn.com)  (ADD www.vitac.com)  \\\n",
       "N                  3                2                    2   \n",
       "\n",
       "   (ADD www.europeaninternet.com)  (ADD abc.com)  (ADD amazon.com)  \\\n",
       "N                               1              1                 1   \n",
       "\n",
       "   (ADD http://sultan5.arabform.com)  (ADD http://aaa102.arabform.com/)  \\\n",
       "N                                  1                                  1   \n",
       "\n",
       "   (ADD http://www.mofa.gov.sa/detail.asp?InNewsItemID=59090&InTemplateKey=print)  \\\n",
       "N                                                  1                                \n",
       "\n",
       "   (ADD www.ibb.gov/editorials)  \\\n",
       "N                             1   \n",
       "\n",
       "   (ADD http://www.al-jazirah.com.sa/cars/29112006/rood55.htm)  \\\n",
       "N                                                  1             \n",
       "\n",
       "   (ADD http://www.al-jazirah.com.sa/cars/06122006/rood2.htm)  \\\n",
       "N                                                  1            \n",
       "\n",
       "   (ADD http://www.al-jazirah.com.sa/cars/13122006/rood43.htm)  \\\n",
       "N                                                  1             \n",
       "\n",
       "   (ADD http://www.al-jazirah.com.sa/cars/20122006/rood43.htm)  \\\n",
       "N                                                  1             \n",
       "\n",
       "   (ADD http://www.al-jazirah.com.sa/cars/10012007/rood57.htm)  \\\n",
       "N                                                  1             \n",
       "\n",
       "   (ADD http://www.al-jazirah.com.sa/cars/17012007/rood40.htm)  \\\n",
       "N                                                  1             \n",
       "\n",
       "   (ADD http://www.almokhtsar.com/html/news/1413/2/65370.php)  \\\n",
       "N                                                  1            \n",
       "\n",
       "   (ADD http://www.alyaum.com/issue/page.php?IN=12271&P=4)  \\\n",
       "N                                                  1         \n",
       "\n",
       "   (ADD http://maaajd.arabform.com)  \\\n",
       "N                                 1   \n",
       "\n",
       "   (ADD http://www.al-jazirah.com.sa/cars/24012007/rood2.htm)  \\\n",
       "N                                                  1            \n",
       "\n",
       "   (ADD http://www.al-majalla.com/ListNews.a...=1175&MenuID=8)  \\\n",
       "N                                                  1             \n",
       "\n",
       "   (ADD http://www.moltqaa.com)  \\\n",
       "N                             1   \n",
       "\n",
       "   (ADD http://bbs.86516.com/viewthread.php?tid=975367&pid=11982001&page=1&ex)  \\\n",
       "N                                                  1                             \n",
       "\n",
       "   (ADD http://www.donews.net/pangshengdong)  \\\n",
       "N                                          1   \n",
       "\n",
       "   (ADD http://blog.donews.com/pangshengdong)  \\\n",
       "N                                           1   \n",
       "\n",
       "   (ADD http://bbs.86516.com/viewthread.php?tid=975363&pid=11981952&page=1&ex)  \\\n",
       "N                                                  1                             \n",
       "\n",
       "   (ADD http://www.pangshengdong.com)  (ADD flashA.com)  (ADD flashD.com)  \\\n",
       "N                                   1                 1                 1   \n",
       "\n",
       "   (ADD flashC.com)  (ADD http://whymsi.com/awing)  \\\n",
       "N                 1                              1   \n",
       "\n",
       "   (ADD http://msi-team.com/awing)  \\\n",
       "N                                1   \n",
       "\n",
       "   (ADD http://web.wenxuecity.com/BBSViewphp?SubID=currentevent&MsgID=159556)  \\\n",
       "N                                                  1                            \n",
       "\n",
       "   (ADD http://www.al-jazirah.com.sa/cars/22112006/roods42.htm)  \\\n",
       "N                                                  1              \n",
       "\n",
       "   (ADD mitBBS.com)  \\\n",
       "N                 1   \n",
       "\n",
       "   (ADD http://web.wenxuecity.com/BBSView.php?SubID=memory&MsgID=106201)  \\\n",
       "N                                                  1                       \n",
       "\n",
       "   (ADD china-sss.com)  (ADD people.com.cn)  \\\n",
       "N                    1                    1   \n",
       "\n",
       "   (ADD http://www.etechrecycling.com)  \\\n",
       "N                                    1   \n",
       "\n",
       "   (ADD http://home.hamptonroads.com/stories/story.cfm?story=105522&ran=48577)  \\\n",
       "N                                                  1                             \n",
       "\n",
       "   (ADD http://www.pbase.com/jolka/image/53574802)  \\\n",
       "N                                                1   \n",
       "\n",
       "   (ADD http:www.u5lazarus.com)  (ADD trinity-world.com)  (ADD komal.ba)  \\\n",
       "N                             1                        1               1   \n",
       "\n",
       "   (ADD alt.bread.recipes)  (ADD JobThread.com)  \\\n",
       "N                        1                    1   \n",
       "\n",
       "   (ADD http:www.aes.orgpublicationsstandardssearch.cfm)  (ADD weblogs.us)  \\\n",
       "N                                                  1                     1   \n",
       "\n",
       "   (ADD alt.pets.dogs.pitbull)  (ADD headlinenews.com)  \\\n",
       "N                            1                       1   \n",
       "\n",
       "   (ADD http://z12.zupload.com/download.php?file=getfile&filepath=6894)  \\\n",
       "N                                                  1                      \n",
       "\n",
       "   (ADD http://www.furk.net/newsadam.avi.html)  \\\n",
       "N                                            1   \n",
       "\n",
       "   (ADD http://www.liveleak.com/view?i=c5daa5b733)  \\\n",
       "N                                                1   \n",
       "\n",
       "   (ADD http://www.pukmedia.com/arabicnews/6-1/news33.htm)  \\\n",
       "N                                                  1         \n",
       "\n",
       "   (ADD www.ninecommentaries.com)  (ADD 208.185.9.024)  (ADD cnn.com/wolf)  \\\n",
       "N                               1                    1                   1   \n",
       "\n",
       "   (ADD http://z08.zupload.com/download.php?...filepath=48993)  \\\n",
       "N                                                  1             \n",
       "\n",
       "   (ADD http://www.vanityfair.com/commentary/content/articles/050411roco03c)  \\\n",
       "N                                                  1                           \n",
       "\n",
       "   (ADD http://www.waynemadsenreport.com/)  \\\n",
       "N                                        1   \n",
       "\n",
       "   (ADD http://www.globalpolicy.org/intljustice/wanted/2005/1212ties.htm)  \\\n",
       "N                                                  1                        \n",
       "\n",
       "   (ADD http://www.egotastic.com/entertainment/celebrities/janet-jackson/janet-jackson-is-too-fat-to-sing)  \\\n",
       "N                                                  1                                                         \n",
       "\n",
       "   (ADD http://www.msnbc.msn.com/id/11800917/)  \\\n",
       "N                                            1   \n",
       "\n",
       "   (ADD http://youtube.com/watch?v=L8mJsgPj1iU)  \\\n",
       "N                                             1   \n",
       "\n",
       "   (ADD http://stargods.org/MasonicMichaelJackson.htm)  \\\n",
       "N                                                  1     \n",
       "\n",
       "   (ADD https:weblion.psu.edutracweblionwikiMakeAsubfolderAnavigationRoot)  \n",
       "N                                                  1                        "
      ]
     },
     "metadata": {},
     "output_type": "display_data"
    },
    {
     "name": "stdout",
     "output_type": "stream",
     "text": [
      "['(ADD mitbbs.com)', '(ADD http://mitbbs.com)', '(ADD http://AbuAbdullaah.arabform.com)', '(ADD www.120zy.com)', '(ADD abcnews.com)', '(ADD cnnfn.com)', '(ADD www.vitac.com)', '(ADD www.europeaninternet.com)', '(ADD abc.com)', '(ADD amazon.com)', '(ADD http://sultan5.arabform.com)', '(ADD http://aaa102.arabform.com/)', '(ADD http://www.mofa.gov.sa/detail.asp?InNewsItemID=59090&InTemplateKey=print)', '(ADD www.ibb.gov/editorials)', '(ADD http://www.al-jazirah.com.sa/cars/29112006/rood55.htm)', '(ADD http://www.al-jazirah.com.sa/cars/06122006/rood2.htm)', '(ADD http://www.al-jazirah.com.sa/cars/13122006/rood43.htm)', '(ADD http://www.al-jazirah.com.sa/cars/20122006/rood43.htm)', '(ADD http://www.al-jazirah.com.sa/cars/10012007/rood57.htm)', '(ADD http://www.al-jazirah.com.sa/cars/17012007/rood40.htm)', '(ADD http://www.almokhtsar.com/html/news/1413/2/65370.php)', '(ADD http://www.alyaum.com/issue/page.php?IN=12271&P=4)', '(ADD http://maaajd.arabform.com)', '(ADD http://www.al-jazirah.com.sa/cars/24012007/rood2.htm)', '(ADD http://www.al-majalla.com/ListNews.a...=1175&MenuID=8)', '(ADD http://www.moltqaa.com)', '(ADD http://bbs.86516.com/viewthread.php?tid=975367&pid=11982001&page=1&ex)', '(ADD http://www.donews.net/pangshengdong)', '(ADD http://blog.donews.com/pangshengdong)', '(ADD http://bbs.86516.com/viewthread.php?tid=975363&pid=11981952&page=1&ex)', '(ADD http://www.pangshengdong.com)', '(ADD flashA.com)', '(ADD flashD.com)', '(ADD flashC.com)', '(ADD http://whymsi.com/awing)', '(ADD http://msi-team.com/awing)', '(ADD http://web.wenxuecity.com/BBSViewphp?SubID=currentevent&MsgID=159556)', '(ADD http://www.al-jazirah.com.sa/cars/22112006/roods42.htm)', '(ADD mitBBS.com)', '(ADD http://web.wenxuecity.com/BBSView.php?SubID=memory&MsgID=106201)', '(ADD china-sss.com)', '(ADD people.com.cn)', '(ADD http://www.etechrecycling.com)', '(ADD http://home.hamptonroads.com/stories/story.cfm?story=105522&ran=48577)', '(ADD http://www.pbase.com/jolka/image/53574802)', '(ADD http:www.u5lazarus.com)', '(ADD trinity-world.com)', '(ADD komal.ba)', '(ADD alt.bread.recipes)', '(ADD JobThread.com)', '(ADD http:www.aes.orgpublicationsstandardssearch.cfm)', '(ADD weblogs.us)', '(ADD alt.pets.dogs.pitbull)', '(ADD headlinenews.com)', '(ADD http://z12.zupload.com/download.php?file=getfile&filepath=6894)', '(ADD http://www.furk.net/newsadam.avi.html)', '(ADD http://www.liveleak.com/view?i=c5daa5b733)', '(ADD http://www.pukmedia.com/arabicnews/6-1/news33.htm)', '(ADD www.ninecommentaries.com)', '(ADD 208.185.9.024)', '(ADD cnn.com/wolf)', '(ADD http://z08.zupload.com/download.php?...filepath=48993)', '(ADD http://www.vanityfair.com/commentary/content/articles/050411roco03c)', '(ADD http://www.waynemadsenreport.com/)', '(ADD http://www.globalpolicy.org/intljustice/wanted/2005/1212ties.htm)', '(ADD http://www.egotastic.com/entertainment/celebrities/janet-jackson/janet-jackson-is-too-fat-to-sing)', '(ADD http://www.msnbc.msn.com/id/11800917/)', '(ADD http://youtube.com/watch?v=L8mJsgPj1iU)', '(ADD http://stargods.org/MasonicMichaelJackson.htm)', '(ADD https:weblion.psu.edutracweblionwikiMakeAsubfolderAnavigationRoot)']\n"
     ]
    }
   ],
   "source": [
    "add_nt = dict()\n",
    "for i, sent in enumerate(ontn_sentc_tree_prc10):\n",
    "    substr = \"(ADD\"\n",
    "    if substr in sent['parse_tree']:\n",
    "        extractions = extract_all_spec_substring(sent['parse_tree'], substr)\n",
    "        for extraction in extractions:\n",
    "            if extraction in add_nt.keys():\n",
    "                add_nt[extraction] += 1\n",
    "            else:\n",
    "                add_nt[extraction] = 1\n",
    "add_nt = pd.Series(add_nt, name='N').to_frame()\n",
    "add_nt = add_nt.sort_values('N', ascending=False)\n",
    "display(add_nt.T)\n",
    "del_add = add_nt.index.to_list()\n",
    "print(del_add)"
   ]
  },
  {
   "cell_type": "markdown",
   "id": "db33518e",
   "metadata": {},
   "source": [
    "### Delete rare rules"
   ]
  },
  {
   "cell_type": "code",
   "execution_count": 60,
   "id": "1ffd3fff",
   "metadata": {},
   "outputs": [
    {
     "data": {
      "text/plain": [
       "133206"
      ]
     },
     "execution_count": 60,
     "metadata": {},
     "output_type": "execute_result"
    }
   ],
   "source": [
    "len(ontn_sentc_tree_prc10)"
   ]
  },
  {
   "cell_type": "code",
   "execution_count": 61,
   "id": "b3847e97",
   "metadata": {},
   "outputs": [],
   "source": [
    "ontn_sentc_tree_prc11 = []\n",
    "for i, sent in enumerate(ontn_sentc_tree_prc10):\n",
    "    if not has_substring(sent['parse_tree'], del_nfp) and not has_substring(sent['parse_tree'], del_add):\n",
    "        ontn_sentc_tree_prc11.append(sent)"
   ]
  },
  {
   "cell_type": "code",
   "execution_count": 62,
   "id": "294802c6",
   "metadata": {},
   "outputs": [
    {
     "data": {
      "text/plain": [
       "132962"
      ]
     },
     "execution_count": 62,
     "metadata": {},
     "output_type": "execute_result"
    }
   ],
   "source": [
    "len(ontn_sentc_tree_prc11)"
   ]
  },
  {
   "cell_type": "markdown",
   "id": "f5700b61",
   "metadata": {},
   "source": [
    "### Extract rare NN"
   ]
  },
  {
   "cell_type": "code",
   "execution_count": 63,
   "id": "581c3a94",
   "metadata": {},
   "outputs": [
    {
     "data": {
      "text/html": [
       "<div>\n",
       "<style scoped>\n",
       "    .dataframe tbody tr th:only-of-type {\n",
       "        vertical-align: middle;\n",
       "    }\n",
       "\n",
       "    .dataframe tbody tr th {\n",
       "        vertical-align: top;\n",
       "    }\n",
       "\n",
       "    .dataframe thead th {\n",
       "        text-align: right;\n",
       "    }\n",
       "</style>\n",
       "<table border=\"1\" class=\"dataframe\">\n",
       "  <thead>\n",
       "    <tr style=\"text-align: right;\">\n",
       "      <th></th>\n",
       "      <th>(NN #)</th>\n",
       "      <th>(NNP Ok!)</th>\n",
       "      <th>(NN \")</th>\n",
       "      <th>(NNP 6:37)</th>\n",
       "      <th>(NNP Hello!)</th>\n",
       "      <th>(NNS \")</th>\n",
       "      <th>(NN 6/01/2007)</th>\n",
       "      <th>(NNP /)</th>\n",
       "      <th>(NN 0:00)</th>\n",
       "      <th>(NNS **ouchies**,)</th>\n",
       "      <th>(NNP 5:26)</th>\n",
       "      <th>(NNS people/matters)</th>\n",
       "      <th>(NNP 8/15)</th>\n",
       "      <th>(NN 11:39am)</th>\n",
       "      <th>(NNP Long/Zhou)</th>\n",
       "      <th>(NNP #15)</th>\n",
       "      <th>(NN 1/10th)</th>\n",
       "      <th>(NN 1/70th)</th>\n",
       "      <th>(NN 1/80th)</th>\n",
       "      <th>(NN 1/20/2007)</th>\n",
       "      <th>(NN 1/02/2007)</th>\n",
       "      <th>(NNP 3:10pm)</th>\n",
       "      <th>(NN revelations,)</th>\n",
       "      <th>(NNP m/h)</th>\n",
       "      <th>(NN 5:30pm)</th>\n",
       "      <th>(NNP #NAME)</th>\n",
       "    </tr>\n",
       "  </thead>\n",
       "  <tbody>\n",
       "    <tr>\n",
       "      <th>N</th>\n",
       "      <td>16</td>\n",
       "      <td>5</td>\n",
       "      <td>3</td>\n",
       "      <td>3</td>\n",
       "      <td>2</td>\n",
       "      <td>2</td>\n",
       "      <td>1</td>\n",
       "      <td>1</td>\n",
       "      <td>1</td>\n",
       "      <td>1</td>\n",
       "      <td>1</td>\n",
       "      <td>1</td>\n",
       "      <td>1</td>\n",
       "      <td>1</td>\n",
       "      <td>1</td>\n",
       "      <td>1</td>\n",
       "      <td>1</td>\n",
       "      <td>1</td>\n",
       "      <td>1</td>\n",
       "      <td>1</td>\n",
       "      <td>1</td>\n",
       "      <td>1</td>\n",
       "      <td>1</td>\n",
       "      <td>1</td>\n",
       "      <td>1</td>\n",
       "      <td>1</td>\n",
       "    </tr>\n",
       "  </tbody>\n",
       "</table>\n",
       "</div>"
      ],
      "text/plain": [
       "   (NN #)  (NNP Ok!)  (NN \")  (NNP 6:37)  (NNP Hello!)  (NNS \")  \\\n",
       "N      16          5       3           3             2        2   \n",
       "\n",
       "   (NN 6/01/2007)  (NNP /)  (NN 0:00)  (NNS **ouchies**,)  (NNP 5:26)  \\\n",
       "N               1        1          1                   1           1   \n",
       "\n",
       "   (NNS people/matters)  (NNP 8/15)  (NN 11:39am)  (NNP Long/Zhou)  (NNP #15)  \\\n",
       "N                     1           1             1                1          1   \n",
       "\n",
       "   (NN 1/10th)  (NN 1/70th)  (NN 1/80th)  (NN 1/20/2007)  (NN 1/02/2007)  \\\n",
       "N            1            1            1               1               1   \n",
       "\n",
       "   (NNP 3:10pm)  (NN revelations,)  (NNP m/h)  (NN 5:30pm)  (NNP #NAME)  \n",
       "N             1                  1          1            1            1  "
      ]
     },
     "metadata": {},
     "output_type": "display_data"
    },
    {
     "name": "stdout",
     "output_type": "stream",
     "text": [
      "['(NN #)', '(NNP Ok!)', '(NN \")', '(NNP 6:37)', '(NNP Hello!)', '(NNS \")', '(NN 6/01/2007)', '(NNP /)', '(NN 0:00)', '(NNS **ouchies**,)', '(NNP 5:26)', '(NNS people/matters)', '(NNP 8/15)', '(NN 11:39am)', '(NNP Long/Zhou)', '(NNP #15)', '(NN 1/10th)', '(NN 1/70th)', '(NN 1/80th)', '(NN 1/20/2007)', '(NN 1/02/2007)', '(NNP 3:10pm)', '(NN revelations,)', '(NNP m/h)', '(NN 5:30pm)', '(NNP #NAME)']\n"
     ]
    }
   ],
   "source": [
    "nn_nt = dict()\n",
    "for i, sent in enumerate(ontn_sentc_tree_prc11):\n",
    "    substr = \"(NN\"\n",
    "    if substr in sent['parse_tree']:\n",
    "        extractions = extract_all_spec_substring(sent['parse_tree'], substr)\n",
    "        for extraction in extractions:\n",
    "            if has_substring(extraction, [',', '\"', '!', '?', '/', '\\\\', '@', '#', ';', ':', '№', '`']):\n",
    "                if extraction in nn_nt.keys():\n",
    "                    nn_nt[extraction] += 1\n",
    "                else:\n",
    "                    nn_nt[extraction] = 1\n",
    "nn_nt = pd.Series(nn_nt, name='N').to_frame()\n",
    "nn_nt = nn_nt.sort_values('N', ascending=False)\n",
    "display(nn_nt.T)\n",
    "del_nn = nn_nt.index.to_list()\n",
    "print(del_nn)"
   ]
  },
  {
   "cell_type": "markdown",
   "id": "bfebbfe3",
   "metadata": {},
   "source": [
    "### Delete rare NN"
   ]
  },
  {
   "cell_type": "code",
   "execution_count": 64,
   "id": "c92ecd11",
   "metadata": {},
   "outputs": [
    {
     "data": {
      "text/plain": [
       "132962"
      ]
     },
     "execution_count": 64,
     "metadata": {},
     "output_type": "execute_result"
    }
   ],
   "source": [
    "len(ontn_sentc_tree_prc11)"
   ]
  },
  {
   "cell_type": "code",
   "execution_count": 65,
   "id": "3da3afef",
   "metadata": {},
   "outputs": [],
   "source": [
    "ontn_sentc_tree_prc12 = []\n",
    "for i, sent in enumerate(ontn_sentc_tree_prc11):\n",
    "    if not has_substring(sent['parse_tree'], del_nn):\n",
    "        ontn_sentc_tree_prc12.append(sent)"
   ]
  },
  {
   "cell_type": "code",
   "execution_count": 66,
   "id": "aac70013",
   "metadata": {},
   "outputs": [
    {
     "data": {
      "text/plain": [
       "132918"
      ]
     },
     "execution_count": 66,
     "metadata": {},
     "output_type": "execute_result"
    }
   ],
   "source": [
    "len(ontn_sentc_tree_prc12)"
   ]
  },
  {
   "cell_type": "markdown",
   "id": "6701c05c",
   "metadata": {},
   "source": [
    "### Extract rare PRP"
   ]
  },
  {
   "cell_type": "code",
   "execution_count": 67,
   "id": "097e6600",
   "metadata": {},
   "outputs": [
    {
     "data": {
      "text/html": [
       "<div>\n",
       "<style scoped>\n",
       "    .dataframe tbody tr th:only-of-type {\n",
       "        vertical-align: middle;\n",
       "    }\n",
       "\n",
       "    .dataframe tbody tr th {\n",
       "        vertical-align: top;\n",
       "    }\n",
       "\n",
       "    .dataframe thead th {\n",
       "        text-align: right;\n",
       "    }\n",
       "</style>\n",
       "<table border=\"1\" class=\"dataframe\">\n",
       "  <thead>\n",
       "    <tr style=\"text-align: right;\">\n",
       "      <th></th>\n",
       "      <th>(PRP I)</th>\n",
       "      <th>(PRP it)</th>\n",
       "      <th>(PRP you)</th>\n",
       "      <th>(PRP he)</th>\n",
       "      <th>(PRP they)</th>\n",
       "      <th>(PRP$ his)</th>\n",
       "      <th>(PRP we)</th>\n",
       "      <th>(PRP$ their)</th>\n",
       "      <th>(PRP$ its)</th>\n",
       "      <th>(PRP He)</th>\n",
       "      <th>(PRP them)</th>\n",
       "      <th>(PRP him)</th>\n",
       "      <th>(PRP It)</th>\n",
       "      <th>(PRP me)</th>\n",
       "      <th>(PRP They)</th>\n",
       "      <th>(PRP$ your)</th>\n",
       "      <th>(PRP$ my)</th>\n",
       "      <th>(PRP We)</th>\n",
       "      <th>(PRP she)</th>\n",
       "      <th>(PRP You)</th>\n",
       "      <th>(PRP$ our)</th>\n",
       "      <th>(PRP us)</th>\n",
       "      <th>(PRP$ her)</th>\n",
       "      <th>(PRP her)</th>\n",
       "      <th>(PRP She)</th>\n",
       "      <th>(PRP themselves)</th>\n",
       "      <th>(PRP himself)</th>\n",
       "      <th>(PRP$ His)</th>\n",
       "      <th>(PRP$ My)</th>\n",
       "      <th>(PRP itself)</th>\n",
       "      <th>(PRP 's)</th>\n",
       "      <th>(PRP$ Your)</th>\n",
       "      <th>(PRP$ Our)</th>\n",
       "      <th>(PRP one)</th>\n",
       "      <th>(PRP$ Their)</th>\n",
       "      <th>(PRP myself)</th>\n",
       "      <th>(PRP yourself)</th>\n",
       "      <th>(PRP$ Its)</th>\n",
       "      <th>(PRP$ Her)</th>\n",
       "      <th>(PRP i)</th>\n",
       "      <th>(PRP ourselves)</th>\n",
       "      <th>(PRP herself)</th>\n",
       "      <th>(PRP mine)</th>\n",
       "      <th>(PRP One)</th>\n",
       "      <th>(PRP his)</th>\n",
       "      <th>(PRP yours)</th>\n",
       "      <th>(PRP yourselves)</th>\n",
       "      <th>(PRP Me)</th>\n",
       "      <th>(PRP$ yours)</th>\n",
       "      <th>(PRP theirs)</th>\n",
       "      <th>(PRP oneself)</th>\n",
       "      <th>(PRP ours)</th>\n",
       "      <th>(PRP Them)</th>\n",
       "      <th>(PRP 'em)</th>\n",
       "      <th>(PRP$ ours)</th>\n",
       "      <th>(PRP Her)</th>\n",
       "      <th>(PRP Him)</th>\n",
       "      <th>(PRP IT)</th>\n",
       "      <th>(PRP YOU)</th>\n",
       "      <th>(PRP y-)</th>\n",
       "      <th>(PRP hers)</th>\n",
       "      <th>(PRP s)</th>\n",
       "      <th>(PRP ya)</th>\n",
       "      <th>(PRP i-)</th>\n",
       "      <th>(PRP$ it's)</th>\n",
       "      <th>(PRP =it)</th>\n",
       "      <th>(PRP Themselves)</th>\n",
       "      <th>(PRP US)</th>\n",
       "      <th>(PRP Us)</th>\n",
       "      <th>(PRP$ mine)</th>\n",
       "      <th>(PRP em)</th>\n",
       "      <th>(PRP$ thy)</th>\n",
       "      <th>(PRP Its)</th>\n",
       "      <th>(PRP your)</th>\n",
       "      <th>(PRP$ HIS)</th>\n",
       "      <th>(PRP$ there)</th>\n",
       "      <th>(PRP$ thier)</th>\n",
       "      <th>(PRP$ you)</th>\n",
       "      <th>(PRP you'll)</th>\n",
       "      <th>(PRP ye)</th>\n",
       "      <th>(PRP WE)</th>\n",
       "      <th>(PRP yo-)</th>\n",
       "      <th>(PRP Ourselves)</th>\n",
       "      <th>(PRP its)</th>\n",
       "      <th>(PRP thee)</th>\n",
       "      <th>(PRP$ yer)</th>\n",
       "      <th>(PRP U)</th>\n",
       "      <th>(PRP$ YOUR)</th>\n",
       "      <th>(PRP y'all)</th>\n",
       "      <th>(PRP sh-)</th>\n",
       "      <th>(PRP THYSELF)</th>\n",
       "      <th>(PRP HE)</th>\n",
       "      <th>(PRP Fong)</th>\n",
       "      <th>(PRP Himself)</th>\n",
       "      <th>(PRP In)</th>\n",
       "      <th>(PRP `T)</th>\n",
       "      <th>(PRP they'd)</th>\n",
       "      <th>(PRP I\"m)</th>\n",
       "      <th>(PRP I'm)</th>\n",
       "      <th>(PRP Itself)</th>\n",
       "      <th>(PRP yooooooooooou)</th>\n",
       "      <th>(PRP my)</th>\n",
       "      <th>(PRP Nassir)</th>\n",
       "      <th>(PRP w-)</th>\n",
       "      <th>(PRP h-)</th>\n",
       "      <th>(PRP we-)</th>\n",
       "      <th>(PRP hi-)</th>\n",
       "      <th>(PRP I-)</th>\n",
       "      <th>(PRP Myself)</th>\n",
       "      <th>(PRP 'T-)</th>\n",
       "      <th>(PRP t')</th>\n",
       "      <th>(PRP Mine)</th>\n",
       "      <th>(PRP y')</th>\n",
       "      <th>(PRP then)</th>\n",
       "      <th>(PRP OURS)</th>\n",
       "      <th>(PRP Yourself)</th>\n",
       "      <th>(PRP THey)</th>\n",
       "      <th>(PRP THEM)</th>\n",
       "      <th>(PRP you're)</th>\n",
       "      <th>(PRP He/She)</th>\n",
       "      <th>(PRP If)</th>\n",
       "      <th>(PRP cha)</th>\n",
       "      <th>(PRP Ya)</th>\n",
       "      <th>(PRP yu)</th>\n",
       "      <th>(PRP hime)</th>\n",
       "      <th>(PRP My)</th>\n",
       "      <th>(PRP the)</th>\n",
       "      <th>(PRP thyself)</th>\n",
       "      <th>(PRP the-)</th>\n",
       "      <th>(PRP there)</th>\n",
       "    </tr>\n",
       "  </thead>\n",
       "  <tbody>\n",
       "    <tr>\n",
       "      <th>N</th>\n",
       "      <td>17251</td>\n",
       "      <td>14991</td>\n",
       "      <td>14610</td>\n",
       "      <td>9336</td>\n",
       "      <td>8541</td>\n",
       "      <td>6743</td>\n",
       "      <td>6007</td>\n",
       "      <td>5309</td>\n",
       "      <td>4590</td>\n",
       "      <td>4428</td>\n",
       "      <td>4332</td>\n",
       "      <td>3866</td>\n",
       "      <td>3825</td>\n",
       "      <td>3252</td>\n",
       "      <td>3180</td>\n",
       "      <td>2967</td>\n",
       "      <td>2583</td>\n",
       "      <td>2428</td>\n",
       "      <td>2416</td>\n",
       "      <td>2335</td>\n",
       "      <td>2116</td>\n",
       "      <td>2000</td>\n",
       "      <td>1481</td>\n",
       "      <td>877</td>\n",
       "      <td>791</td>\n",
       "      <td>463</td>\n",
       "      <td>456</td>\n",
       "      <td>446</td>\n",
       "      <td>413</td>\n",
       "      <td>366</td>\n",
       "      <td>291</td>\n",
       "      <td>232</td>\n",
       "      <td>231</td>\n",
       "      <td>196</td>\n",
       "      <td>191</td>\n",
       "      <td>178</td>\n",
       "      <td>164</td>\n",
       "      <td>133</td>\n",
       "      <td>125</td>\n",
       "      <td>86</td>\n",
       "      <td>79</td>\n",
       "      <td>76</td>\n",
       "      <td>39</td>\n",
       "      <td>29</td>\n",
       "      <td>21</td>\n",
       "      <td>20</td>\n",
       "      <td>20</td>\n",
       "      <td>19</td>\n",
       "      <td>17</td>\n",
       "      <td>14</td>\n",
       "      <td>13</td>\n",
       "      <td>12</td>\n",
       "      <td>10</td>\n",
       "      <td>8</td>\n",
       "      <td>7</td>\n",
       "      <td>7</td>\n",
       "      <td>7</td>\n",
       "      <td>5</td>\n",
       "      <td>4</td>\n",
       "      <td>4</td>\n",
       "      <td>4</td>\n",
       "      <td>4</td>\n",
       "      <td>4</td>\n",
       "      <td>4</td>\n",
       "      <td>4</td>\n",
       "      <td>4</td>\n",
       "      <td>3</td>\n",
       "      <td>3</td>\n",
       "      <td>3</td>\n",
       "      <td>3</td>\n",
       "      <td>3</td>\n",
       "      <td>3</td>\n",
       "      <td>3</td>\n",
       "      <td>3</td>\n",
       "      <td>2</td>\n",
       "      <td>2</td>\n",
       "      <td>2</td>\n",
       "      <td>2</td>\n",
       "      <td>2</td>\n",
       "      <td>2</td>\n",
       "      <td>2</td>\n",
       "      <td>2</td>\n",
       "      <td>2</td>\n",
       "      <td>2</td>\n",
       "      <td>2</td>\n",
       "      <td>2</td>\n",
       "      <td>2</td>\n",
       "      <td>2</td>\n",
       "      <td>2</td>\n",
       "      <td>2</td>\n",
       "      <td>1</td>\n",
       "      <td>1</td>\n",
       "      <td>1</td>\n",
       "      <td>1</td>\n",
       "      <td>1</td>\n",
       "      <td>1</td>\n",
       "      <td>1</td>\n",
       "      <td>1</td>\n",
       "      <td>1</td>\n",
       "      <td>1</td>\n",
       "      <td>1</td>\n",
       "      <td>1</td>\n",
       "      <td>1</td>\n",
       "      <td>1</td>\n",
       "      <td>1</td>\n",
       "      <td>1</td>\n",
       "      <td>1</td>\n",
       "      <td>1</td>\n",
       "      <td>1</td>\n",
       "      <td>1</td>\n",
       "      <td>1</td>\n",
       "      <td>1</td>\n",
       "      <td>1</td>\n",
       "      <td>1</td>\n",
       "      <td>1</td>\n",
       "      <td>1</td>\n",
       "      <td>1</td>\n",
       "      <td>1</td>\n",
       "      <td>1</td>\n",
       "      <td>1</td>\n",
       "      <td>1</td>\n",
       "      <td>1</td>\n",
       "      <td>1</td>\n",
       "      <td>1</td>\n",
       "      <td>1</td>\n",
       "      <td>1</td>\n",
       "      <td>1</td>\n",
       "      <td>1</td>\n",
       "      <td>1</td>\n",
       "      <td>1</td>\n",
       "    </tr>\n",
       "  </tbody>\n",
       "</table>\n",
       "</div>"
      ],
      "text/plain": [
       "   (PRP I)  (PRP it)  (PRP you)  (PRP he)  (PRP they)  (PRP$ his)  (PRP we)  \\\n",
       "N    17251     14991      14610      9336        8541        6743      6007   \n",
       "\n",
       "   (PRP$ their)  (PRP$ its)  (PRP He)  (PRP them)  (PRP him)  (PRP It)  \\\n",
       "N          5309        4590      4428        4332       3866      3825   \n",
       "\n",
       "   (PRP me)  (PRP They)  (PRP$ your)  (PRP$ my)  (PRP We)  (PRP she)  \\\n",
       "N      3252        3180         2967       2583      2428       2416   \n",
       "\n",
       "   (PRP You)  (PRP$ our)  (PRP us)  (PRP$ her)  (PRP her)  (PRP She)  \\\n",
       "N       2335        2116      2000        1481        877        791   \n",
       "\n",
       "   (PRP themselves)  (PRP himself)  (PRP$ His)  (PRP$ My)  (PRP itself)  \\\n",
       "N               463            456         446        413           366   \n",
       "\n",
       "   (PRP 's)  (PRP$ Your)  (PRP$ Our)  (PRP one)  (PRP$ Their)  (PRP myself)  \\\n",
       "N       291          232         231        196           191           178   \n",
       "\n",
       "   (PRP yourself)  (PRP$ Its)  (PRP$ Her)  (PRP i)  (PRP ourselves)  \\\n",
       "N             164         133         125       86               79   \n",
       "\n",
       "   (PRP herself)  (PRP mine)  (PRP One)  (PRP his)  (PRP yours)  \\\n",
       "N             76          39         29         21           20   \n",
       "\n",
       "   (PRP yourselves)  (PRP Me)  (PRP$ yours)  (PRP theirs)  (PRP oneself)  \\\n",
       "N                20        19            17            14             13   \n",
       "\n",
       "   (PRP ours)  (PRP Them)  (PRP 'em)  (PRP$ ours)  (PRP Her)  (PRP Him)  \\\n",
       "N          12          10          8            7          7          7   \n",
       "\n",
       "   (PRP IT)  (PRP YOU)  (PRP y-)  (PRP hers)  (PRP s)  (PRP ya)  (PRP i-)  \\\n",
       "N         5          4         4           4        4         4         4   \n",
       "\n",
       "   (PRP$ it's)  (PRP =it)  (PRP Themselves)  (PRP US)  (PRP Us)  (PRP$ mine)  \\\n",
       "N            4          4                 3         3         3            3   \n",
       "\n",
       "   (PRP em)  (PRP$ thy)  (PRP Its)  (PRP your)  (PRP$ HIS)  (PRP$ there)  \\\n",
       "N         3           3          3           3           2             2   \n",
       "\n",
       "   (PRP$ thier)  (PRP$ you)  (PRP you'll)  (PRP ye)  (PRP WE)  (PRP yo-)  \\\n",
       "N             2           2             2         2         2          2   \n",
       "\n",
       "   (PRP Ourselves)  (PRP its)  (PRP thee)  (PRP$ yer)  (PRP U)  (PRP$ YOUR)  \\\n",
       "N                2          2           2           2        2            2   \n",
       "\n",
       "   (PRP y'all)  (PRP sh-)  (PRP THYSELF)  (PRP HE)  (PRP Fong)  (PRP Himself)  \\\n",
       "N            2          2              1         1           1              1   \n",
       "\n",
       "   (PRP In)  (PRP `T)  (PRP they'd)  (PRP I\"m)  (PRP I'm)  (PRP Itself)  \\\n",
       "N         1         1             1          1          1             1   \n",
       "\n",
       "   (PRP yooooooooooou)  (PRP my)  (PRP Nassir)  (PRP w-)  (PRP h-)  (PRP we-)  \\\n",
       "N                    1         1             1         1         1          1   \n",
       "\n",
       "   (PRP hi-)  (PRP I-)  (PRP Myself)  (PRP 'T-)  (PRP t')  (PRP Mine)  \\\n",
       "N          1         1             1          1         1           1   \n",
       "\n",
       "   (PRP y')  (PRP then)  (PRP OURS)  (PRP Yourself)  (PRP THey)  (PRP THEM)  \\\n",
       "N         1           1           1               1           1           1   \n",
       "\n",
       "   (PRP you're)  (PRP He/She)  (PRP If)  (PRP cha)  (PRP Ya)  (PRP yu)  \\\n",
       "N             1             1         1          1         1         1   \n",
       "\n",
       "   (PRP hime)  (PRP My)  (PRP the)  (PRP thyself)  (PRP the-)  (PRP there)  \n",
       "N           1         1          1              1           1            1  "
      ]
     },
     "metadata": {},
     "output_type": "display_data"
    },
    {
     "name": "stdout",
     "output_type": "stream",
     "text": [
      "['(PRP YOU)', '(PRP y-)', '(PRP hers)', '(PRP s)', '(PRP ya)', '(PRP i-)', \"(PRP$ it's)\", '(PRP =it)', '(PRP Themselves)', '(PRP US)', '(PRP Us)', '(PRP$ mine)', '(PRP em)', '(PRP$ thy)', '(PRP Its)', '(PRP your)', '(PRP$ HIS)', '(PRP$ there)', '(PRP$ thier)', '(PRP$ you)', \"(PRP you'll)\", '(PRP ye)', '(PRP WE)', '(PRP yo-)', '(PRP Ourselves)', '(PRP its)', '(PRP thee)', '(PRP$ yer)', '(PRP U)', '(PRP$ YOUR)', \"(PRP y'all)\", '(PRP sh-)', '(PRP THYSELF)', '(PRP HE)', '(PRP Fong)', '(PRP Himself)', '(PRP In)', '(PRP `T)', \"(PRP they'd)\", '(PRP I\"m)', \"(PRP I'm)\", '(PRP Itself)', '(PRP yooooooooooou)', '(PRP my)', '(PRP Nassir)', '(PRP w-)', '(PRP h-)', '(PRP we-)', '(PRP hi-)', '(PRP I-)', '(PRP Myself)', \"(PRP 'T-)\", \"(PRP t')\", '(PRP Mine)', \"(PRP y')\", '(PRP then)', '(PRP OURS)', '(PRP Yourself)', '(PRP THey)', '(PRP THEM)', \"(PRP you're)\", '(PRP He/She)', '(PRP If)', '(PRP cha)', '(PRP Ya)', '(PRP yu)', '(PRP hime)', '(PRP My)', '(PRP the)', '(PRP thyself)', '(PRP the-)', '(PRP there)']\n"
     ]
    }
   ],
   "source": [
    "prp_nt = dict()\n",
    "for i, sent in enumerate(ontn_sentc_tree_prc12):\n",
    "    substr = \"(PRP\"\n",
    "    if substr in sent['parse_tree']:\n",
    "        extractions = extract_all_spec_substring(sent['parse_tree'], substr)\n",
    "        for extraction in extractions:\n",
    "            if extraction in prp_nt.keys():\n",
    "                prp_nt[extraction] += 1\n",
    "            else:\n",
    "                prp_nt[extraction] = 1\n",
    "prp_nt = pd.Series(prp_nt, name='N').to_frame()\n",
    "prp_nt = prp_nt.sort_values('N', ascending=False)\n",
    "display(prp_nt.T)\n",
    "del_prp = prp_nt[prp_nt['N'] <= 4].index.to_list()\n",
    "print(del_prp)"
   ]
  },
  {
   "cell_type": "markdown",
   "id": "d6f4c49f",
   "metadata": {},
   "source": [
    "### Delete rare PRP"
   ]
  },
  {
   "cell_type": "code",
   "execution_count": 68,
   "id": "a9a1fb65",
   "metadata": {},
   "outputs": [
    {
     "data": {
      "text/plain": [
       "132918"
      ]
     },
     "execution_count": 68,
     "metadata": {},
     "output_type": "execute_result"
    }
   ],
   "source": [
    "len(ontn_sentc_tree_prc12)"
   ]
  },
  {
   "cell_type": "code",
   "execution_count": 69,
   "id": "a4201c8f",
   "metadata": {},
   "outputs": [],
   "source": [
    "ontn_sentc_tree_prc13 = []\n",
    "for i, sent in enumerate(ontn_sentc_tree_prc12):\n",
    "    if not has_substring(sent['parse_tree'], del_prp):\n",
    "        ontn_sentc_tree_prc13.append(sent)"
   ]
  },
  {
   "cell_type": "code",
   "execution_count": 70,
   "id": "8100ad68",
   "metadata": {},
   "outputs": [
    {
     "data": {
      "text/plain": [
       "132797"
      ]
     },
     "execution_count": 70,
     "metadata": {},
     "output_type": "execute_result"
    }
   ],
   "source": [
    "len(ontn_sentc_tree_prc13)"
   ]
  },
  {
   "cell_type": "markdown",
   "id": "f72aa3b1",
   "metadata": {},
   "source": [
    "### Extract rare CC"
   ]
  },
  {
   "cell_type": "code",
   "execution_count": 71,
   "id": "86314f0b",
   "metadata": {},
   "outputs": [
    {
     "data": {
      "text/html": [
       "<div>\n",
       "<style scoped>\n",
       "    .dataframe tbody tr th:only-of-type {\n",
       "        vertical-align: middle;\n",
       "    }\n",
       "\n",
       "    .dataframe tbody tr th {\n",
       "        vertical-align: top;\n",
       "    }\n",
       "\n",
       "    .dataframe thead th {\n",
       "        text-align: right;\n",
       "    }\n",
       "</style>\n",
       "<table border=\"1\" class=\"dataframe\">\n",
       "  <thead>\n",
       "    <tr style=\"text-align: right;\">\n",
       "      <th></th>\n",
       "      <th>(CC and)</th>\n",
       "      <th>(CC but)</th>\n",
       "      <th>(CC or)</th>\n",
       "      <th>(CC But)</th>\n",
       "      <th>(CC And)</th>\n",
       "      <th>(CC &amp;)</th>\n",
       "      <th>(CC so)</th>\n",
       "      <th>(CC both)</th>\n",
       "      <th>(CC So)</th>\n",
       "      <th>(CC either)</th>\n",
       "      <th>(CC nor)</th>\n",
       "      <th>(CC Or)</th>\n",
       "      <th>(CC plus)</th>\n",
       "      <th>(CC Yet)</th>\n",
       "      <th>(CC yet)</th>\n",
       "      <th>(CC neither)</th>\n",
       "      <th>(CC Both)</th>\n",
       "      <th>(CC Nor)</th>\n",
       "      <th>(CC AND)</th>\n",
       "      <th>(CC Plus)</th>\n",
       "      <th>(CC Neither)</th>\n",
       "      <th>(CC whether)</th>\n",
       "      <th>(CC Either)</th>\n",
       "      <th>(CC less)</th>\n",
       "      <th>(CC For)</th>\n",
       "      <th>(CC for)</th>\n",
       "      <th>(CC minus)</th>\n",
       "      <th>(CC vs.)</th>\n",
       "      <th>(CC v.)</th>\n",
       "      <th>(CC 'n')</th>\n",
       "      <th>(CC times)</th>\n",
       "      <th>(CC N')</th>\n",
       "      <th>(CC an-)</th>\n",
       "      <th>(CC not)</th>\n",
       "      <th>(CC /)</th>\n",
       "      <th>(CC an)</th>\n",
       "      <th>(CC An-)</th>\n",
       "      <th>(CC twenty)</th>\n",
       "      <th>(CC bouncer)</th>\n",
       "      <th>(CC rather)</th>\n",
       "      <th>(CC and/or)</th>\n",
       "      <th>(CC 'N)</th>\n",
       "      <th>(CC ten)</th>\n",
       "      <th>(CC fall)</th>\n",
       "      <th>(CC to)</th>\n",
       "      <th>(CC moreover)</th>\n",
       "      <th>(CC Whether)</th>\n",
       "      <th>(CC +)</th>\n",
       "      <th>(CC BUT)</th>\n",
       "      <th>(CC in)</th>\n",
       "      <th>(CC of)</th>\n",
       "      <th>(CC BOTH)</th>\n",
       "      <th>(CC versus)</th>\n",
       "      <th>(CC Be)</th>\n",
       "      <th>(CC a)</th>\n",
       "      <th>(CC n)</th>\n",
       "      <th>(CC `n)</th>\n",
       "      <th>(CC OR)</th>\n",
       "    </tr>\n",
       "  </thead>\n",
       "  <tbody>\n",
       "    <tr>\n",
       "      <th>N</th>\n",
       "      <td>52352</td>\n",
       "      <td>5739</td>\n",
       "      <td>5184</td>\n",
       "      <td>4802</td>\n",
       "      <td>3474</td>\n",
       "      <td>956</td>\n",
       "      <td>300</td>\n",
       "      <td>275</td>\n",
       "      <td>177</td>\n",
       "      <td>171</td>\n",
       "      <td>157</td>\n",
       "      <td>128</td>\n",
       "      <td>92</td>\n",
       "      <td>77</td>\n",
       "      <td>69</td>\n",
       "      <td>62</td>\n",
       "      <td>31</td>\n",
       "      <td>28</td>\n",
       "      <td>23</td>\n",
       "      <td>17</td>\n",
       "      <td>15</td>\n",
       "      <td>12</td>\n",
       "      <td>12</td>\n",
       "      <td>10</td>\n",
       "      <td>10</td>\n",
       "      <td>10</td>\n",
       "      <td>7</td>\n",
       "      <td>6</td>\n",
       "      <td>6</td>\n",
       "      <td>5</td>\n",
       "      <td>4</td>\n",
       "      <td>4</td>\n",
       "      <td>3</td>\n",
       "      <td>3</td>\n",
       "      <td>2</td>\n",
       "      <td>2</td>\n",
       "      <td>2</td>\n",
       "      <td>1</td>\n",
       "      <td>1</td>\n",
       "      <td>1</td>\n",
       "      <td>1</td>\n",
       "      <td>1</td>\n",
       "      <td>1</td>\n",
       "      <td>1</td>\n",
       "      <td>1</td>\n",
       "      <td>1</td>\n",
       "      <td>1</td>\n",
       "      <td>1</td>\n",
       "      <td>1</td>\n",
       "      <td>1</td>\n",
       "      <td>1</td>\n",
       "      <td>1</td>\n",
       "      <td>1</td>\n",
       "      <td>1</td>\n",
       "      <td>1</td>\n",
       "      <td>1</td>\n",
       "      <td>1</td>\n",
       "      <td>1</td>\n",
       "    </tr>\n",
       "  </tbody>\n",
       "</table>\n",
       "</div>"
      ],
      "text/plain": [
       "   (CC and)  (CC but)  (CC or)  (CC But)  (CC And)  (CC &)  (CC so)  \\\n",
       "N     52352      5739     5184      4802      3474     956      300   \n",
       "\n",
       "   (CC both)  (CC So)  (CC either)  (CC nor)  (CC Or)  (CC plus)  (CC Yet)  \\\n",
       "N        275      177          171       157      128         92        77   \n",
       "\n",
       "   (CC yet)  (CC neither)  (CC Both)  (CC Nor)  (CC AND)  (CC Plus)  \\\n",
       "N        69            62         31        28        23         17   \n",
       "\n",
       "   (CC Neither)  (CC whether)  (CC Either)  (CC less)  (CC For)  (CC for)  \\\n",
       "N            15            12           12         10        10        10   \n",
       "\n",
       "   (CC minus)  (CC vs.)  (CC v.)  (CC 'n')  (CC times)  (CC N')  (CC an-)  \\\n",
       "N           7         6        6         5           4        4         3   \n",
       "\n",
       "   (CC not)  (CC /)  (CC an)  (CC An-)  (CC twenty)  (CC bouncer)  \\\n",
       "N         3       2        2         2            1             1   \n",
       "\n",
       "   (CC rather)  (CC and/or)  (CC 'N)  (CC ten)  (CC fall)  (CC to)  \\\n",
       "N            1            1        1         1          1        1   \n",
       "\n",
       "   (CC moreover)  (CC Whether)  (CC +)  (CC BUT)  (CC in)  (CC of)  (CC BOTH)  \\\n",
       "N              1             1       1         1        1        1          1   \n",
       "\n",
       "   (CC versus)  (CC Be)  (CC a)  (CC n)  (CC `n)  (CC OR)  \n",
       "N            1        1       1       1        1        1  "
      ]
     },
     "metadata": {},
     "output_type": "display_data"
    },
    {
     "name": "stdout",
     "output_type": "stream",
     "text": [
      "['(CC times)', \"(CC N')\", '(CC an-)', '(CC not)', '(CC /)', '(CC an)', '(CC An-)', '(CC twenty)', '(CC bouncer)', '(CC rather)', '(CC and/or)', \"(CC 'N)\", '(CC ten)', '(CC fall)', '(CC to)', '(CC moreover)', '(CC Whether)', '(CC +)', '(CC BUT)', '(CC in)', '(CC of)', '(CC BOTH)', '(CC versus)', '(CC Be)', '(CC a)', '(CC n)', '(CC `n)', '(CC OR)']\n"
     ]
    }
   ],
   "source": [
    "cc_nt = dict()\n",
    "for i, sent in enumerate(ontn_sentc_tree_prc12):\n",
    "    substr = \"(CC\"\n",
    "    if substr in sent['parse_tree']:\n",
    "        extractions = extract_all_spec_substring(sent['parse_tree'], substr)\n",
    "        for extraction in extractions:\n",
    "            if extraction in cc_nt.keys():\n",
    "                cc_nt[extraction] += 1\n",
    "            else:\n",
    "                cc_nt[extraction] = 1\n",
    "cc_nt = pd.Series(cc_nt, name='N').to_frame()\n",
    "cc_nt = cc_nt.sort_values('N', ascending=False)\n",
    "display(cc_nt.T)\n",
    "del_cc = cc_nt[cc_nt['N'] <= 4].index.to_list()\n",
    "print(del_cc)"
   ]
  },
  {
   "cell_type": "markdown",
   "id": "e5f37592",
   "metadata": {},
   "source": [
    "### Delete rare CC"
   ]
  },
  {
   "cell_type": "code",
   "execution_count": 72,
   "id": "06b0dc0d",
   "metadata": {},
   "outputs": [
    {
     "data": {
      "text/plain": [
       "132797"
      ]
     },
     "execution_count": 72,
     "metadata": {},
     "output_type": "execute_result"
    }
   ],
   "source": [
    "len(ontn_sentc_tree_prc13)"
   ]
  },
  {
   "cell_type": "code",
   "execution_count": 73,
   "id": "dbf22346",
   "metadata": {},
   "outputs": [],
   "source": [
    "ontn_sentc_tree_prc14 = []\n",
    "for i, sent in enumerate(ontn_sentc_tree_prc13):\n",
    "    if not has_substring(sent['parse_tree'], del_cc):\n",
    "        ontn_sentc_tree_prc14.append(sent)"
   ]
  },
  {
   "cell_type": "code",
   "execution_count": 74,
   "id": "afd234dd",
   "metadata": {},
   "outputs": [
    {
     "data": {
      "text/plain": [
       "132758"
      ]
     },
     "execution_count": 74,
     "metadata": {},
     "output_type": "execute_result"
    }
   ],
   "source": [
    "len(ontn_sentc_tree_prc14)"
   ]
  },
  {
   "cell_type": "markdown",
   "id": "8235f1b9",
   "metadata": {},
   "source": [
    "### Extract rare HYPH"
   ]
  },
  {
   "cell_type": "code",
   "execution_count": 75,
   "id": "686e319b",
   "metadata": {},
   "outputs": [
    {
     "data": {
      "text/html": [
       "<div>\n",
       "<style scoped>\n",
       "    .dataframe tbody tr th:only-of-type {\n",
       "        vertical-align: middle;\n",
       "    }\n",
       "\n",
       "    .dataframe tbody tr th {\n",
       "        vertical-align: top;\n",
       "    }\n",
       "\n",
       "    .dataframe thead th {\n",
       "        text-align: right;\n",
       "    }\n",
       "</style>\n",
       "<table border=\"1\" class=\"dataframe\">\n",
       "  <thead>\n",
       "    <tr style=\"text-align: right;\">\n",
       "      <th></th>\n",
       "      <th>(HYPH -)</th>\n",
       "      <th>(HYPH /)</th>\n",
       "    </tr>\n",
       "  </thead>\n",
       "  <tbody>\n",
       "    <tr>\n",
       "      <th>N</th>\n",
       "      <td>17519</td>\n",
       "      <td>3</td>\n",
       "    </tr>\n",
       "  </tbody>\n",
       "</table>\n",
       "</div>"
      ],
      "text/plain": [
       "   (HYPH -)  (HYPH /)\n",
       "N     17519         3"
      ]
     },
     "metadata": {},
     "output_type": "display_data"
    },
    {
     "name": "stdout",
     "output_type": "stream",
     "text": [
      "['(HYPH /)']\n"
     ]
    }
   ],
   "source": [
    "hyph_nt = dict()\n",
    "for i, sent in enumerate(ontn_sentc_tree_prc12):\n",
    "    substr = \"(HYPH\"\n",
    "    if substr in sent['parse_tree']:\n",
    "        extractions = extract_all_spec_substring(sent['parse_tree'], substr)\n",
    "        for extraction in extractions:\n",
    "            if extraction in hyph_nt.keys():\n",
    "                hyph_nt[extraction] += 1\n",
    "            else:\n",
    "                hyph_nt[extraction] = 1\n",
    "hyph_nt = pd.Series(hyph_nt, name='N').to_frame()\n",
    "hyph_nt = hyph_nt.sort_values('N', ascending=False)\n",
    "display(hyph_nt.T)\n",
    "del_hyph = hyph_nt[hyph_nt['N'] <= 3].index.to_list()\n",
    "print(del_hyph)"
   ]
  },
  {
   "cell_type": "markdown",
   "id": "3a6f939a",
   "metadata": {},
   "source": [
    "### Delete rare HYPH"
   ]
  },
  {
   "cell_type": "code",
   "execution_count": 76,
   "id": "1bd0e5fa",
   "metadata": {},
   "outputs": [
    {
     "data": {
      "text/plain": [
       "132758"
      ]
     },
     "execution_count": 76,
     "metadata": {},
     "output_type": "execute_result"
    }
   ],
   "source": [
    "len(ontn_sentc_tree_prc14)"
   ]
  },
  {
   "cell_type": "code",
   "execution_count": 77,
   "id": "9a7c0cf2",
   "metadata": {},
   "outputs": [],
   "source": [
    "ontn_sentc_tree_prc15 = []\n",
    "for i, sent in enumerate(ontn_sentc_tree_prc14):\n",
    "    if not has_substring(sent['parse_tree'], del_hyph):\n",
    "        ontn_sentc_tree_prc15.append(sent)"
   ]
  },
  {
   "cell_type": "code",
   "execution_count": 78,
   "id": "dad67641",
   "metadata": {},
   "outputs": [
    {
     "data": {
      "text/plain": [
       "132755"
      ]
     },
     "execution_count": 78,
     "metadata": {},
     "output_type": "execute_result"
    }
   ],
   "source": [
    "len(ontn_sentc_tree_prc15)"
   ]
  },
  {
   "cell_type": "markdown",
   "id": "cf618b09",
   "metadata": {},
   "source": [
    "### Extract rare X"
   ]
  },
  {
   "cell_type": "code",
   "execution_count": 79,
   "id": "beb832d3",
   "metadata": {},
   "outputs": [
    {
     "data": {
      "text/html": [
       "<div>\n",
       "<style scoped>\n",
       "    .dataframe tbody tr th:only-of-type {\n",
       "        vertical-align: middle;\n",
       "    }\n",
       "\n",
       "    .dataframe tbody tr th {\n",
       "        vertical-align: top;\n",
       "    }\n",
       "\n",
       "    .dataframe thead th {\n",
       "        text-align: right;\n",
       "    }\n",
       "</style>\n",
       "<table border=\"1\" class=\"dataframe\">\n",
       "  <thead>\n",
       "    <tr style=\"text-align: right;\">\n",
       "      <th></th>\n",
       "      <th>(X (DT the)</th>\n",
       "      <th>(X (CD 12)</th>\n",
       "      <th>(X (DT The)</th>\n",
       "      <th>(X (IN of)</th>\n",
       "      <th>(X (-RRB- -RRB-)</th>\n",
       "      <th>(X (IN in)</th>\n",
       "      <th>(X (TO to)</th>\n",
       "      <th>(X (VBD was)</th>\n",
       "      <th>(X (POS ')</th>\n",
       "      <th>(X (POS 's)</th>\n",
       "      <th>(X (CC and)</th>\n",
       "      <th>(X (CD 144)</th>\n",
       "      <th>(X (CD 10)</th>\n",
       "      <th>(X (WP what)</th>\n",
       "      <th>(X (IN to)</th>\n",
       "      <th>(X (IN that)</th>\n",
       "      <th>(X (VBZ is)</th>\n",
       "      <th>(X (DT a)</th>\n",
       "      <th>(X (VBP 'm)</th>\n",
       "      <th>(X (DT that)</th>\n",
       "      <th>(X (IN at)</th>\n",
       "      <th>(X (RB so)</th>\n",
       "      <th>(X (IN with)</th>\n",
       "      <th>(X (VB comment)</th>\n",
       "      <th>(X (JJ personal)</th>\n",
       "      <th>(X (NNP Lara)</th>\n",
       "      <th>(X (PRP he)</th>\n",
       "      <th>(X (IN for)</th>\n",
       "      <th>(X (RB below)</th>\n",
       "      <th>(X (NN employ)</th>\n",
       "      <th>(X (JJ such)</th>\n",
       "      <th>(X (JJ new)</th>\n",
       "      <th>(X (RB about)</th>\n",
       "      <th>(X (VBZ vpts)</th>\n",
       "      <th>(X (IN upon)</th>\n",
       "      <th>(X (NNP Tee)</th>\n",
       "      <th>(X (RB online)</th>\n",
       "      <th>(X (IN during)</th>\n",
       "      <th>(X (FW Viva)</th>\n",
       "      <th>(X (NN etc.)</th>\n",
       "      <th>(X (VBZ Asks)</th>\n",
       "      <th>(X (MD can)</th>\n",
       "      <th>(X (WP What)</th>\n",
       "      <th>(X (RB ever)</th>\n",
       "      <th>(X (NNP Bull)</th>\n",
       "      <th>(X (FW vis)</th>\n",
       "      <th>(X (NN a)</th>\n",
       "      <th>(X (VBD were)</th>\n",
       "      <th>(X (VBP are)</th>\n",
       "      <th>(X (FW etc.)</th>\n",
       "      <th>(X (VBP make)</th>\n",
       "      <th>(X (VBN shipped)</th>\n",
       "      <th>(X (VBN implied)</th>\n",
       "      <th>(X (RB rather)</th>\n",
       "      <th>(X (: --)</th>\n",
       "      <th>(X (NNP Cincinatti)</th>\n",
       "      <th>(X (NNS inches)</th>\n",
       "      <th>(X (VB say)</th>\n",
       "      <th>(X (`` ``)</th>\n",
       "      <th>(X (IN after)</th>\n",
       "      <th>(X (NNP Company)</th>\n",
       "      <th>(X (IN from)</th>\n",
       "      <th>(X (VBD said)</th>\n",
       "      <th>(X (DT A)</th>\n",
       "      <th>(X (IN than)</th>\n",
       "      <th>(X (CD 20)</th>\n",
       "      <th>(X (PRP them)</th>\n",
       "      <th>(X (DT this)</th>\n",
       "      <th>(X (RP out)</th>\n",
       "      <th>(X (VB here)</th>\n",
       "      <th>(X (RB their)</th>\n",
       "      <th>(X (EX their)</th>\n",
       "      <th>(X (NN anyone)</th>\n",
       "      <th>(X (VB some)</th>\n",
       "      <th>(X (RB along)</th>\n",
       "      <th>(X (VBZ make)</th>\n",
       "      <th>(X (VB seems)</th>\n",
       "      <th>(X (IN rather)</th>\n",
       "      <th>(X (CC in)</th>\n",
       "      <th>(X (VBN go)</th>\n",
       "      <th>(X (NNS pliers)</th>\n",
       "      <th>(X (VBN love)</th>\n",
       "      <th>(X (RB to)</th>\n",
       "      <th>(X (FW **Y)</th>\n",
       "      <th>(X (FW **anday**)</th>\n",
       "      <th>(X (RB really)</th>\n",
       "      <th>(X (IN it)</th>\n",
       "      <th>(X (VBD we)</th>\n",
       "      <th>(X (NNS year's)</th>\n",
       "      <th>(X (VBD where)</th>\n",
       "      <th>(X (VB worked)</th>\n",
       "      <th>(X (RB all)</th>\n",
       "      <th>(X (VBP now)</th>\n",
       "      <th>(X (NNP Julius)</th>\n",
       "      <th>(X (`` \")</th>\n",
       "      <th>(X (PRP it)</th>\n",
       "      <th>(X (CD 9)</th>\n",
       "      <th>(X (VBD though)</th>\n",
       "      <th>(X (CD 63007)</th>\n",
       "      <th>(X (VB snip)</th>\n",
       "      <th>(X (CD 7)</th>\n",
       "      <th>(X (CD 38282)</th>\n",
       "      <th>(X (-LRB- -LRB-)</th>\n",
       "      <th>(X (VBD waited)</th>\n",
       "      <th>(X (NN anybody)</th>\n",
       "      <th>(X (RB not)</th>\n",
       "      <th>(X (CD 23)</th>\n",
       "      <th>(X (CC Be)</th>\n",
       "      <th>(X (VBG doing)</th>\n",
       "      <th>(X (MD mind)</th>\n",
       "      <th>(X (RB her)</th>\n",
       "      <th>(X (IN by)</th>\n",
       "      <th>(X (CC or)</th>\n",
       "      <th>(X (NN president)</th>\n",
       "      <th>(X (NNP Pingtung)</th>\n",
       "      <th>(X (DT all)</th>\n",
       "      <th>(X (CD 50)</th>\n",
       "      <th>(X (CD 200)</th>\n",
       "      <th>(X (FW Ich)</th>\n",
       "      <th>(X (VBD Said)</th>\n",
       "      <th>(X (PRP they)</th>\n",
       "      <th>(X (PRP there)</th>\n",
       "    </tr>\n",
       "  </thead>\n",
       "  <tbody>\n",
       "    <tr>\n",
       "      <th>N</th>\n",
       "      <td>78</td>\n",
       "      <td>15</td>\n",
       "      <td>12</td>\n",
       "      <td>9</td>\n",
       "      <td>7</td>\n",
       "      <td>6</td>\n",
       "      <td>5</td>\n",
       "      <td>4</td>\n",
       "      <td>4</td>\n",
       "      <td>3</td>\n",
       "      <td>3</td>\n",
       "      <td>3</td>\n",
       "      <td>3</td>\n",
       "      <td>3</td>\n",
       "      <td>2</td>\n",
       "      <td>2</td>\n",
       "      <td>2</td>\n",
       "      <td>2</td>\n",
       "      <td>2</td>\n",
       "      <td>2</td>\n",
       "      <td>2</td>\n",
       "      <td>2</td>\n",
       "      <td>2</td>\n",
       "      <td>1</td>\n",
       "      <td>1</td>\n",
       "      <td>1</td>\n",
       "      <td>1</td>\n",
       "      <td>1</td>\n",
       "      <td>1</td>\n",
       "      <td>1</td>\n",
       "      <td>1</td>\n",
       "      <td>1</td>\n",
       "      <td>1</td>\n",
       "      <td>1</td>\n",
       "      <td>1</td>\n",
       "      <td>1</td>\n",
       "      <td>1</td>\n",
       "      <td>1</td>\n",
       "      <td>1</td>\n",
       "      <td>1</td>\n",
       "      <td>1</td>\n",
       "      <td>1</td>\n",
       "      <td>1</td>\n",
       "      <td>1</td>\n",
       "      <td>1</td>\n",
       "      <td>1</td>\n",
       "      <td>1</td>\n",
       "      <td>1</td>\n",
       "      <td>1</td>\n",
       "      <td>1</td>\n",
       "      <td>1</td>\n",
       "      <td>1</td>\n",
       "      <td>1</td>\n",
       "      <td>1</td>\n",
       "      <td>1</td>\n",
       "      <td>1</td>\n",
       "      <td>1</td>\n",
       "      <td>1</td>\n",
       "      <td>1</td>\n",
       "      <td>1</td>\n",
       "      <td>1</td>\n",
       "      <td>1</td>\n",
       "      <td>1</td>\n",
       "      <td>1</td>\n",
       "      <td>1</td>\n",
       "      <td>1</td>\n",
       "      <td>1</td>\n",
       "      <td>1</td>\n",
       "      <td>1</td>\n",
       "      <td>1</td>\n",
       "      <td>1</td>\n",
       "      <td>1</td>\n",
       "      <td>1</td>\n",
       "      <td>1</td>\n",
       "      <td>1</td>\n",
       "      <td>1</td>\n",
       "      <td>1</td>\n",
       "      <td>1</td>\n",
       "      <td>1</td>\n",
       "      <td>1</td>\n",
       "      <td>1</td>\n",
       "      <td>1</td>\n",
       "      <td>1</td>\n",
       "      <td>1</td>\n",
       "      <td>1</td>\n",
       "      <td>1</td>\n",
       "      <td>1</td>\n",
       "      <td>1</td>\n",
       "      <td>1</td>\n",
       "      <td>1</td>\n",
       "      <td>1</td>\n",
       "      <td>1</td>\n",
       "      <td>1</td>\n",
       "      <td>1</td>\n",
       "      <td>1</td>\n",
       "      <td>1</td>\n",
       "      <td>1</td>\n",
       "      <td>1</td>\n",
       "      <td>1</td>\n",
       "      <td>1</td>\n",
       "      <td>1</td>\n",
       "      <td>1</td>\n",
       "      <td>1</td>\n",
       "      <td>1</td>\n",
       "      <td>1</td>\n",
       "      <td>1</td>\n",
       "      <td>1</td>\n",
       "      <td>1</td>\n",
       "      <td>1</td>\n",
       "      <td>1</td>\n",
       "      <td>1</td>\n",
       "      <td>1</td>\n",
       "      <td>1</td>\n",
       "      <td>1</td>\n",
       "      <td>1</td>\n",
       "      <td>1</td>\n",
       "      <td>1</td>\n",
       "      <td>1</td>\n",
       "      <td>1</td>\n",
       "      <td>1</td>\n",
       "      <td>1</td>\n",
       "      <td>1</td>\n",
       "    </tr>\n",
       "  </tbody>\n",
       "</table>\n",
       "</div>"
      ],
      "text/plain": [
       "   (X (DT the)  (X (CD 12)  (X (DT The)  (X (IN of)  (X (-RRB- -RRB-)  \\\n",
       "N           78          15           12           9                 7   \n",
       "\n",
       "   (X (IN in)  (X (TO to)  (X (VBD was)  (X (POS ')  (X (POS 's)  (X (CC and)  \\\n",
       "N           6           5             4           4            3            3   \n",
       "\n",
       "   (X (CD 144)  (X (CD 10)  (X (WP what)  (X (IN to)  (X (IN that)  \\\n",
       "N            3           3             3           2             2   \n",
       "\n",
       "   (X (VBZ is)  (X (DT a)  (X (VBP 'm)  (X (DT that)  (X (IN at)  (X (RB so)  \\\n",
       "N            2          2            2             2           2           2   \n",
       "\n",
       "   (X (IN with)  (X (VB comment)  (X (JJ personal)  (X (NNP Lara)  \\\n",
       "N             2                1                 1              1   \n",
       "\n",
       "   (X (PRP he)  (X (IN for)  (X (RB below)  (X (NN employ)  (X (JJ such)  \\\n",
       "N            1            1              1               1             1   \n",
       "\n",
       "   (X (JJ new)  (X (RB about)  (X (VBZ vpts)  (X (IN upon)  (X (NNP Tee)  \\\n",
       "N            1              1              1             1             1   \n",
       "\n",
       "   (X (RB online)  (X (IN during)  (X (FW Viva)  (X (NN etc.)  (X (VBZ Asks)  \\\n",
       "N               1               1             1             1              1   \n",
       "\n",
       "   (X (MD can)  (X (WP What)  (X (RB ever)  (X (NNP Bull)  (X (FW vis)  \\\n",
       "N            1             1             1              1            1   \n",
       "\n",
       "   (X (NN a)  (X (VBD were)  (X (VBP are)  (X (FW etc.)  (X (VBP make)  \\\n",
       "N          1              1             1             1              1   \n",
       "\n",
       "   (X (VBN shipped)  (X (VBN implied)  (X (RB rather)  (X (: --)  \\\n",
       "N                 1                 1               1          1   \n",
       "\n",
       "   (X (NNP Cincinatti)  (X (NNS inches)  (X (VB say)  (X (`` ``)  \\\n",
       "N                    1                1            1           1   \n",
       "\n",
       "   (X (IN after)  (X (NNP Company)  (X (IN from)  (X (VBD said)  (X (DT A)  \\\n",
       "N              1                 1             1              1          1   \n",
       "\n",
       "   (X (IN than)  (X (CD 20)  (X (PRP them)  (X (DT this)  (X (RP out)  \\\n",
       "N             1           1              1             1            1   \n",
       "\n",
       "   (X (VB here)  (X (RB their)  (X (EX their)  (X (NN anyone)  (X (VB some)  \\\n",
       "N             1              1              1               1             1   \n",
       "\n",
       "   (X (RB along)  (X (VBZ make)  (X (VB seems)  (X (IN rather)  (X (CC in)  \\\n",
       "N              1              1              1               1           1   \n",
       "\n",
       "   (X (VBN go)  (X (NNS pliers)  (X (VBN love)  (X (RB to)  (X (FW **Y)  \\\n",
       "N            1                1              1           1            1   \n",
       "\n",
       "   (X (FW **anday**)  (X (RB really)  (X (IN it)  (X (VBD we)  \\\n",
       "N                  1               1           1            1   \n",
       "\n",
       "   (X (NNS year's)  (X (VBD where)  (X (VB worked)  (X (RB all)  (X (VBP now)  \\\n",
       "N                1               1               1            1             1   \n",
       "\n",
       "   (X (NNP Julius)  (X (`` \")  (X (PRP it)  (X (CD 9)  (X (VBD though)  \\\n",
       "N                1          1            1          1                1   \n",
       "\n",
       "   (X (CD 63007)  (X (VB snip)  (X (CD 7)  (X (CD 38282)  (X (-LRB- -LRB-)  \\\n",
       "N              1             1          1              1                 1   \n",
       "\n",
       "   (X (VBD waited)  (X (NN anybody)  (X (RB not)  (X (CD 23)  (X (CC Be)  \\\n",
       "N                1                1            1           1           1   \n",
       "\n",
       "   (X (VBG doing)  (X (MD mind)  (X (RB her)  (X (IN by)  (X (CC or)  \\\n",
       "N               1             1            1           1           1   \n",
       "\n",
       "   (X (NN president)  (X (NNP Pingtung)  (X (DT all)  (X (CD 50)  (X (CD 200)  \\\n",
       "N                  1                  1            1           1            1   \n",
       "\n",
       "   (X (FW Ich)  (X (VBD Said)  (X (PRP they)  (X (PRP there)  \n",
       "N            1              1              1               1  "
      ]
     },
     "metadata": {},
     "output_type": "display_data"
    },
    {
     "name": "stdout",
     "output_type": "stream",
     "text": [
      "['(X (VB comment)', '(X (JJ personal)', '(X (NNP Lara)', '(X (PRP he)', '(X (IN for)', '(X (RB below)', '(X (NN employ)', '(X (JJ such)', '(X (JJ new)', '(X (RB about)', '(X (VBZ vpts)', '(X (IN upon)', '(X (NNP Tee)', '(X (RB online)', '(X (IN during)', '(X (FW Viva)', '(X (NN etc.)', '(X (VBZ Asks)', '(X (MD can)', '(X (WP What)', '(X (RB ever)', '(X (NNP Bull)', '(X (FW vis)', '(X (NN a)', '(X (VBD were)', '(X (VBP are)', '(X (FW etc.)', '(X (VBP make)', '(X (VBN shipped)', '(X (VBN implied)', '(X (RB rather)', '(X (: --)', '(X (NNP Cincinatti)', '(X (NNS inches)', '(X (VB say)', '(X (`` ``)', '(X (IN after)', '(X (NNP Company)', '(X (IN from)', '(X (VBD said)', '(X (DT A)', '(X (IN than)', '(X (CD 20)', '(X (PRP them)', '(X (DT this)', '(X (RP out)', '(X (VB here)', '(X (RB their)', '(X (EX their)', '(X (NN anyone)', '(X (VB some)', '(X (RB along)', '(X (VBZ make)', '(X (VB seems)', '(X (IN rather)', '(X (CC in)', '(X (VBN go)', '(X (NNS pliers)', '(X (VBN love)', '(X (RB to)', '(X (FW **Y)', '(X (FW **anday**)', '(X (RB really)', '(X (IN it)', '(X (VBD we)', \"(X (NNS year's)\", '(X (VBD where)', '(X (VB worked)', '(X (RB all)', '(X (VBP now)', '(X (NNP Julius)', '(X (`` \")', '(X (PRP it)', '(X (CD 9)', '(X (VBD though)', '(X (CD 63007)', '(X (VB snip)', '(X (CD 7)', '(X (CD 38282)', '(X (-LRB- -LRB-)', '(X (VBD waited)', '(X (NN anybody)', '(X (RB not)', '(X (CD 23)', '(X (CC Be)', '(X (VBG doing)', '(X (MD mind)', '(X (RB her)', '(X (IN by)', '(X (CC or)', '(X (NN president)', '(X (NNP Pingtung)', '(X (DT all)', '(X (CD 50)', '(X (CD 200)', '(X (FW Ich)', '(X (VBD Said)', '(X (PRP they)', '(X (PRP there)']\n"
     ]
    }
   ],
   "source": [
    "x_nt = dict()\n",
    "for i, sent in enumerate(ontn_sentc_tree_prc12):\n",
    "    substr = \"(X \"\n",
    "    if substr in sent['parse_tree']:\n",
    "        extractions = extract_all_spec_substring(sent['parse_tree'], substr)\n",
    "        for extraction in extractions:\n",
    "            if extraction in x_nt.keys():\n",
    "                x_nt[extraction] += 1\n",
    "            else:\n",
    "                x_nt[extraction] = 1\n",
    "x_nt = pd.Series(x_nt, name='N').to_frame()\n",
    "x_nt = x_nt.sort_values('N', ascending=False)\n",
    "display(x_nt.T)\n",
    "del_x= x_nt[x_nt['N'] <= 1].index.to_list()\n",
    "print(del_x)"
   ]
  },
  {
   "cell_type": "markdown",
   "id": "5a818659",
   "metadata": {},
   "source": [
    "### Delete rare X"
   ]
  },
  {
   "cell_type": "code",
   "execution_count": 80,
   "id": "5902b302",
   "metadata": {},
   "outputs": [
    {
     "data": {
      "text/plain": [
       "132755"
      ]
     },
     "execution_count": 80,
     "metadata": {},
     "output_type": "execute_result"
    }
   ],
   "source": [
    "len(ontn_sentc_tree_prc15)"
   ]
  },
  {
   "cell_type": "code",
   "execution_count": 81,
   "id": "a54da7f7",
   "metadata": {},
   "outputs": [],
   "source": [
    "ontn_sentc_tree_prc16 = []\n",
    "for i, sent in enumerate(ontn_sentc_tree_prc15):\n",
    "    if not has_substring(sent['parse_tree'], del_x):\n",
    "        ontn_sentc_tree_prc16.append(sent)"
   ]
  },
  {
   "cell_type": "code",
   "execution_count": 82,
   "id": "092867cb",
   "metadata": {},
   "outputs": [
    {
     "data": {
      "text/plain": [
       "132660"
      ]
     },
     "execution_count": 82,
     "metadata": {},
     "output_type": "execute_result"
    }
   ],
   "source": [
    "len(ontn_sentc_tree_prc16)"
   ]
  },
  {
   "cell_type": "markdown",
   "id": "a84ca7bc",
   "metadata": {},
   "source": [
    "### Extract rare FRAG"
   ]
  },
  {
   "cell_type": "code",
   "execution_count": 83,
   "id": "dbbbebe9",
   "metadata": {},
   "outputs": [
    {
     "data": {
      "text/html": [
       "<div>\n",
       "<style scoped>\n",
       "    .dataframe tbody tr th:only-of-type {\n",
       "        vertical-align: middle;\n",
       "    }\n",
       "\n",
       "    .dataframe tbody tr th {\n",
       "        vertical-align: top;\n",
       "    }\n",
       "\n",
       "    .dataframe thead th {\n",
       "        text-align: right;\n",
       "    }\n",
       "</style>\n",
       "<table border=\"1\" class=\"dataframe\">\n",
       "  <thead>\n",
       "    <tr style=\"text-align: right;\">\n",
       "      <th></th>\n",
       "      <th>(FRAG (CC And)</th>\n",
       "      <th>(FRAG (CC and)</th>\n",
       "      <th>(FRAG (CC but)</th>\n",
       "      <th>(FRAG (CC But)</th>\n",
       "      <th>(FRAG (RB not)</th>\n",
       "      <th>(FRAG (-LRB- -LRB-)</th>\n",
       "      <th>(FRAG (`` ``)</th>\n",
       "      <th>(FRAG (: --)</th>\n",
       "      <th>(FRAG (CC Or)</th>\n",
       "      <th>(FRAG (RB Not)</th>\n",
       "      <th>(FRAG (CC or)</th>\n",
       "      <th>(FRAG (NN Dot)</th>\n",
       "      <th>(FRAG (`` \")</th>\n",
       "      <th>(FRAG (, ,)</th>\n",
       "      <th>(FRAG (CC Plus)</th>\n",
       "      <th>(FRAG (. .)</th>\n",
       "      <th>(FRAG (IN if)</th>\n",
       "      <th>(FRAG (NN U)</th>\n",
       "      <th>(FRAG (IN At)</th>\n",
       "      <th>(FRAG (RB Also)</th>\n",
       "      <th>(FRAG (NN C)</th>\n",
       "      <th>(FRAG (CC So)</th>\n",
       "      <th>(FRAG (CC Nor)</th>\n",
       "      <th>(FRAG (CD one)</th>\n",
       "      <th>(FRAG (NN H)</th>\n",
       "      <th>(FRAG (NN L)</th>\n",
       "      <th>(FRAG (NN E)</th>\n",
       "      <th>(FRAG (-LRB- -LSB-)</th>\n",
       "      <th>(FRAG (DT any)</th>\n",
       "      <th>(FRAG (RB Maybe)</th>\n",
       "      <th>(FRAG (RB So)</th>\n",
       "      <th>(FRAG (JJ possible)</th>\n",
       "      <th>(FRAG (VBZ Is)</th>\n",
       "      <th>(FRAG (UH Yeah)</th>\n",
       "      <th>(FRAG (CD two)</th>\n",
       "      <th>(FRAG (DT a)</th>\n",
       "      <th>(FRAG (`` ')</th>\n",
       "      <th>(FRAG (CC so)</th>\n",
       "      <th>(FRAG (RB Right)</th>\n",
       "      <th>(FRAG (NNP Toman)</th>\n",
       "      <th>(FRAG (NN p.)</th>\n",
       "      <th>(FRAG (JJ Human)</th>\n",
       "      <th>(FRAG (NNS Rights)</th>\n",
       "      <th>(FRAG (NNP Bill)</th>\n",
       "      <th>(FRAG (UH no)</th>\n",
       "      <th>(FRAG (RB Certainly)</th>\n",
       "      <th>(FRAG (NNS Babies)</th>\n",
       "      <th>(FRAG (RB even)</th>\n",
       "      <th>(FRAG (WRB Why)</th>\n",
       "      <th>(FRAG (FW VIA)</th>\n",
       "      <th>(FRAG (VBZ concludes)</th>\n",
       "      <th>(FRAG (NN anything)</th>\n",
       "      <th>(FRAG (NNP Wal)</th>\n",
       "      <th>(FRAG (MD must)</th>\n",
       "      <th>(FRAG (IN of)</th>\n",
       "      <th>(FRAG (VBN published)</th>\n",
       "      <th>(FRAG (UH blah)</th>\n",
       "      <th>(FRAG (FW Eloi)</th>\n",
       "      <th>(FRAG (CC either)</th>\n",
       "      <th>(FRAG (RB heretofore)</th>\n",
       "      <th>(FRAG (-RRB- -RRB-)</th>\n",
       "      <th>(FRAG (IN Like)</th>\n",
       "      <th>(FRAG (IN If)</th>\n",
       "      <th>(FRAG (JJ Municipal)</th>\n",
       "      <th>(FRAG (IN though)</th>\n",
       "      <th>(FRAG ('' '')</th>\n",
       "      <th>(FRAG (FW kari)</th>\n",
       "      <th>(FRAG (NN dot)</th>\n",
       "      <th>(FRAG (NN O)</th>\n",
       "      <th>(FRAG (CD zero)</th>\n",
       "      <th>(FRAG (NN A)</th>\n",
       "      <th>(FRAG (NN M)</th>\n",
       "      <th>(FRAG (FW gomzila)</th>\n",
       "      <th>(FRAG (UH Pep)</th>\n",
       "      <th>(FRAG (CD three)</th>\n",
       "      <th>(FRAG (NNP HAD1999)</th>\n",
       "      <th>(FRAG (NNP Ihsas2)</th>\n",
       "      <th>(FRAG (NNP Al)</th>\n",
       "      <th>(FRAG (: :)</th>\n",
       "      <th>(FRAG (CD 6)</th>\n",
       "      <th>(FRAG (NNP yan)</th>\n",
       "      <th>(FRAG (FW canis)</th>\n",
       "      <th>(FRAG (: -)</th>\n",
       "      <th>(FRAG (RB so)</th>\n",
       "      <th>(FRAG (CC &amp;)</th>\n",
       "      <th>(FRAG (FW Que)</th>\n",
       "      <th>(FRAG (WP What)</th>\n",
       "    </tr>\n",
       "  </thead>\n",
       "  <tbody>\n",
       "    <tr>\n",
       "      <th>N</th>\n",
       "      <td>132</td>\n",
       "      <td>57</td>\n",
       "      <td>50</td>\n",
       "      <td>47</td>\n",
       "      <td>43</td>\n",
       "      <td>41</td>\n",
       "      <td>21</td>\n",
       "      <td>20</td>\n",
       "      <td>18</td>\n",
       "      <td>14</td>\n",
       "      <td>8</td>\n",
       "      <td>6</td>\n",
       "      <td>5</td>\n",
       "      <td>5</td>\n",
       "      <td>5</td>\n",
       "      <td>5</td>\n",
       "      <td>4</td>\n",
       "      <td>4</td>\n",
       "      <td>4</td>\n",
       "      <td>3</td>\n",
       "      <td>3</td>\n",
       "      <td>3</td>\n",
       "      <td>3</td>\n",
       "      <td>3</td>\n",
       "      <td>2</td>\n",
       "      <td>2</td>\n",
       "      <td>2</td>\n",
       "      <td>2</td>\n",
       "      <td>2</td>\n",
       "      <td>2</td>\n",
       "      <td>2</td>\n",
       "      <td>2</td>\n",
       "      <td>2</td>\n",
       "      <td>2</td>\n",
       "      <td>2</td>\n",
       "      <td>2</td>\n",
       "      <td>1</td>\n",
       "      <td>1</td>\n",
       "      <td>1</td>\n",
       "      <td>1</td>\n",
       "      <td>1</td>\n",
       "      <td>1</td>\n",
       "      <td>1</td>\n",
       "      <td>1</td>\n",
       "      <td>1</td>\n",
       "      <td>1</td>\n",
       "      <td>1</td>\n",
       "      <td>1</td>\n",
       "      <td>1</td>\n",
       "      <td>1</td>\n",
       "      <td>1</td>\n",
       "      <td>1</td>\n",
       "      <td>1</td>\n",
       "      <td>1</td>\n",
       "      <td>1</td>\n",
       "      <td>1</td>\n",
       "      <td>1</td>\n",
       "      <td>1</td>\n",
       "      <td>1</td>\n",
       "      <td>1</td>\n",
       "      <td>1</td>\n",
       "      <td>1</td>\n",
       "      <td>1</td>\n",
       "      <td>1</td>\n",
       "      <td>1</td>\n",
       "      <td>1</td>\n",
       "      <td>1</td>\n",
       "      <td>1</td>\n",
       "      <td>1</td>\n",
       "      <td>1</td>\n",
       "      <td>1</td>\n",
       "      <td>1</td>\n",
       "      <td>1</td>\n",
       "      <td>1</td>\n",
       "      <td>1</td>\n",
       "      <td>1</td>\n",
       "      <td>1</td>\n",
       "      <td>1</td>\n",
       "      <td>1</td>\n",
       "      <td>1</td>\n",
       "      <td>1</td>\n",
       "      <td>1</td>\n",
       "      <td>1</td>\n",
       "      <td>1</td>\n",
       "      <td>1</td>\n",
       "      <td>1</td>\n",
       "      <td>1</td>\n",
       "    </tr>\n",
       "  </tbody>\n",
       "</table>\n",
       "</div>"
      ],
      "text/plain": [
       "   (FRAG (CC And)  (FRAG (CC and)  (FRAG (CC but)  (FRAG (CC But)  \\\n",
       "N             132              57              50              47   \n",
       "\n",
       "   (FRAG (RB not)  (FRAG (-LRB- -LRB-)  (FRAG (`` ``)  (FRAG (: --)  \\\n",
       "N              43                   41             21            20   \n",
       "\n",
       "   (FRAG (CC Or)  (FRAG (RB Not)  (FRAG (CC or)  (FRAG (NN Dot)  (FRAG (`` \")  \\\n",
       "N             18              14              8               6             5   \n",
       "\n",
       "   (FRAG (, ,)  (FRAG (CC Plus)  (FRAG (. .)  (FRAG (IN if)  (FRAG (NN U)  \\\n",
       "N            5                5            5              4             4   \n",
       "\n",
       "   (FRAG (IN At)  (FRAG (RB Also)  (FRAG (NN C)  (FRAG (CC So)  \\\n",
       "N              4                3             3              3   \n",
       "\n",
       "   (FRAG (CC Nor)  (FRAG (CD one)  (FRAG (NN H)  (FRAG (NN L)  (FRAG (NN E)  \\\n",
       "N               3               3             2             2             2   \n",
       "\n",
       "   (FRAG (-LRB- -LSB-)  (FRAG (DT any)  (FRAG (RB Maybe)  (FRAG (RB So)  \\\n",
       "N                    2               2                 2              2   \n",
       "\n",
       "   (FRAG (JJ possible)  (FRAG (VBZ Is)  (FRAG (UH Yeah)  (FRAG (CD two)  \\\n",
       "N                    2               2                2               2   \n",
       "\n",
       "   (FRAG (DT a)  (FRAG (`` ')  (FRAG (CC so)  (FRAG (RB Right)  \\\n",
       "N             2             1              1                 1   \n",
       "\n",
       "   (FRAG (NNP Toman)  (FRAG (NN p.)  (FRAG (JJ Human)  (FRAG (NNS Rights)  \\\n",
       "N                  1              1                 1                   1   \n",
       "\n",
       "   (FRAG (NNP Bill)  (FRAG (UH no)  (FRAG (RB Certainly)  (FRAG (NNS Babies)  \\\n",
       "N                 1              1                     1                   1   \n",
       "\n",
       "   (FRAG (RB even)  (FRAG (WRB Why)  (FRAG (FW VIA)  (FRAG (VBZ concludes)  \\\n",
       "N                1                1               1                      1   \n",
       "\n",
       "   (FRAG (NN anything)  (FRAG (NNP Wal)  (FRAG (MD must)  (FRAG (IN of)  \\\n",
       "N                    1                1                1              1   \n",
       "\n",
       "   (FRAG (VBN published)  (FRAG (UH blah)  (FRAG (FW Eloi)  (FRAG (CC either)  \\\n",
       "N                      1                1                1                  1   \n",
       "\n",
       "   (FRAG (RB heretofore)  (FRAG (-RRB- -RRB-)  (FRAG (IN Like)  (FRAG (IN If)  \\\n",
       "N                      1                    1                1              1   \n",
       "\n",
       "   (FRAG (JJ Municipal)  (FRAG (IN though)  (FRAG ('' '')  (FRAG (FW kari)  \\\n",
       "N                     1                  1              1                1   \n",
       "\n",
       "   (FRAG (NN dot)  (FRAG (NN O)  (FRAG (CD zero)  (FRAG (NN A)  (FRAG (NN M)  \\\n",
       "N               1             1                1             1             1   \n",
       "\n",
       "   (FRAG (FW gomzila)  (FRAG (UH Pep)  (FRAG (CD three)  (FRAG (NNP HAD1999)  \\\n",
       "N                   1               1                 1                    1   \n",
       "\n",
       "   (FRAG (NNP Ihsas2)  (FRAG (NNP Al)  (FRAG (: :)  (FRAG (CD 6)  \\\n",
       "N                   1               1            1             1   \n",
       "\n",
       "   (FRAG (NNP yan)  (FRAG (FW canis)  (FRAG (: -)  (FRAG (RB so)  \\\n",
       "N                1                 1            1              1   \n",
       "\n",
       "   (FRAG (CC &)  (FRAG (FW Que)  (FRAG (WP What)  \n",
       "N             1               1                1  "
      ]
     },
     "metadata": {},
     "output_type": "display_data"
    },
    {
     "name": "stdout",
     "output_type": "stream",
     "text": [
      "[\"(FRAG (`` ')\", '(FRAG (CC so)', '(FRAG (RB Right)', '(FRAG (NNP Toman)', '(FRAG (NN p.)', '(FRAG (JJ Human)', '(FRAG (NNS Rights)', '(FRAG (NNP Bill)', '(FRAG (UH no)', '(FRAG (RB Certainly)', '(FRAG (NNS Babies)', '(FRAG (RB even)', '(FRAG (WRB Why)', '(FRAG (FW VIA)', '(FRAG (VBZ concludes)', '(FRAG (NN anything)', '(FRAG (NNP Wal)', '(FRAG (MD must)', '(FRAG (IN of)', '(FRAG (VBN published)', '(FRAG (UH blah)', '(FRAG (FW Eloi)', '(FRAG (CC either)', '(FRAG (RB heretofore)', '(FRAG (-RRB- -RRB-)', '(FRAG (IN Like)', '(FRAG (IN If)', '(FRAG (JJ Municipal)', '(FRAG (IN though)', \"(FRAG ('' '')\", '(FRAG (FW kari)', '(FRAG (NN dot)', '(FRAG (NN O)', '(FRAG (CD zero)', '(FRAG (NN A)', '(FRAG (NN M)', '(FRAG (FW gomzila)', '(FRAG (UH Pep)', '(FRAG (CD three)', '(FRAG (NNP HAD1999)', '(FRAG (NNP Ihsas2)', '(FRAG (NNP Al)', '(FRAG (: :)', '(FRAG (CD 6)', '(FRAG (NNP yan)', '(FRAG (FW canis)', '(FRAG (: -)', '(FRAG (RB so)', '(FRAG (CC &)', '(FRAG (FW Que)', '(FRAG (WP What)']\n"
     ]
    }
   ],
   "source": [
    "frag_nt = dict()\n",
    "for i, sent in enumerate(ontn_sentc_tree_prc12):\n",
    "    substr = \"(FRAG \"\n",
    "    if substr in sent['parse_tree']:\n",
    "        extractions = extract_all_spec_substring(sent['parse_tree'], substr)\n",
    "        for extraction in extractions:\n",
    "            if extraction in frag_nt.keys():\n",
    "                frag_nt[extraction] += 1\n",
    "            else:\n",
    "                frag_nt[extraction] = 1\n",
    "frag_nt = pd.Series(frag_nt, name='N').to_frame()\n",
    "frag_nt = frag_nt.sort_values('N', ascending=False)\n",
    "display(frag_nt.T)\n",
    "del_frag = frag_nt[frag_nt['N'] <= 1].index.to_list()\n",
    "print(del_frag)"
   ]
  },
  {
   "cell_type": "markdown",
   "id": "5a8fcd3e",
   "metadata": {},
   "source": [
    "### Delete rare FRAG"
   ]
  },
  {
   "cell_type": "code",
   "execution_count": 84,
   "id": "86a92e99",
   "metadata": {},
   "outputs": [
    {
     "data": {
      "text/plain": [
       "132660"
      ]
     },
     "execution_count": 84,
     "metadata": {},
     "output_type": "execute_result"
    }
   ],
   "source": [
    "len(ontn_sentc_tree_prc16)"
   ]
  },
  {
   "cell_type": "code",
   "execution_count": 85,
   "id": "bfa43fc9",
   "metadata": {},
   "outputs": [],
   "source": [
    "ontn_sentc_tree_prc17 = []\n",
    "for i, sent in enumerate(ontn_sentc_tree_prc16):\n",
    "    if not has_substring(sent['parse_tree'], del_frag):\n",
    "        ontn_sentc_tree_prc17.append(sent)"
   ]
  },
  {
   "cell_type": "code",
   "execution_count": 86,
   "id": "2911ab9e",
   "metadata": {},
   "outputs": [
    {
     "data": {
      "text/plain": [
       "132609"
      ]
     },
     "execution_count": 86,
     "metadata": {},
     "output_type": "execute_result"
    }
   ],
   "source": [
    "len(ontn_sentc_tree_prc17)"
   ]
  },
  {
   "cell_type": "markdown",
   "id": "f8c073ce",
   "metadata": {},
   "source": [
    "## Replace Nonterminal in Trees"
   ]
  },
  {
   "cell_type": "code",
   "execution_count": 87,
   "id": "3e53653e",
   "metadata": {},
   "outputs": [
    {
     "name": "stdout",
     "output_type": "stream",
     "text": [
      "{'(WP$ whose)': 364, '(WP$ Whose)': 4}\n"
     ]
    }
   ],
   "source": [
    "nt = dict()\n",
    "for i, sent in enumerate(ontn_sentc_tree_prc17):\n",
    "    substr = \"(WP$\"\n",
    "    if substr in sent['parse_tree']:\n",
    "        extractions = extract_all_spec_substring(sent['parse_tree'], substr)\n",
    "        for extraction in extractions:\n",
    "            if extraction in nt.keys():\n",
    "                nt[extraction] += 1\n",
    "            else:\n",
    "                nt[extraction] = 1\n",
    "print(nt)"
   ]
  },
  {
   "cell_type": "code",
   "execution_count": 88,
   "id": "f7b6f6e3",
   "metadata": {},
   "outputs": [],
   "source": [
    "replace_dict = {\n",
    "    '(. ?)': '(QM ?)',  # question mark\n",
    "    '(. /?)': '(QM ?)',  # question mark\n",
    "    '(. .)': '(PER .)',  # period\n",
    "    '(. /.)': '(PER .)',  # period\n",
    "    '(. !)': '(EM !)',  # exclamation mark\n",
    "    '(. ...)': '(ELPSS ...)',  # ellipsis\n",
    "    '(, ,)': '(CMA ,)',  # comma\n",
    "    '(: :)': '(CLN :)',  # punctuation COLON\n",
    "    '(: ;)': '(SMCLN ;)',  # punctuation semicolon\n",
    "    '(: --)': '(DASH --)',  # punctuation dash\n",
    "    '(: -)': '(HPHN -)',  # punctuation hyphen\n",
    "    '(: ...)': '(PNCTELPSS ...)',  # punctuation ellipsis\n",
    "    '(DT a)': '(IAC a)',  # indefinite article before a consonant\n",
    "    '(DT A)': '(IAC A)',  # indefinite article before a consonant\n",
    "    '(DT an)': '(IAV an)',  # indefinite article before a vowel\n",
    "    '(DT An)': '(IAV An)',  # indefinite article before a vowel\n",
    "    '(DT the)': '(DA the)', # definite article\n",
    "    '(DT The)': '(DA The)', # definite article\n",
    "    '(`` \")': '(OQTM \\')',   # Opening quotation marks\n",
    "    '(`` ``)': '(OQTM \\')',   # Opening quotation marks\n",
    "    '(`` \\')': '(OQTM \\')',   # Opening quotation marks\n",
    "    '(`` `)': '(OQTM \\')',   # Opening quotation marks\n",
    "    '(\\'\\' \")': '(QTM \\')',  # Quotation marks\n",
    "    '(\\'\\' \\'\\')': '(QTM \\')',  # Quotation marks\n",
    "    '(\\'\\' \\')': '(QTM \\')',  # Quotation marks\n",
    "    '(\\'\\' `)': '(QTM \\')',  # Quotation marks\n",
    "    '(-LRB- -LSB-)': '(_lrb_ _lsb_)',\n",
    "    '(-RRB- -RSB-)': '(_rrb_ _rsb_)',\n",
    "    '(-LRB- -LRB-)': '(_lrb_ _lrb_)',\n",
    "    '(-RRB- -RRB-)': '(_rrb_ _rrb_)',\n",
    "    '(-LRB- -LCB-)': '(_lrb_ _lcb_)',\n",
    "    '(-RRB- -RCB-)': '(_rrb_ _rсb_)',\n",
    "    '(PRP$': '(PRP_DLR',\n",
    "    '(WP$': '(WP_DLR',\n",
    "    '($':'(DLR',\n",
    "    '`': '\\'',\n",
    "}"
   ]
  },
  {
   "cell_type": "code",
   "execution_count": 89,
   "id": "61920e37",
   "metadata": {},
   "outputs": [
    {
     "name": "stderr",
     "output_type": "stream",
     "text": [
      "100%|██████████| 132609/132609 [00:02<00:00, 53009.74it/s]\n"
     ]
    }
   ],
   "source": [
    "ontn_sentc_tree_prc18 = []\n",
    "for sent in tqdm(ontn_sentc_tree_prc17):\n",
    "    new_sent = deepcopy(sent)\n",
    "    for rule in replace_dict.keys():\n",
    "        if rule in new_sent['parse_tree']:\n",
    "            new_sent['parse_tree'] = new_sent['parse_tree'].replace(rule, replace_dict[rule])\n",
    "    ontn_sentc_tree_prc18.append(new_sent)"
   ]
  },
  {
   "cell_type": "markdown",
   "id": "6c157d75",
   "metadata": {},
   "source": [
    "## Tree height distribution"
   ]
  },
  {
   "cell_type": "code",
   "execution_count": 90,
   "id": "45372ff5",
   "metadata": {},
   "outputs": [
    {
     "name": "stderr",
     "output_type": "stream",
     "text": [
      "100%|██████████| 132609/132609 [00:09<00:00, 14565.39it/s]\n"
     ]
    }
   ],
   "source": [
    "heights = defaultdict(int)\n",
    "for elem in tqdm(ontn_sentc_tree_prc18):\n",
    "    tree = Tree.fromstring(elem['parse_tree'])\n",
    "    elem['height'] = tree.height()\n",
    "    heights[tree.height()] += 1"
   ]
  },
  {
   "cell_type": "code",
   "execution_count": 91,
   "id": "6eb708c7",
   "metadata": {},
   "outputs": [
    {
     "data": {
      "text/plain": [
       "<Axes: >"
      ]
     },
     "execution_count": 91,
     "metadata": {},
     "output_type": "execute_result"
    },
    {
     "data": {
      "image/png": "[encoded data removed]",
      "text/plain": [
       "<Figure size 640x480 with 1 Axes>"
      ]
     },
     "metadata": {},
     "output_type": "display_data"
    }
   ],
   "source": [
    "heights = pd.Series(heights).sort_index()\n",
    "heights.plot(kind='bar')"
   ]
  },
  {
   "cell_type": "code",
   "execution_count": 92,
   "id": "8ea3a82b",
   "metadata": {},
   "outputs": [
    {
     "data": {
      "text/plain": [
       "np.int64(23)"
      ]
     },
     "execution_count": 92,
     "metadata": {},
     "output_type": "execute_result"
    }
   ],
   "source": [
    "heights_df = heights.to_frame('n')\n",
    "heights_df['frac'] = heights_df['n'] / heights.sum()\n",
    "heights_df['cuml_frac'] = heights_df['frac'].cumsum()\n",
    "heights_df[heights_df['cuml_frac'] > 0.99].index.min()"
   ]
  },
  {
   "cell_type": "code",
   "execution_count": 93,
   "id": "347e3d0e",
   "metadata": {},
   "outputs": [
    {
     "data": {
      "text/plain": [
       "132609"
      ]
     },
     "execution_count": 93,
     "metadata": {},
     "output_type": "execute_result"
    }
   ],
   "source": [
    "len(ontn_sentc_tree_prc18)"
   ]
  },
  {
   "cell_type": "code",
   "execution_count": 94,
   "id": "96f07326",
   "metadata": {},
   "outputs": [],
   "source": [
    "ontn_sentc_tree_fin = []\n",
    "for i, sent in enumerate(ontn_sentc_tree_prc18):\n",
    "    if sent['height'] < 23:\n",
    "        ontn_sentc_tree_fin.append(sent)"
   ]
  },
  {
   "cell_type": "code",
   "execution_count": 95,
   "id": "b4244b8f",
   "metadata": {},
   "outputs": [
    {
     "data": {
      "text/plain": [
       "131280"
      ]
     },
     "execution_count": 95,
     "metadata": {},
     "output_type": "execute_result"
    }
   ],
   "source": [
    "len(ontn_sentc_tree_fin)"
   ]
  },
  {
   "cell_type": "markdown",
   "id": "380a76d1",
   "metadata": {},
   "source": [
    "# Add levels to non-terminal "
   ]
  },
  {
   "cell_type": "code",
   "execution_count": 96,
   "id": "af23f761",
   "metadata": {},
   "outputs": [],
   "source": [
    "def add_levels(tree: Tree) -> Tree:\n",
    "    tps = tree.treepositions('leaves')\n",
    "    for tp in tps:\n",
    "        branch_height = len(tp)\n",
    "        tp_list = list(tp)\n",
    "        for i in range(branch_height):\n",
    "            idx = tuple(tp_list[:i+1]) \n",
    "            if tree[idx].height() == 2:  # if it is (Non-term Term), we don't add level to Non-term\n",
    "                break\n",
    "            act_label = tree[idx].label()  # actual label\n",
    "            if not act_label[-1].isdigit():\n",
    "                tree[idx].set_label(f\"{act_label}_{i}\")\n",
    "    return tree"
   ]
  },
  {
   "cell_type": "code",
   "execution_count": 97,
   "id": "ff79c104",
   "metadata": {},
   "outputs": [
    {
     "data": {
      "image/svg+xml": [
       "<svg baseProfile=\"full\" height=\"264px\" preserveAspectRatio=\"xMidYMid meet\" style=\"font-family: times, serif; font-weight: normal; font-style: normal; font-size: 16px\" version=\"1.1\" viewBox=\"0,0,376.0,264.0\" width=\"376px\" xmlns=\"http://www.w3.org/2000/svg\" xmlns:ev=\"http://www.w3.org/2001/xml-events\" xmlns:xlink=\"http://www.w3.org/1999/xlink\"><defs /><svg width=\"100%\" x=\"0\" y=\"0px\"><defs /><text text-anchor=\"middle\" x=\"50%\" y=\"16px\">TOP</text></svg><svg width=\"100%\" x=\"0%\" y=\"48px\"><defs /><svg width=\"100%\" x=\"0\" y=\"0px\"><defs /><text text-anchor=\"middle\" x=\"50%\" y=\"16px\">NP_0</text></svg><svg width=\"17.0213%\" x=\"0%\" y=\"48px\"><defs /><svg width=\"100%\" x=\"0\" y=\"0px\"><defs /><text text-anchor=\"middle\" x=\"50%\" y=\"16px\">INTJ_1</text></svg><svg width=\"100%\" x=\"0%\" y=\"48px\"><defs /><svg width=\"100%\" x=\"0\" y=\"0px\"><defs /><text text-anchor=\"middle\" x=\"50%\" y=\"16px\">UH</text></svg><svg width=\"100%\" x=\"0%\" y=\"48px\"><defs /><svg width=\"100%\" x=\"0\" y=\"0px\"><defs /><text text-anchor=\"middle\" x=\"50%\" y=\"16px\">Ah</text></svg></svg><line stroke=\"black\" x1=\"50%\" x2=\"50%\" y1=\"20px\" y2=\"48px\" /></svg><line stroke=\"black\" x1=\"50%\" x2=\"50%\" y1=\"20px\" y2=\"48px\" /></svg><line stroke=\"black\" x1=\"50%\" x2=\"8.51064%\" y1=\"20px\" y2=\"48px\" /><svg width=\"10.6383%\" x=\"17.0213%\" y=\"48px\"><defs /><svg width=\"100%\" x=\"0\" y=\"0px\"><defs /><text text-anchor=\"middle\" x=\"50%\" y=\"16px\">CMA</text></svg><svg width=\"100%\" x=\"0%\" y=\"48px\"><defs /><svg width=\"100%\" x=\"0\" y=\"0px\"><defs /><text text-anchor=\"middle\" x=\"50%\" y=\"16px\">,</text></svg></svg><line stroke=\"black\" x1=\"50%\" x2=\"50%\" y1=\"20px\" y2=\"48px\" /></svg><line stroke=\"black\" x1=\"50%\" x2=\"22.3404%\" y1=\"20px\" y2=\"48px\" /><svg width=\"12.766%\" x=\"27.6596%\" y=\"48px\"><defs /><svg width=\"100%\" x=\"0\" y=\"0px\"><defs /><text text-anchor=\"middle\" x=\"50%\" y=\"16px\">NP_1</text></svg><svg width=\"100%\" x=\"0%\" y=\"48px\"><defs /><svg width=\"100%\" x=\"0\" y=\"0px\"><defs /><text text-anchor=\"middle\" x=\"50%\" y=\"16px\">DT</text></svg><svg width=\"100%\" x=\"0%\" y=\"48px\"><defs /><svg width=\"100%\" x=\"0\" y=\"0px\"><defs /><text text-anchor=\"middle\" x=\"50%\" y=\"16px\">that</text></svg></svg><line stroke=\"black\" x1=\"50%\" x2=\"50%\" y1=\"20px\" y2=\"48px\" /></svg><line stroke=\"black\" x1=\"50%\" x2=\"50%\" y1=\"20px\" y2=\"48px\" /></svg><line stroke=\"black\" x1=\"50%\" x2=\"34.0426%\" y1=\"20px\" y2=\"48px\" /><svg width=\"48.9362%\" x=\"40.4255%\" y=\"48px\"><defs /><svg width=\"100%\" x=\"0\" y=\"0px\"><defs /><text text-anchor=\"middle\" x=\"50%\" y=\"16px\">VP_1</text></svg><svg width=\"52.1739%\" x=\"0%\" y=\"48px\"><defs /><svg width=\"100%\" x=\"0\" y=\"0px\"><defs /><text text-anchor=\"middle\" x=\"50%\" y=\"16px\">VBD</text></svg><svg width=\"100%\" x=\"0%\" y=\"48px\"><defs /><svg width=\"100%\" x=\"0\" y=\"0px\"><defs /><text text-anchor=\"middle\" x=\"50%\" y=\"16px\">threatened</text></svg></svg><line stroke=\"black\" x1=\"50%\" x2=\"50%\" y1=\"20px\" y2=\"48px\" /></svg><line stroke=\"black\" x1=\"50%\" x2=\"26.087%\" y1=\"20px\" y2=\"48px\" /><svg width=\"47.8261%\" x=\"52.1739%\" y=\"48px\"><defs /><svg width=\"100%\" x=\"0\" y=\"0px\"><defs /><text text-anchor=\"middle\" x=\"50%\" y=\"16px\">NP_2</text></svg><svg width=\"100%\" x=\"0%\" y=\"48px\"><defs /><svg width=\"100%\" x=\"0\" y=\"0px\"><defs /><text text-anchor=\"middle\" x=\"50%\" y=\"16px\">NNP</text></svg><svg width=\"100%\" x=\"0%\" y=\"48px\"><defs /><svg width=\"100%\" x=\"0\" y=\"0px\"><defs /><text text-anchor=\"middle\" x=\"50%\" y=\"16px\">Chongqing</text></svg></svg><line stroke=\"black\" x1=\"50%\" x2=\"50%\" y1=\"20px\" y2=\"48px\" /></svg><line stroke=\"black\" x1=\"50%\" x2=\"50%\" y1=\"20px\" y2=\"48px\" /></svg><line stroke=\"black\" x1=\"50%\" x2=\"76.087%\" y1=\"20px\" y2=\"48px\" /></svg><line stroke=\"black\" x1=\"50%\" x2=\"64.8936%\" y1=\"20px\" y2=\"48px\" /><svg width=\"10.6383%\" x=\"89.3617%\" y=\"48px\"><defs /><svg width=\"100%\" x=\"0\" y=\"0px\"><defs /><text text-anchor=\"middle\" x=\"50%\" y=\"16px\">PER</text></svg><svg width=\"100%\" x=\"0%\" y=\"48px\"><defs /><svg width=\"100%\" x=\"0\" y=\"0px\"><defs /><text text-anchor=\"middle\" x=\"50%\" y=\"16px\">.</text></svg></svg><line stroke=\"black\" x1=\"50%\" x2=\"50%\" y1=\"20px\" y2=\"48px\" /></svg><line stroke=\"black\" x1=\"50%\" x2=\"94.6809%\" y1=\"20px\" y2=\"48px\" /></svg><line stroke=\"black\" x1=\"50%\" x2=\"50%\" y1=\"20px\" y2=\"48px\" /></svg>"
      ],
      "text/plain": [
       "Tree('TOP', [Tree('NP_0', [Tree('INTJ_1', [Tree('UH', ['Ah'])]), Tree('CMA', [',']), Tree('NP_1', [Tree('DT', ['that'])]), Tree('VP_1', [Tree('VBD', ['threatened']), Tree('NP_2', [Tree('NNP', ['Chongqing'])])]), Tree('PER', ['.'])])])"
      ]
     },
     "execution_count": 97,
     "metadata": {},
     "output_type": "execute_result"
    }
   ],
   "source": [
    "sent = ontn_sentc_tree_fin[15]\n",
    "tree = Tree.fromstring(sent['parse_tree'])\n",
    "\n",
    "add_levels(tree)"
   ]
  },
  {
   "cell_type": "markdown",
   "id": "dc652422",
   "metadata": {},
   "source": [
    "# Get all productions like a DICT"
   ]
  },
  {
   "cell_type": "code",
   "execution_count": 98,
   "id": "96ffa1a5",
   "metadata": {},
   "outputs": [],
   "source": [
    "def process_chunk(chunk: List[Dict]) -> Dict:\n",
    "    local_dict = {}\n",
    "    for elem in chunk:\n",
    "        tree = add_levels(Tree.fromstring(elem['parse_tree']))\n",
    "        for prod in tree.productions():\n",
    "            lhs = prod.lhs()\n",
    "            rhs = prod.rhs()\n",
    "            if lhs in local_dict:\n",
    "                if rhs not in local_dict[lhs]:\n",
    "                    local_dict[lhs].append(rhs)\n",
    "            else:\n",
    "                local_dict[lhs] = [rhs]\n",
    "    return local_dict\n",
    "\n",
    "def merge_dicts(dict_list: List[Dict]) -> Dict:\n",
    "    merged = {}\n",
    "    for local_dict in dict_list:\n",
    "        for lhs, rhs_list in local_dict.items():\n",
    "            if lhs not in merged:\n",
    "                merged[lhs] = []\n",
    "            existing_rhs = merged[lhs]\n",
    "            for rhs in rhs_list:\n",
    "                if rhs not in existing_rhs:\n",
    "                    existing_rhs.append(rhs)\n",
    "    return merged"
   ]
  },
  {
   "cell_type": "code",
   "execution_count": 99,
   "id": "e03f3a44",
   "metadata": {},
   "outputs": [
    {
     "data": {
      "text/plain": [
       "16"
      ]
     },
     "execution_count": 99,
     "metadata": {},
     "output_type": "execute_result"
    }
   ],
   "source": [
    "num_processes = multiprocessing.cpu_count()\n",
    "num_processes"
   ]
  },
  {
   "cell_type": "code",
   "execution_count": 100,
   "id": "9a06c373",
   "metadata": {},
   "outputs": [],
   "source": [
    "total_elements = len(ontn_sentc_tree_fin)\n",
    "chunk_size = max(1, total_elements // num_processes)\n",
    "chunks = [ontn_sentc_tree_fin[i:i+chunk_size] for i in range(0, total_elements, chunk_size)]\n",
    "\n",
    "with multiprocessing.Pool(processes=num_processes) as pool:\n",
    "    chunk_dicts = pool.map(process_chunk, chunks)\n",
    "\n",
    "productions_dict = merge_dicts(chunk_dicts)"
   ]
  },
  {
   "cell_type": "code",
   "execution_count": 101,
   "id": "72e0ed99",
   "metadata": {},
   "outputs": [],
   "source": [
    "# productions_dict: Dict[str, Optional[List[str]]] = dict()\n",
    "# for elem in tqdm(ontn_sentc_tree):\n",
    "#     tree = Tree.fromstring(elem['parse_tree'])\n",
    "\n",
    "#     for prod in tree.productions():\n",
    "#         if prod.lhs() in productions_dict.keys():\n",
    "#             if prod.rhs() in productions_dict[prod.lhs()]:\n",
    "#                 pass\n",
    "#             else:\n",
    "#                 productions_dict[prod.lhs()].append(prod.rhs())\n",
    "#         else:\n",
    "#             productions_dict[prod.lhs()] = [prod.rhs()]"
   ]
  },
  {
   "cell_type": "code",
   "execution_count": 102,
   "id": "37a0ffdc",
   "metadata": {},
   "outputs": [
    {
     "data": {
      "text/plain": [
       "dict_keys([TOP, SBARQ_0, WHNP_1, WHNP_2, WP, NN, PP_2, IN, NP_3, QM, S_0, NP_1, PRP, ADVP_1, RB, VP_1, VB, NP_2, S_2, VP_3, TO, VP_4, NP_5, NP_6, IAC, JJ, PP_6, NP_7, NNP, PER, SINV_0, VBG, ADJP_3, VBZ, DA, NML_4, NNPS, VP_2, VBN, PP_3, NP_4, CMA, NNS, NML_6, NML_7, CC, PP_5, NP_0, CD, NML_2, VBD, PP_4, JJS, NP_8, PP_8, NP_9, DT, POS, PRT_5, RP, ADVP_6, SBAR_3, WHADVP_4, WRB, S_4, VP_5, VP_6, ADVP_7, PP_1, NML_5, SBAR_2, WHADVP_3, S_3, SBAR_6, S_7, VP_8, ADVP_9, VP_9, NP_10, PP_10, NP_11, NP_12, PP_12, NP_13, IAV, INTJ_1, UH, MD, ADVP_2, INTJ_2, ADJP_2, ADVP_3, PRP_DLR, NML_3, ADJP_6, JJR, PP_7, ADJP_5, SBAR_5, S_6, VP_7, PP_9, S_5, NML_10, HYPH, ADJP_8, PP_11, S_13, VP_14, VP_15, VP_16, ADVP_17, NP_17, S_9, VP_10, S_11, NML_14, VP_12, VP_13, NP_14, INTJ_5, ADJP_4, PRT_7, ADVP_4, RBR, INTJ_0, PDT, INTJ_4, NML_9, NML_8, SQ_1, S_1, WHNP_4, WDT, PRT_2, SQ_0, VBP, PRT_6, WHADVP_1, PRT_3, WHNP_6, SBAR_4, PRT_9, SBAR_9, S_10, VP_11, PRT_8, NML_12, S_15, VP_17, QP_9, SBAR_1, QP_2, ADJP_7, PRT_4, QP_7, CONJP_10, PP_13, WHADVP_2, CLN, EX, NML_11, QP_8, QP_5, QP_3, SMCLN, ADVP_5, QP_6, UCP_4, WHNP_5, ADVP_10, WHADVP_5, SBAR_8, PRT_12, INTJ_3, ADJP_1, RBS, QP_4, _lrb_, _rrb_, PRT_10, WHADVP_6, FRAG_0, UCP_3, CONJP_4, ADJP_11, EM, WHNP_3, PRN_1, INTJ_6, PRN_2, DASH, PRN_4, SBAR_7, S_8, PRN_7, INTJ_8, ADVP_8, ADJP_10, CONJP_2, PRN_9, SBAR_0, INTJ_9, X_2, X_1, SBARQ_2, SQ_3, CONJP_7, QP_1, ADJP_12, SBARQ_5, PP_14, NP_15, SQ_6, ADVP_11, SBAR_12, WHNP_13, ADVP_15, PP_16, WHPP_1, ADVP_12, PRN_3, FRAG_9, PRT_11, PP_15, NP_16, ADJP_9, CONJP_5, SBAR_11, WHNP_12, S_12, WHNP_7, UCP_12, ADJP_15, INTJ_10, SBAR_10, PRT_14, WHNP_8, SBARQ_1, SQ_2, INTJ_7, WHNP_10, PRN_8, INTJ_11, UCP_2, WP_DLR, NML_16, NML_17, NP_18, ADJP_18, QP_14, PP_17, WHNP_9, ADVP_14, PRN_6, ADJP_13, QP_10, NML_15, OQTM, QTM, FRAG_5, WHADJP_3, CONJP_8, WHADJP_1, UCP_7, LST_5, LS, QP_11, UCP_1, WHPP_3, LST_1, NAC_2, NAC_6, ADJP_14, UCP_10, QP_12, UCP_6, PRN_5, WHNP_11, WHADJP_2, NML_13, NML_18, SYM, WHADVP_9, ADJP_16, SBARQ_3, SQ_5, X_4, RRC_2, WHADVP_10, FRAG_1, AFX, SQ_4, ADVP_13, SBARQ_7, WHADVP_8, SQ_8, WHADVP_12, INTJ_15, UCP_9, PRN_12, SBARQ_8, SQ_9, FRAG_2, NAC_3, PRT_13, SINV_7, WHADVP_11, WHPP_4, SBARQ_4, WHPP_10, SINV_10, INTJ_12, FW, WHADJP_4, INTJ_16, ADVP_18, WHADJP_6, UCP_5, S_14, FRAG_4, RRC_5, FRAG_3, X_3, PRN_13, SINV_14, INTJ_13, WHADVP_7, QP_15, QP_16, SBAR_14, WHNP_15, SBAR_13, X_9, PRN_11, SQ_10, SQ_11, CONJP_1, WHADVP_13, CONJP_9, QP_17, NAC_10, SBAR_15, WHNP_16, S_16, PRT_18, WHPP_6, CONJP_3, PRN_10, WHPP_7, PRN_14, WHADVP_15, PRT_15, WHADJP_5, ADVP_16, WHNP_14, VP_18, PP_18, PRN_16, S_17, FRAG_6, NAC_5, SINV_3, FRAG_7, UCP_8, WHPP_8, WHPP_5, NML_1, CONJP_16, RRC_3, X_5, CONJP_13, NAC_7, ADJP_17, CONJP_14, SINV_5, INTJ_14, SINV_1, RRC_9, SBARQ_6, SQ_7, SINV_8, WHADJP_8, WHPP_9, SINV_4, LST_3, SINV_2, WHPP_13, X_7, INTJ_17, QP_13, NAC_9, X_8, PRT_16, NAC_8, WHADJP_7, NAC_4, QP_18, WHADVP_14, FRAG_13, X_11, WHADJP_10, PRT_1, SBARQ_10, WHPP_2, INTJ_18, NAC_1, PRT_17, UCP_14, CONJP_6, SINV_6, NAC_12, META_3, UCP_11, FRAG_12, X_6, X_10, DLR, WHPP_12, CONJP_12, META_5, RRC_12, SQ_12, ELPSS, META_2, RRC_7, RRC_4, FRAG_8, RRC_11, RRC_6, RRC_8, SBAR_16, FRAG_10, WHPP_14, LST_10, LST_8, RRC_10, SINV_12, META_6, WHADJP_11, NFP, WHADJP_9, UCP_15, RRC_1, PRN_15, LST_7, HPHN, WHADJP_16, RRC_13, WHADVP_16, X_12, WHADVP_17, WHPP_11, CONJP_11, UCP_13, UCP_17, SINV_9, WHADJP_17, WHADJP_14, FRAG_11, WHADJP_13, WHPP_17, WHNP_18, WHNP_17, RRC_14, FRAG_17, SBARQ_11, SINV_13, UCP_16, LST_2, NX_8, NX_9, NX_3, NX_4, NX_6, NX_7, NX_5, NX_13, NX_14, NAC_13, NX_2, NX_10, NX_11, NAC_11, FRAG_14, CONJP_15, WHPP_15, SINV_11, LST_4, WHPP_16, X_15, SINV_17, WHADJP_12, EMBED_3, EMBED_1, EMBED_6, EMBED_4, EMBED_2, EMBED_7, EMBED_5, EMBED_9, EMBED_8, EMBED_14, SBARQ_9, EMBED_11, EMBED_10, EMBED_12, EMBED_16, EMBED_13, LST_6, LST_9, WHADJP_15, NAC_14, SBARQ_16, LST_11, LST_12, X_16, EMBED_15, CONJP_17, META_1, SBARQ_12, SQ_13])"
      ]
     },
     "execution_count": 102,
     "metadata": {},
     "output_type": "execute_result"
    }
   ],
   "source": [
    "productions_dict.keys()"
   ]
  },
  {
   "cell_type": "markdown",
   "id": "aa5ac31c",
   "metadata": {},
   "source": [
    "# Productions dict to grammar"
   ]
  },
  {
   "cell_type": "markdown",
   "id": "8ed25ee4",
   "metadata": {},
   "source": [
    "## To JSON"
   ]
  },
  {
   "cell_type": "code",
   "execution_count": 103,
   "id": "57375e51",
   "metadata": {},
   "outputs": [],
   "source": [
    "from collections import defaultdict"
   ]
  },
  {
   "cell_type": "code",
   "execution_count": 104,
   "id": "e814851d",
   "metadata": {},
   "outputs": [
    {
     "name": "stderr",
     "output_type": "stream",
     "text": [
      "100%|██████████| 522/522 [00:00<00:00, 3241.18it/s]\n"
     ]
    }
   ],
   "source": [
    "ALL_RHS = list(productions_dict.keys())\n",
    "prod_to_json = defaultdict(list)\n",
    "for lhs in tqdm(ALL_RHS):\n",
    "    left = str(lhs)\n",
    "    for i, rhs_tuple in enumerate(productions_dict[lhs]):\n",
    "        right = \"\"\n",
    "        for rhs in rhs_tuple:\n",
    "            if isinstance(rhs, Nonterminal):\n",
    "                # prod_to_json[left].append(str(rhs))\n",
    "                right += str(rhs) + \" \"\n",
    "            else:\n",
    "                prod_to_json[left].append('\\\"' + rhs + '\\\"')\n",
    "        if right != \"\":\n",
    "            prod_to_json[left].append(right.strip())"
   ]
  },
  {
   "cell_type": "code",
   "execution_count": 105,
   "id": "eda71378",
   "metadata": {},
   "outputs": [],
   "source": [
    "import json"
   ]
  },
  {
   "cell_type": "code",
   "execution_count": 106,
   "id": "8482661f",
   "metadata": {},
   "outputs": [],
   "source": [
    "with open('ontonotesv5_gram.json', 'w') as f:\n",
    "    json.dump(prod_to_json, f, indent=4)"
   ]
  },
  {
   "cell_type": "code",
   "execution_count": null,
   "id": "c7dd9c7c",
   "metadata": {},
   "outputs": [],
   "source": []
  }
 ],
 "metadata": {
  "kernelspec": {
   "display_name": ".venv",
   "language": "python",
   "name": "python3"
  },
  "language_info": {
   "codemirror_mode": {
    "name": "ipython",
    "version": 3
   },
   "file_extension": ".py",
   "mimetype": "text/x-python",
   "name": "python",
   "nbconvert_exporter": "python",
   "pygments_lexer": "ipython3",
   "version": "3.12.3"
  }
 },
 "nbformat": 4,
 "nbformat_minor": 5
}
